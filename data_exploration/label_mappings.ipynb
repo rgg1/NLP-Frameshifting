{
 "cells": [
  {
   "cell_type": "markdown",
   "metadata": {},
   "source": [
    "File for Creating Labeled Speeches"
   ]
  },
  {
   "cell_type": "code",
   "execution_count": 24,
   "metadata": {},
   "outputs": [],
   "source": [
    "import pandas as pd"
   ]
  },
  {
   "cell_type": "code",
   "execution_count": 48,
   "metadata": {},
   "outputs": [],
   "source": [
    "# File paths for the original files\n",
    "speeches_file = \"../small_speech_data/speeches_113_trimmed.txt\"\n",
    "topics_file = \"../data_exploration/speech_topic_mapping.csv\"\n",
    "# File path for the new output file\n",
    "output_file = \"formatted_speeches_with_topics.csv\""
   ]
  },
  {
   "cell_type": "code",
   "execution_count": 52,
   "metadata": {},
   "outputs": [
    {
     "name": "stdout",
     "output_type": "stream",
     "text": [
      "    speech_id                                     speech_content  \\\n",
      "0  1130000002  As directed by law. the Clerk of the House has...   \n",
      "1  1130000004  Credentials form. have been received election ...   \n",
      "2  1130000005  The Clerk now recognizes the gentleman from Ca...   \n",
      "3  1130000006  Madam Clerk. this is the peoples House. and ev...   \n",
      "4  1130000007  The names of the Honorable JOHN A. BOEHNER. a ...   \n",
      "\n",
      "                                       topics  \n",
      "0                         federalism, justice  \n",
      "1                                     foreign  \n",
      "2                                     justice  \n",
      "3  elections, federalism, justice, minorities  \n",
      "4                         federalism, justice  \n",
      "New file created: formatted_speeches_with_topics.csv\n"
     ]
    }
   ],
   "source": [
    "speeches_df = pd.read_csv(speeches_file, delimiter=\"|\", header=0, names=[\"speech_id\", \"speech_content\"])\n",
    "topics_df = pd.read_csv(topics_file, header=0, names=[\"speech_id\", \"topics\"])\n",
    "\n",
    "\n",
    "# Ensure 'speech_id' is of the same type in both DataFrames (convert to string in both)\n",
    "speeches_df[\"speech_id\"] = speeches_df[\"speech_id\"].astype(str)\n",
    "topics_df[\"speech_id\"] = topics_df[\"speech_id\"].astype(str)\n",
    "\n",
    "# Remove any rows where 'speech_id' equals the column name (e.g., 'speech_id')\n",
    "topics_df = topics_df[topics_df[\"speech_id\"] != \"speech_id\"]\n",
    "\n",
    "# Remove rows with NaN values in the 'topics' column\n",
    "topics_df = topics_df.dropna(subset=[\"topics\"])\n",
    "\n",
    "# Create a new DataFrame with the desired format by matching IDs\n",
    "formatted_df = pd.merge(topics_df, speeches_df, on=\"speech_id\", how=\"inner\")\n",
    "\n",
    "# Reorder the columns for the desired output format\n",
    "formatted_df = formatted_df[[\"speech_id\", \"speech_content\", \"topics\"]]\n",
    "\n",
    "# Preview the formatted DataFrame\n",
    "print(formatted_df.head())\n",
    "\n",
    "# Save to CSV (optional)\n",
    "output_file = \"formatted_speeches_with_topics.csv\"\n",
    "formatted_df.to_csv(output_file, index=False)\n",
    "print(f\"New file created: {output_file}\")"
   ]
  },
  {
   "cell_type": "code",
   "execution_count": 36,
   "metadata": {},
   "outputs": [
    {
     "name": "stdout",
     "output_type": "stream",
     "text": [
      "Empty DataFrame\n",
      "Columns: [speech_id, speech_content, topics]\n",
      "Index: []\n"
     ]
    }
   ],
   "source": []
  }
 ],
 "metadata": {
  "kernelspec": {
   "display_name": "base",
   "language": "python",
   "name": "python3"
  },
  "language_info": {
   "codemirror_mode": {
    "name": "ipython",
    "version": 3
   },
   "file_extension": ".py",
   "mimetype": "text/x-python",
   "name": "python",
   "nbconvert_exporter": "python",
   "pygments_lexer": "ipython3",
   "version": "3.11.9"
  }
 },
 "nbformat": 4,
 "nbformat_minor": 2
}
