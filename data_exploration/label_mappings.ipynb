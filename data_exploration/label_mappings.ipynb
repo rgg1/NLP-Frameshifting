{
 "cells": [
  {
   "cell_type": "markdown",
   "metadata": {},
   "source": [
    "File for Creating Labeled Speeches"
   ]
  },
  {
   "cell_type": "code",
   "execution_count": 24,
   "metadata": {},
   "outputs": [],
   "source": [
    "import pandas as pd"
   ]
  },
  {
   "cell_type": "code",
   "execution_count": 48,
   "metadata": {},
   "outputs": [],
   "source": [
    "# File paths for the original files\n",
    "speeches_file = \"../small_speech_data/speeches_113_trimmed.txt\"\n",
    "topics_file = \"../data_exploration/speech_topic_mapping.csv\"\n",
    "# File path for the new output file\n",
    "output_file = \"formatted_speeches_with_topics.csv\""
   ]
  },
  {
   "cell_type": "code",
   "execution_count": 40,
   "metadata": {},
   "outputs": [
    {
     "name": "stdout",
     "output_type": "stream",
     "text": [
      "speeches head\n",
      "    speech_id                                     speech_content\n",
      "0  1140000001  The Representativeselect and their guests will...\n",
      "1  1140000002  As directed by law. the Clerk of the House has...\n",
      "2  1140000003  Four hundred and one Represent ativeselect hav...\n",
      "3  1140000004  Credentials. regular in form. have been receiv...\n",
      "4  1140000005  The Clerk is in receipt of a letter from the H...\n",
      "topics head\n",
      "    speech_id               topics\n",
      "0   speech_id               topics\n",
      "1  1130000001                  NaN\n",
      "2  1130000002  federalism, justice\n",
      "3  1130000003                  NaN\n",
      "4  1130000004              foreign\n"
     ]
    },
    {
     "ename": "ValueError",
     "evalue": "You are trying to merge on object and int64 columns for key 'speech_id'. If you wish to proceed you should use pd.concat",
     "output_type": "error",
     "traceback": [
      "\u001b[0;31m---------------------------------------------------------------------------\u001b[0m",
      "\u001b[0;31mValueError\u001b[0m                                Traceback (most recent call last)",
      "Cell \u001b[0;32mIn[40], line 11\u001b[0m\n\u001b[1;32m      8\u001b[0m \u001b[38;5;28mprint\u001b[39m(topics_df\u001b[38;5;241m.\u001b[39mhead())\n\u001b[1;32m     10\u001b[0m \u001b[38;5;66;03m# Create a new DataFrame with the desired format by matching IDs\u001b[39;00m\n\u001b[0;32m---> 11\u001b[0m formatted_df \u001b[38;5;241m=\u001b[39m pd\u001b[38;5;241m.\u001b[39mmerge(topics_df, speeches_df, on\u001b[38;5;241m=\u001b[39m\u001b[38;5;124m\"\u001b[39m\u001b[38;5;124mspeech_id\u001b[39m\u001b[38;5;124m\"\u001b[39m, how\u001b[38;5;241m=\u001b[39m\u001b[38;5;124m\"\u001b[39m\u001b[38;5;124minner\u001b[39m\u001b[38;5;124m\"\u001b[39m)\n\u001b[1;32m     13\u001b[0m \u001b[38;5;66;03m# Reorder the columns for the desired output format\u001b[39;00m\n\u001b[1;32m     14\u001b[0m formatted_df \u001b[38;5;241m=\u001b[39m formatted_df[[\u001b[38;5;124m\"\u001b[39m\u001b[38;5;124mspeech_id\u001b[39m\u001b[38;5;124m\"\u001b[39m, \u001b[38;5;124m\"\u001b[39m\u001b[38;5;124mspeech_content\u001b[39m\u001b[38;5;124m\"\u001b[39m, \u001b[38;5;124m\"\u001b[39m\u001b[38;5;124mtopics\u001b[39m\u001b[38;5;124m\"\u001b[39m]]\n",
      "File \u001b[0;32m/opt/anaconda3/lib/python3.11/site-packages/pandas/core/reshape/merge.py:170\u001b[0m, in \u001b[0;36mmerge\u001b[0;34m(left, right, how, on, left_on, right_on, left_index, right_index, sort, suffixes, copy, indicator, validate)\u001b[0m\n\u001b[1;32m    155\u001b[0m     \u001b[38;5;28;01mreturn\u001b[39;00m _cross_merge(\n\u001b[1;32m    156\u001b[0m         left_df,\n\u001b[1;32m    157\u001b[0m         right_df,\n\u001b[0;32m   (...)\u001b[0m\n\u001b[1;32m    167\u001b[0m         copy\u001b[38;5;241m=\u001b[39mcopy,\n\u001b[1;32m    168\u001b[0m     )\n\u001b[1;32m    169\u001b[0m \u001b[38;5;28;01melse\u001b[39;00m:\n\u001b[0;32m--> 170\u001b[0m     op \u001b[38;5;241m=\u001b[39m _MergeOperation(\n\u001b[1;32m    171\u001b[0m         left_df,\n\u001b[1;32m    172\u001b[0m         right_df,\n\u001b[1;32m    173\u001b[0m         how\u001b[38;5;241m=\u001b[39mhow,\n\u001b[1;32m    174\u001b[0m         on\u001b[38;5;241m=\u001b[39mon,\n\u001b[1;32m    175\u001b[0m         left_on\u001b[38;5;241m=\u001b[39mleft_on,\n\u001b[1;32m    176\u001b[0m         right_on\u001b[38;5;241m=\u001b[39mright_on,\n\u001b[1;32m    177\u001b[0m         left_index\u001b[38;5;241m=\u001b[39mleft_index,\n\u001b[1;32m    178\u001b[0m         right_index\u001b[38;5;241m=\u001b[39mright_index,\n\u001b[1;32m    179\u001b[0m         sort\u001b[38;5;241m=\u001b[39msort,\n\u001b[1;32m    180\u001b[0m         suffixes\u001b[38;5;241m=\u001b[39msuffixes,\n\u001b[1;32m    181\u001b[0m         indicator\u001b[38;5;241m=\u001b[39mindicator,\n\u001b[1;32m    182\u001b[0m         validate\u001b[38;5;241m=\u001b[39mvalidate,\n\u001b[1;32m    183\u001b[0m     )\n\u001b[1;32m    184\u001b[0m     \u001b[38;5;28;01mreturn\u001b[39;00m op\u001b[38;5;241m.\u001b[39mget_result(copy\u001b[38;5;241m=\u001b[39mcopy)\n",
      "File \u001b[0;32m/opt/anaconda3/lib/python3.11/site-packages/pandas/core/reshape/merge.py:807\u001b[0m, in \u001b[0;36m_MergeOperation.__init__\u001b[0;34m(self, left, right, how, on, left_on, right_on, left_index, right_index, sort, suffixes, indicator, validate)\u001b[0m\n\u001b[1;32m    803\u001b[0m \u001b[38;5;28mself\u001b[39m\u001b[38;5;241m.\u001b[39m_validate_tolerance(\u001b[38;5;28mself\u001b[39m\u001b[38;5;241m.\u001b[39mleft_join_keys)\n\u001b[1;32m    805\u001b[0m \u001b[38;5;66;03m# validate the merge keys dtypes. We may need to coerce\u001b[39;00m\n\u001b[1;32m    806\u001b[0m \u001b[38;5;66;03m# to avoid incompatible dtypes\u001b[39;00m\n\u001b[0;32m--> 807\u001b[0m \u001b[38;5;28mself\u001b[39m\u001b[38;5;241m.\u001b[39m_maybe_coerce_merge_keys()\n\u001b[1;32m    809\u001b[0m \u001b[38;5;66;03m# If argument passed to validate,\u001b[39;00m\n\u001b[1;32m    810\u001b[0m \u001b[38;5;66;03m# check if columns specified as unique\u001b[39;00m\n\u001b[1;32m    811\u001b[0m \u001b[38;5;66;03m# are in fact unique.\u001b[39;00m\n\u001b[1;32m    812\u001b[0m \u001b[38;5;28;01mif\u001b[39;00m validate \u001b[38;5;129;01mis\u001b[39;00m \u001b[38;5;129;01mnot\u001b[39;00m \u001b[38;5;28;01mNone\u001b[39;00m:\n",
      "File \u001b[0;32m/opt/anaconda3/lib/python3.11/site-packages/pandas/core/reshape/merge.py:1508\u001b[0m, in \u001b[0;36m_MergeOperation._maybe_coerce_merge_keys\u001b[0;34m(self)\u001b[0m\n\u001b[1;32m   1502\u001b[0m     \u001b[38;5;66;03m# unless we are merging non-string-like with string-like\u001b[39;00m\n\u001b[1;32m   1503\u001b[0m     \u001b[38;5;28;01melif\u001b[39;00m (\n\u001b[1;32m   1504\u001b[0m         inferred_left \u001b[38;5;129;01min\u001b[39;00m string_types \u001b[38;5;129;01mand\u001b[39;00m inferred_right \u001b[38;5;129;01mnot\u001b[39;00m \u001b[38;5;129;01min\u001b[39;00m string_types\n\u001b[1;32m   1505\u001b[0m     ) \u001b[38;5;129;01mor\u001b[39;00m (\n\u001b[1;32m   1506\u001b[0m         inferred_right \u001b[38;5;129;01min\u001b[39;00m string_types \u001b[38;5;129;01mand\u001b[39;00m inferred_left \u001b[38;5;129;01mnot\u001b[39;00m \u001b[38;5;129;01min\u001b[39;00m string_types\n\u001b[1;32m   1507\u001b[0m     ):\n\u001b[0;32m-> 1508\u001b[0m         \u001b[38;5;28;01mraise\u001b[39;00m \u001b[38;5;167;01mValueError\u001b[39;00m(msg)\n\u001b[1;32m   1510\u001b[0m \u001b[38;5;66;03m# datetimelikes must match exactly\u001b[39;00m\n\u001b[1;32m   1511\u001b[0m \u001b[38;5;28;01melif\u001b[39;00m needs_i8_conversion(lk\u001b[38;5;241m.\u001b[39mdtype) \u001b[38;5;129;01mand\u001b[39;00m \u001b[38;5;129;01mnot\u001b[39;00m needs_i8_conversion(rk\u001b[38;5;241m.\u001b[39mdtype):\n",
      "\u001b[0;31mValueError\u001b[0m: You are trying to merge on object and int64 columns for key 'speech_id'. If you wish to proceed you should use pd.concat"
     ]
    }
   ],
   "source": [
    "# Read the original files\n",
    "speeches_df = pd.read_csv(speeches_file, delimiter=\"|\", header=0, names=[\"speech_id\", \"speech_content\"])\n",
    "topics_df = pd.read_csv(topics_file, header=None, names=[\"speech_id\", \"topics\"])\n",
    "\n",
    "print(\"speeches head\")\n",
    "print(speeches_df.head())\n",
    "print(\"topics head\")\n",
    "print(topics_df.head())\n",
    "\n",
    "# Create a new DataFrame with the desired format by matching IDs\n",
    "formatted_df = pd.merge(topics_df, speeches_df, on=\"speech_id\", how=\"inner\")\n",
    "\n",
    "# Reorder the columns for the desired output format\n",
    "formatted_df = formatted_df[[\"speech_id\", \"speech_content\", \"topics\"]]\n",
    "\n",
    "# Save the formatted data to a new CSV file without editing the originals\n",
    "# formatted_df.to_csv(output_file, index=False)\n",
    "\n",
    "print(formatted_df.head())\n",
    "\n",
    "print(f\"New file created: {output_file}\")"
   ]
  },
  {
   "cell_type": "code",
   "execution_count": 52,
   "metadata": {},
   "outputs": [
    {
     "name": "stdout",
     "output_type": "stream",
     "text": [
      "    speech_id                                     speech_content  \\\n",
      "0  1130000002  As directed by law. the Clerk of the House has...   \n",
      "1  1130000004  Credentials form. have been received election ...   \n",
      "2  1130000005  The Clerk now recognizes the gentleman from Ca...   \n",
      "3  1130000006  Madam Clerk. this is the peoples House. and ev...   \n",
      "4  1130000007  The names of the Honorable JOHN A. BOEHNER. a ...   \n",
      "\n",
      "                                       topics  \n",
      "0                         federalism, justice  \n",
      "1                                     foreign  \n",
      "2                                     justice  \n",
      "3  elections, federalism, justice, minorities  \n",
      "4                         federalism, justice  \n",
      "New file created: formatted_speeches_with_topics.csv\n"
     ]
    }
   ],
   "source": [
    "speeches_df = pd.read_csv(speeches_file, delimiter=\"|\", header=0, names=[\"speech_id\", \"speech_content\"])\n",
    "topics_df = pd.read_csv(topics_file, header=0, names=[\"speech_id\", \"topics\"])\n",
    "\n",
    "\n",
    "# Ensure 'speech_id' is of the same type in both DataFrames (convert to string in both)\n",
    "speeches_df[\"speech_id\"] = speeches_df[\"speech_id\"].astype(str)\n",
    "topics_df[\"speech_id\"] = topics_df[\"speech_id\"].astype(str)\n",
    "\n",
    "# Remove any rows where 'speech_id' equals the column name (e.g., 'speech_id')\n",
    "topics_df = topics_df[topics_df[\"speech_id\"] != \"speech_id\"]\n",
    "\n",
    "# Remove rows with NaN values in the 'topics' column\n",
    "topics_df = topics_df.dropna(subset=[\"topics\"])\n",
    "\n",
    "# Create a new DataFrame with the desired format by matching IDs\n",
    "formatted_df = pd.merge(topics_df, speeches_df, on=\"speech_id\", how=\"inner\")\n",
    "\n",
    "# Reorder the columns for the desired output format\n",
    "formatted_df = formatted_df[[\"speech_id\", \"speech_content\", \"topics\"]]\n",
    "\n",
    "# Preview the formatted DataFrame\n",
    "print(formatted_df.head())\n",
    "\n",
    "# Save to CSV (optional)\n",
    "output_file = \"formatted_speeches_with_topics.csv\"\n",
    "formatted_df.to_csv(output_file, index=False)\n",
    "print(f\"New file created: {output_file}\")"
   ]
  },
  {
   "cell_type": "code",
   "execution_count": 36,
   "metadata": {},
   "outputs": [
    {
     "name": "stdout",
     "output_type": "stream",
     "text": [
      "Empty DataFrame\n",
      "Columns: [speech_id, speech_content, topics]\n",
      "Index: []\n"
     ]
    }
   ],
   "source": []
  }
 ],
 "metadata": {
  "kernelspec": {
   "display_name": "base",
   "language": "python",
   "name": "python3"
  },
  "language_info": {
   "codemirror_mode": {
    "name": "ipython",
    "version": 3
   },
   "file_extension": ".py",
   "mimetype": "text/x-python",
   "name": "python",
   "nbconvert_exporter": "python",
   "pygments_lexer": "ipython3",
   "version": "3.11.9"
  }
 },
 "nbformat": 4,
 "nbformat_minor": 2
}
