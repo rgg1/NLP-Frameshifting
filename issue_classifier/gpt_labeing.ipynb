{
 "cells": [
  {
   "cell_type": "code",
   "execution_count": null,
   "metadata": {},
   "outputs": [],
   "source": [
    "# Imports\n",
    "\n",
    "import os\n",
    "import json\n",
    "from typing import Dict, List\n",
    "import openai\n",
    "from tqdm import tqdm\n",
    "from pydantic import BaseModel\n",
    "from dotenv import load_dotenv\n",
    "from collections import Counter\n",
    "import random\n",
    "\n",
    "load_dotenv()\n",
    "client = openai.OpenAI(api_key=os.environ.get(\"OPENAI_API_KEY\"))"
   ]
  },
  {
   "cell_type": "code",
   "execution_count": 49,
   "metadata": {},
   "outputs": [],
   "source": [
    "# JSON schema for gpt output (structured outputs)\n",
    "\n",
    "class Speech(BaseModel):\n",
    "    speech_id: str\n",
    "    topics: List[str]\n",
    "    \n",
    "class Speeches(BaseModel):\n",
    "    speeches: List[Speech]"
   ]
  },
  {
   "cell_type": "code",
   "execution_count": 50,
   "metadata": {},
   "outputs": [],
   "source": [
    "def read_speech_file(file_path: str) -> Dict[str, str]:\n",
    "    \"\"\"\n",
    "    Reads a speech file and returns a dictionary mapping speech_ids to speeches.\n",
    "    Only includes speeches with more than 35 words and less than 400 words.\n",
    "    Handles and logs problematic lines without stopping the process.\n",
    "\n",
    "    Args:\n",
    "        file_path (str): Path to the speech file\n",
    "\n",
    "    Returns:\n",
    "        Dict[str, str]: Dictionary mapping speech_ids to speeches\n",
    "    \"\"\"\n",
    "    speeches = {}\n",
    "    with open(file_path, 'r', encoding='utf-8', errors='replace') as file:\n",
    "        # Skip header line\n",
    "        next(file)\n",
    "        for line_number, line in enumerate(file, start=2):  # Start at 2 to account for header\n",
    "            try:\n",
    "                # Replace unknown characters with space\n",
    "                cleaned_line = line.replace('�', ' ')\n",
    "                # Split on pipe character - column delimmiter\n",
    "                parts = line.strip().split('|')\n",
    "                if len(parts) == 2:\n",
    "                    speech_id, speech = parts\n",
    "                    # Only add speech if it has more than 35 words and less than 400 words\n",
    "                    word_count = len(speech.split())\n",
    "                    if 35 < word_count < 400:\n",
    "                        speeches[speech_id] = speech\n",
    "            except Exception as e:\n",
    "                # Log the problematic line and continue\n",
    "                print(f\"Error processing line {line_number}: {line.strip()}\\nException: {e}\")\n",
    "    return speeches"
   ]
  },
  {
   "cell_type": "code",
   "execution_count": 51,
   "metadata": {},
   "outputs": [],
   "source": [
    "def chunk_speeches(speeches: Dict[str, str], max_chunk_size: int = 20000) -> List[Dict[str, str]]:\n",
    "    \"\"\"\n",
    "    Splits speeches into chunks while keeping individual speeches intact.\n",
    "\n",
    "    Args:\n",
    "        speeches (Dict[str, str]): Dictionary mapping speech_ids to speeches\n",
    "        max_chunk_size (int): Maximum size of each chunk in characters\n",
    "\n",
    "    Returns:\n",
    "        List[Dict[str, str]]: List of dictionaries mapping speech_ids to speechess\n",
    "            such that the total size of speeches in each dictionary is less than or\n",
    "            equal to max_chunk_size\n",
    "    \"\"\"\n",
    "    chunks = []\n",
    "    current_chunk = {}\n",
    "    current_size = 0\n",
    "    \n",
    "    for speech_id, speech in speeches.items():\n",
    "        speech_size = len(speech)\n",
    "        \n",
    "        # If adding this speech would exceed max size and we already have speeches,\n",
    "        # start a new chunk\n",
    "        if current_size + speech_size > max_chunk_size and current_chunk:\n",
    "            chunks.append(current_chunk)\n",
    "            current_chunk = {}\n",
    "            current_size = 0\n",
    "            \n",
    "        current_chunk[speech_id] = speech\n",
    "        current_size += speech_size\n",
    "    \n",
    "    # Add the last chunk if it's not empty\n",
    "    if current_chunk:\n",
    "        chunks.append(current_chunk)\n",
    "    \n",
    "    return chunks"
   ]
  },
  {
   "cell_type": "code",
   "execution_count": 52,
   "metadata": {},
   "outputs": [],
   "source": [
    "def extract_speech_topics(speeches: Dict[str, str]):\n",
    "    \"\"\"\n",
    "    Uses OpenAI's API to extract topics from the given speeches.\n",
    "\n",
    "    Args:\n",
    "        speeches (Dict[str, str]): Dictionary mapping speech_ids to speeches\n",
    "\n",
    "    Returns:\n",
    "        JSON Schema formatted output. Key is \"speeches\" and value is a list of objects\n",
    "            where each object has a \"speech_id\" and a \"topics\" list.\n",
    "    \"\"\"\n",
    "    # Prepare the speeches for analysis\n",
    "    speeches_text = \"\\n\\n\".join([f\"Speech ID: {id}\\nContent: {text}\" for id, text in speeches.items()])\n",
    "    \n",
    "    try:\n",
    "        response = client.chat.completions.create(\n",
    "            model=\"gpt-4o-mini\",\n",
    "            messages=[\n",
    "                {\n",
    "                    \"role\": \"system\",\n",
    "                    \"content\": \"\"\"\n",
    "                    Analyze each speech and identify its relevant topics. Topics should be chosen from this fixed list:\n",
    "                    - Governance and Democracy\n",
    "                    - Economy and Jobs\n",
    "                    - Health and Social Services\n",
    "                    - Education and Innovation\n",
    "                    - Environment and Energy\n",
    "                    - Defense and Security\n",
    "                    - Immigration and Border Policy\n",
    "                    - Justice and Civil Rights\n",
    "                    - Infrastructure and Transportation\n",
    "                    - Budget and Fiscal Responsibility\n",
    "\n",
    "                    For each speech, assign one or more topics that best match its content.\n",
    "                    Output should be in JSON format containing a list of objects, each with a speech_id and its corresponding topics list.\n",
    "                    Be precise and thorough in topic assignment. Choose ONLY from the provided list of topics.\n",
    "                    \"\"\"\n",
    "                },\n",
    "                {\n",
    "                    \"role\": \"user\",\n",
    "                    \"content\": speeches_text\n",
    "                }\n",
    "            ],\n",
    "            response_format={\n",
    "                \"type\": \"json_schema\",\n",
    "                \"json_schema\": \n",
    "                    {\n",
    "                        \"name\":\"_\", \n",
    "                        \"schema\": Speeches.model_json_schema()\n",
    "                    }\n",
    "            },\n",
    "            temperature=0.3,\n",
    "            timeout=600  # 10 minute timeout\n",
    "        )\n",
    "        \n",
    "        return response.choices[0].message.content\n",
    "    except Exception as e:\n",
    "        print(f\"Error during API call: {str(e)}\")\n",
    "        raise"
   ]
  },
  {
   "cell_type": "code",
   "execution_count": 53,
   "metadata": {},
   "outputs": [],
   "source": [
    "def process_speech_file(file_path: str, output_dir: str, max_chunks: int=None):\n",
    "    \"\"\"\n",
    "    Process a speech file and save the results.\n",
    "\n",
    "    Args:\n",
    "        file_path (str): Path to the speech file\n",
    "        output_dir (str): Directory to save the results\n",
    "        max_chunks (int): Maximum number of chunks to process\n",
    "\n",
    "    Returns:\n",
    "        None\n",
    "    \"\"\"\n",
    "    print(f\"Processing file: {file_path}\")\n",
    "    \n",
    "    # Read speeches - > turn into dictionary of speech_id: speech_text\n",
    "    speeches = read_speech_file(file_path)\n",
    "    print(f\"Found {len(speeches)} speeches\")\n",
    "    \n",
    "    # Split into chunks\n",
    "    chunks = chunk_speeches(speeches)\n",
    "    print(f\"Split into {len(chunks)} chunks\")\n",
    "    \n",
    "    # Process each chunk and combine results\n",
    "    all_results = {}\n",
    "\n",
    "    # don't process chunks sequentially, instead loop through a\n",
    "    # random order of indices to process the chunks in a random order\n",
    "    chunk_indices = list(range(len(chunks)))\n",
    "    random.shuffle(chunk_indices)\n",
    "    chunk_count = 0\n",
    "    for i in tqdm(chunk_indices, desc=\"Processing chunks\"):\n",
    "        chunk_count += 1\n",
    "        chunk = chunks[i]\n",
    "        try:\n",
    "            # Get topics for speeches in this chunk\n",
    "            topics_json = extract_speech_topics(chunk)\n",
    "            topics_results = json.loads(topics_json)\n",
    "            \n",
    "            # Combine speech text with topics\n",
    "            for speech in topics_results[\"speeches\"]:\n",
    "                speech_id = speech[\"speech_id\"]\n",
    "                all_results[speech_id] = {\n",
    "                    \"speech\": speeches[speech_id],\n",
    "                    \"topics\": speech[\"topics\"]\n",
    "                }\n",
    "            \n",
    "            # print for every 10 chunks we process\n",
    "            if (chunk_count) % 10 == 0:\n",
    "                print(f\"Successfully processed chunk {chunk_count}\")\n",
    "\n",
    "            # Stop if we've reached the maximum number of chunks (if we set a limit)\n",
    "            if max_chunks and chunk_count >= max_chunks:\n",
    "                break\n",
    "        except Exception as e:\n",
    "            print(f\"Error processing chunk {i}: {str(e)}\")\n",
    "            continue\n",
    "\n",
    "    # Save results\n",
    "    output_file = os.path.join(output_dir, os.path.basename(file_path).replace('.txt', '_gpt_topic_labels.json'))\n",
    "    os.makedirs(output_dir, exist_ok=True)\n",
    "    \n",
    "    with open(output_file, 'w') as f:\n",
    "        json.dump(all_results, f, indent=2)\n",
    "    \n",
    "    print(f\"\\nResults saved to {output_file}\")"
   ]
  },
  {
   "cell_type": "code",
   "execution_count": null,
   "metadata": {},
   "outputs": [],
   "source": [
    "def analyze_topic_frequencies(input_dir: str, suffix:str='_gpt_topic_labels.json') -> Dict[str, int]:\n",
    "    \"\"\"\n",
    "    Analyze JSON files in the input directory and count topic frequencies.\n",
    "    \n",
    "    Args:\n",
    "        input_dir: Directory containing the speech analysis JSON files\n",
    "        suffix: Suffix of the JSON files to analyze\n",
    "        \n",
    "    Returns:\n",
    "        Dictionary mapping topics to their frequencies\n",
    "    \"\"\"\n",
    "    # Initialize counter for topics\n",
    "    topic_counter = Counter()\n",
    "    \n",
    "    # Get all JSON files in directory\n",
    "    json_files = [f for f in os.listdir(input_dir) if f.endswith(suffix)]\n",
    "    \n",
    "    # Process each file\n",
    "    for filename in tqdm(json_files, desc=\"Processing files\"):\n",
    "        file_path = os.path.join(input_dir, filename)\n",
    "        \n",
    "        with open(file_path, 'r') as f:\n",
    "            data = json.load(f)\n",
    "            \n",
    "            # Go through each speech\n",
    "            for speech_id, speech_data in data.items():\n",
    "                # Add each topic to our counter\n",
    "                topic_counter.update(speech_data['topics'])\n",
    "    \n",
    "    # Convert Counter to dictionary and sort by frequency\n",
    "    topic_frequencies = dict(sorted(topic_counter.items(), key=lambda x: x[1], reverse=True))\n",
    "    \n",
    "    return topic_frequencies"
   ]
  },
  {
   "cell_type": "code",
   "execution_count": 55,
   "metadata": {},
   "outputs": [],
   "source": [
    "def print_topic_statistics(topic_frequencies: Dict[str, int]):\n",
    "    \"\"\"\n",
    "    Print formatted statistics about topic frequencies.\n",
    "\n",
    "    Args:\n",
    "        topic_frequencies: Dictionary mapping topics to their frequencie\n",
    "    \n",
    "    Returns:\n",
    "        None\n",
    "    \"\"\"\n",
    "    print(\"\\nTopic Frequencies:\")\n",
    "    print(\"-\" * 40)\n",
    "    \n",
    "    # Find the longest topic name for formatting\n",
    "    max_topic_length = max(len(topic) for topic in topic_frequencies.keys())\n",
    "    \n",
    "    # Print each topic and its count\n",
    "    for topic, count in topic_frequencies.items():\n",
    "        print(f\"{topic:<{max_topic_length}} : {count:>6}\")\n",
    "    \n",
    "    print(\"-\" * 40)\n",
    "    print(f\"Total topics mentioned: {sum(topic_frequencies.values())}\")"
   ]
  },
  {
   "cell_type": "code",
   "execution_count": null,
   "metadata": {},
   "outputs": [],
   "source": [
    "def process_speech_files(speech_files: List[str], input_dir: str, output_dir: str, max_chunks: int=None):\n",
    "    \"\"\"\n",
    "    Process multiple speech files.\n",
    "\n",
    "    Args:\n",
    "        speech_files: List of speech file names\n",
    "        input_dir: Directory containing the speech files\n",
    "        output_dir: Directory to save the results\n",
    "        max_chunks: Maximum number of chunks to process for each file\n",
    "\n",
    "    Returns:\n",
    "        None\n",
    "    \"\"\"\n",
    "    for file_name in tqdm(speech_files, desc=\"Processing files\"):\n",
    "        file_path = os.path.join(input_dir, file_name)\n",
    "        # get the specific file number, like for example 80 from 'speeches_080.txt'\n",
    "        file_num = file_name.split('_')[1].split('.')[0]\n",
    "        process_speech_file(file_path, output_dir, max_chunks)\n",
    "        print(f\"topic frequency graph for {file_num+'_gpt_topic_labels.json'}:\")\n",
    "        # print topic frequencies for each file as we process them\n",
    "        topic_frequencies_interim = analyze_topic_frequencies(output_dir, suffix=file_num+'_gpt_topic_labels.json')\n",
    "        print_topic_statistics(topic_frequencies_interim)"
   ]
  },
  {
   "cell_type": "code",
   "execution_count": null,
   "metadata": {},
   "outputs": [
    {
     "name": "stderr",
     "output_type": "stream",
     "text": [
      "Processing files:   0%|          | 0/33 [00:00<?, ?it/s]"
     ]
    },
    {
     "name": "stdout",
     "output_type": "stream",
     "text": [
      "Processing file: ../hein-bound/speeches_079.txt\n",
      "Found 77145 speeches\n",
      "Split into 2493 chunks\n"
     ]
    },
    {
     "name": "stderr",
     "output_type": "stream",
     "text": []
    },
    {
     "name": "stdout",
     "output_type": "stream",
     "text": [
      "Successfully processed chunk 10\n"
     ]
    },
    {
     "name": "stderr",
     "output_type": "stream",
     "text": []
    },
    {
     "name": "stdout",
     "output_type": "stream",
     "text": [
      "Successfully processed chunk 20\n"
     ]
    },
    {
     "name": "stderr",
     "output_type": "stream",
     "text": []
    },
    {
     "name": "stdout",
     "output_type": "stream",
     "text": [
      "Successfully processed chunk 30\n"
     ]
    },
    {
     "name": "stderr",
     "output_type": "stream",
     "text": []
    },
    {
     "name": "stdout",
     "output_type": "stream",
     "text": [
      "Successfully processed chunk 40\n"
     ]
    },
    {
     "name": "stderr",
     "output_type": "stream",
     "text": []
    },
    {
     "name": "stdout",
     "output_type": "stream",
     "text": [
      "Successfully processed chunk 50\n"
     ]
    },
    {
     "name": "stderr",
     "output_type": "stream",
     "text": []
    },
    {
     "name": "stdout",
     "output_type": "stream",
     "text": [
      "Successfully processed chunk 60\n"
     ]
    },
    {
     "name": "stderr",
     "output_type": "stream",
     "text": []
    },
    {
     "name": "stdout",
     "output_type": "stream",
     "text": [
      "Successfully processed chunk 70\n"
     ]
    },
    {
     "name": "stderr",
     "output_type": "stream",
     "text": []
    },
    {
     "name": "stdout",
     "output_type": "stream",
     "text": [
      "Successfully processed chunk 80\n"
     ]
    },
    {
     "name": "stderr",
     "output_type": "stream",
     "text": []
    },
    {
     "name": "stdout",
     "output_type": "stream",
     "text": [
      "Successfully processed chunk 90\n"
     ]
    },
    {
     "name": "stderr",
     "output_type": "stream",
     "text": [
      "Processing chunks:   4%|▍         | 99/2493 [09:25<3:47:43,  5.71s/it]"
     ]
    },
    {
     "name": "stdout",
     "output_type": "stream",
     "text": [
      "Successfully processed chunk 100\n",
      "\n",
      "Results saved to outputs/speeches_079_gpt_topic_labels.json\n"
     ]
    },
    {
     "name": "stderr",
     "output_type": "stream",
     "text": [
      "\n"
     ]
    },
    {
     "name": "stdout",
     "output_type": "stream",
     "text": [
      "topic frequency graph for 079_gpt_topic_labels.json\n"
     ]
    },
    {
     "name": "stderr",
     "output_type": "stream",
     "text": [
      "Processing files: 100%|██████████| 1/1 [00:00<00:00, 110.43it/s]\n",
      "Processing files:   3%|▎         | 1/33 [09:26<5:02:07, 566.48s/it]"
     ]
    },
    {
     "name": "stdout",
     "output_type": "stream",
     "text": [
      "\n",
      "Topic Frequencies:\n",
      "----------------------------------------\n",
      "Economy and Jobs                  :    853\n",
      "Governance and Democracy          :    691\n",
      "Budget and Fiscal Responsibility  :    561\n",
      "Justice and Civil Rights          :    502\n",
      "Defense and Security              :    438\n",
      "Health and Social Services        :    184\n",
      "Infrastructure and Transportation :    141\n",
      "Education and Innovation          :     99\n",
      "Immigration and Border Policy     :     70\n",
      "Environment and Energy            :     29\n",
      "Labor Relations                   :     25\n",
      "Trade Agreements                  :     17\n",
      "Agriculture                       :      9\n",
      "Legislative Process               :      3\n",
      "International Relations           :      2\n",
      "Agricultural Policy               :      1\n",
      "Price Control                     :      1\n",
      "----------------------------------------\n",
      "Total topics mentioned: 3626\n",
      "Processing file: ../hein-bound/speeches_080.txt\n",
      "Found 64251 speeches\n",
      "Split into 2151 chunks\n"
     ]
    },
    {
     "name": "stderr",
     "output_type": "stream",
     "text": []
    },
    {
     "name": "stdout",
     "output_type": "stream",
     "text": [
      "Successfully processed chunk 10\n"
     ]
    },
    {
     "name": "stderr",
     "output_type": "stream",
     "text": []
    },
    {
     "name": "stdout",
     "output_type": "stream",
     "text": [
      "Successfully processed chunk 20\n"
     ]
    },
    {
     "name": "stderr",
     "output_type": "stream",
     "text": []
    },
    {
     "name": "stdout",
     "output_type": "stream",
     "text": [
      "Successfully processed chunk 30\n"
     ]
    },
    {
     "name": "stderr",
     "output_type": "stream",
     "text": []
    },
    {
     "name": "stdout",
     "output_type": "stream",
     "text": [
      "Successfully processed chunk 40\n"
     ]
    },
    {
     "name": "stderr",
     "output_type": "stream",
     "text": []
    },
    {
     "name": "stdout",
     "output_type": "stream",
     "text": [
      "Error processing chunk 180: Unterminated string starting at: line 1 column 62545 (char 62544)\n"
     ]
    },
    {
     "name": "stderr",
     "output_type": "stream",
     "text": []
    },
    {
     "name": "stdout",
     "output_type": "stream",
     "text": [
      "Successfully processed chunk 50\n"
     ]
    },
    {
     "name": "stderr",
     "output_type": "stream",
     "text": []
    },
    {
     "name": "stdout",
     "output_type": "stream",
     "text": [
      "Successfully processed chunk 60\n"
     ]
    },
    {
     "name": "stderr",
     "output_type": "stream",
     "text": []
    },
    {
     "name": "stdout",
     "output_type": "stream",
     "text": [
      "Successfully processed chunk 70\n"
     ]
    },
    {
     "name": "stderr",
     "output_type": "stream",
     "text": []
    },
    {
     "name": "stdout",
     "output_type": "stream",
     "text": [
      "Successfully processed chunk 80\n"
     ]
    },
    {
     "name": "stderr",
     "output_type": "stream",
     "text": []
    },
    {
     "name": "stdout",
     "output_type": "stream",
     "text": [
      "Successfully processed chunk 90\n"
     ]
    },
    {
     "name": "stderr",
     "output_type": "stream",
     "text": [
      "Processing chunks:   5%|▍         | 99/2151 [11:53<4:06:36,  7.21s/it]"
     ]
    },
    {
     "name": "stdout",
     "output_type": "stream",
     "text": [
      "Successfully processed chunk 100\n",
      "\n",
      "Results saved to outputs/speeches_080_gpt_topic_labels.json\n"
     ]
    },
    {
     "name": "stderr",
     "output_type": "stream",
     "text": [
      "\n"
     ]
    },
    {
     "name": "stdout",
     "output_type": "stream",
     "text": [
      "topic frequency graph for 080_gpt_topic_labels.json\n"
     ]
    },
    {
     "name": "stderr",
     "output_type": "stream",
     "text": [
      "Processing files: 100%|██████████| 1/1 [00:00<00:00, 155.77it/s]\n",
      "Processing files:   6%|▌         | 2/33 [21:21<5:37:49, 653.86s/it]"
     ]
    },
    {
     "name": "stdout",
     "output_type": "stream",
     "text": [
      "\n",
      "Topic Frequencies:\n",
      "----------------------------------------\n",
      "Economy and Jobs                  :    668\n",
      "Governance and Democracy          :    646\n",
      "Budget and Fiscal Responsibility  :    530\n",
      "Justice and Civil Rights          :    509\n",
      "Defense and Security              :    410\n",
      "Health and Social Services        :    250\n",
      "Infrastructure and Transportation :    238\n",
      "Immigration and Border Policy     :    103\n",
      "Housing and Urban Development     :    101\n",
      "Education and Innovation          :     67\n",
      "Environment and Energy            :     45\n",
      "Housing and Home Finance Agency   :      6\n",
      "Housing and Social Services       :      4\n",
      "Housing                           :      3\n",
      "Foreign Policy                    :      1\n",
      "Agriculture                       :      1\n",
      "----------------------------------------\n",
      "Total topics mentioned: 3582\n",
      "Processing file: ../hein-bound/speeches_081.txt\n",
      "Found 101954 speeches\n",
      "Split into 3258 chunks\n"
     ]
    },
    {
     "name": "stderr",
     "output_type": "stream",
     "text": []
    },
    {
     "name": "stdout",
     "output_type": "stream",
     "text": [
      "Successfully processed chunk 10\n"
     ]
    },
    {
     "name": "stderr",
     "output_type": "stream",
     "text": []
    },
    {
     "name": "stdout",
     "output_type": "stream",
     "text": [
      "Successfully processed chunk 20\n"
     ]
    },
    {
     "name": "stderr",
     "output_type": "stream",
     "text": []
    },
    {
     "name": "stdout",
     "output_type": "stream",
     "text": [
      "Successfully processed chunk 30\n"
     ]
    },
    {
     "name": "stderr",
     "output_type": "stream",
     "text": []
    },
    {
     "name": "stdout",
     "output_type": "stream",
     "text": [
      "Successfully processed chunk 40\n"
     ]
    },
    {
     "name": "stderr",
     "output_type": "stream",
     "text": []
    },
    {
     "name": "stdout",
     "output_type": "stream",
     "text": [
      "Successfully processed chunk 50\n"
     ]
    },
    {
     "name": "stderr",
     "output_type": "stream",
     "text": []
    },
    {
     "name": "stdout",
     "output_type": "stream",
     "text": [
      "Successfully processed chunk 60\n"
     ]
    },
    {
     "name": "stderr",
     "output_type": "stream",
     "text": []
    },
    {
     "name": "stdout",
     "output_type": "stream",
     "text": [
      "Successfully processed chunk 70\n"
     ]
    },
    {
     "name": "stderr",
     "output_type": "stream",
     "text": []
    },
    {
     "name": "stdout",
     "output_type": "stream",
     "text": [
      "Successfully processed chunk 80\n"
     ]
    },
    {
     "name": "stderr",
     "output_type": "stream",
     "text": []
    },
    {
     "name": "stdout",
     "output_type": "stream",
     "text": [
      "Error processing chunk 413: '810043881'\n"
     ]
    },
    {
     "name": "stderr",
     "output_type": "stream",
     "text": [
      "Processing chunks:   3%|▎         | 99/3258 [09:58<5:18:29,  6.05s/it]"
     ]
    },
    {
     "name": "stdout",
     "output_type": "stream",
     "text": [
      "Successfully processed chunk 100\n",
      "\n",
      "Results saved to outputs/speeches_081_gpt_topic_labels.json\n"
     ]
    },
    {
     "name": "stderr",
     "output_type": "stream",
     "text": [
      "\n"
     ]
    },
    {
     "name": "stdout",
     "output_type": "stream",
     "text": [
      "topic frequency graph for 081_gpt_topic_labels.json\n"
     ]
    },
    {
     "name": "stderr",
     "output_type": "stream",
     "text": [
      "Processing files: 100%|██████████| 1/1 [00:00<00:00, 130.33it/s]\n",
      "Processing files:   9%|▉         | 3/33 [31:22<5:14:46, 629.54s/it]"
     ]
    },
    {
     "name": "stdout",
     "output_type": "stream",
     "text": [
      "\n",
      "Topic Frequencies:\n",
      "----------------------------------------\n",
      "Governance and Democracy          :    752\n",
      "Budget and Fiscal Responsibility  :    683\n",
      "Economy and Jobs                  :    616\n",
      "Justice and Civil Rights          :    567\n",
      "Defense and Security              :    375\n",
      "Infrastructure and Transportation :    196\n",
      "Health and Social Services        :    146\n",
      "Immigration and Border Policy     :     89\n",
      "Education and Innovation          :     63\n",
      "Agriculture                       :     56\n",
      "Housing and Social Services       :     40\n",
      "Environment and Energy            :     27\n",
      "Housing                           :      2\n",
      "Housing and Rent Control          :      1\n",
      "----------------------------------------\n",
      "Total topics mentioned: 3613\n",
      "Processing file: ../hein-bound/speeches_082.txt\n",
      "Found 77584 speeches\n",
      "Split into 2538 chunks\n"
     ]
    },
    {
     "name": "stderr",
     "output_type": "stream",
     "text": []
    },
    {
     "name": "stdout",
     "output_type": "stream",
     "text": [
      "Error processing chunk 934: '820096691'\n"
     ]
    },
    {
     "name": "stderr",
     "output_type": "stream",
     "text": []
    },
    {
     "name": "stdout",
     "output_type": "stream",
     "text": [
      "Successfully processed chunk 10\n"
     ]
    },
    {
     "name": "stderr",
     "output_type": "stream",
     "text": []
    },
    {
     "name": "stdout",
     "output_type": "stream",
     "text": [
      "Successfully processed chunk 20\n"
     ]
    },
    {
     "name": "stderr",
     "output_type": "stream",
     "text": []
    },
    {
     "name": "stdout",
     "output_type": "stream",
     "text": [
      "Successfully processed chunk 30\n"
     ]
    },
    {
     "name": "stderr",
     "output_type": "stream",
     "text": []
    },
    {
     "name": "stdout",
     "output_type": "stream",
     "text": [
      "Successfully processed chunk 40\n"
     ]
    },
    {
     "name": "stderr",
     "output_type": "stream",
     "text": []
    },
    {
     "name": "stdout",
     "output_type": "stream",
     "text": [
      "Successfully processed chunk 50\n"
     ]
    },
    {
     "name": "stderr",
     "output_type": "stream",
     "text": []
    },
    {
     "name": "stdout",
     "output_type": "stream",
     "text": [
      "Successfully processed chunk 60\n"
     ]
    },
    {
     "name": "stderr",
     "output_type": "stream",
     "text": []
    },
    {
     "name": "stdout",
     "output_type": "stream",
     "text": [
      "Successfully processed chunk 70\n"
     ]
    },
    {
     "name": "stderr",
     "output_type": "stream",
     "text": []
    },
    {
     "name": "stdout",
     "output_type": "stream",
     "text": [
      "Successfully processed chunk 80\n"
     ]
    },
    {
     "name": "stderr",
     "output_type": "stream",
     "text": []
    },
    {
     "name": "stdout",
     "output_type": "stream",
     "text": [
      "Successfully processed chunk 90\n"
     ]
    },
    {
     "name": "stderr",
     "output_type": "stream",
     "text": [
      "Processing chunks:   4%|▍         | 99/2538 [09:09<3:45:28,  5.55s/it]"
     ]
    },
    {
     "name": "stdout",
     "output_type": "stream",
     "text": [
      "Successfully processed chunk 100\n",
      "\n",
      "Results saved to outputs/speeches_082_gpt_topic_labels.json\n"
     ]
    },
    {
     "name": "stderr",
     "output_type": "stream",
     "text": [
      "\n"
     ]
    },
    {
     "name": "stdout",
     "output_type": "stream",
     "text": [
      "topic frequency graph for 082_gpt_topic_labels.json\n"
     ]
    },
    {
     "name": "stderr",
     "output_type": "stream",
     "text": [
      "Processing files: 100%|██████████| 1/1 [00:00<00:00, 148.88it/s]\n",
      "Processing files:  12%|█▏        | 4/33 [40:32<4:49:11, 598.34s/it]"
     ]
    },
    {
     "name": "stdout",
     "output_type": "stream",
     "text": [
      "\n",
      "Topic Frequencies:\n",
      "----------------------------------------\n",
      "Governance and Democracy          :    701\n",
      "Budget and Fiscal Responsibility  :    693\n",
      "Economy and Jobs                  :    604\n",
      "Defense and Security              :    592\n",
      "Justice and Civil Rights          :    279\n",
      "Health and Social Services        :    113\n",
      "Education and Innovation          :    112\n",
      "Environment and Energy            :     74\n",
      "Infrastructure and Transportation :     63\n",
      "Immigration and Border Policy     :     54\n",
      "Agriculture                       :     25\n",
      "Trade                             :      5\n",
      "Agriculture and Forestry          :      2\n",
      "Housing and Rent Act              :      2\n",
      "----------------------------------------\n",
      "Total topics mentioned: 3319\n",
      "Processing file: ../hein-bound/speeches_083.txt\n",
      "Found 87764 speeches\n",
      "Split into 2971 chunks\n"
     ]
    },
    {
     "name": "stderr",
     "output_type": "stream",
     "text": []
    },
    {
     "name": "stdout",
     "output_type": "stream",
     "text": [
      "Successfully processed chunk 10\n"
     ]
    },
    {
     "name": "stderr",
     "output_type": "stream",
     "text": []
    },
    {
     "name": "stdout",
     "output_type": "stream",
     "text": [
      "Successfully processed chunk 20\n"
     ]
    },
    {
     "name": "stderr",
     "output_type": "stream",
     "text": []
    },
    {
     "name": "stdout",
     "output_type": "stream",
     "text": [
      "Successfully processed chunk 30\n"
     ]
    },
    {
     "name": "stderr",
     "output_type": "stream",
     "text": []
    },
    {
     "name": "stdout",
     "output_type": "stream",
     "text": [
      "Successfully processed chunk 40\n"
     ]
    },
    {
     "name": "stderr",
     "output_type": "stream",
     "text": []
    },
    {
     "name": "stdout",
     "output_type": "stream",
     "text": [
      "Successfully processed chunk 50\n"
     ]
    },
    {
     "name": "stderr",
     "output_type": "stream",
     "text": []
    },
    {
     "name": "stdout",
     "output_type": "stream",
     "text": [
      "Successfully processed chunk 60\n"
     ]
    },
    {
     "name": "stderr",
     "output_type": "stream",
     "text": []
    },
    {
     "name": "stdout",
     "output_type": "stream",
     "text": [
      "Successfully processed chunk 70\n"
     ]
    },
    {
     "name": "stderr",
     "output_type": "stream",
     "text": []
    },
    {
     "name": "stdout",
     "output_type": "stream",
     "text": [
      "Successfully processed chunk 80\n"
     ]
    },
    {
     "name": "stderr",
     "output_type": "stream",
     "text": []
    },
    {
     "name": "stdout",
     "output_type": "stream",
     "text": [
      "Successfully processed chunk 90\n"
     ]
    },
    {
     "name": "stderr",
     "output_type": "stream",
     "text": [
      "Processing chunks:   3%|▎         | 99/2971 [09:15<4:28:32,  5.61s/it]"
     ]
    },
    {
     "name": "stdout",
     "output_type": "stream",
     "text": [
      "Successfully processed chunk 100\n",
      "\n",
      "Results saved to outputs/speeches_083_gpt_topic_labels.json\n"
     ]
    },
    {
     "name": "stderr",
     "output_type": "stream",
     "text": [
      "\n"
     ]
    },
    {
     "name": "stdout",
     "output_type": "stream",
     "text": [
      "topic frequency graph for 083_gpt_topic_labels.json\n"
     ]
    },
    {
     "name": "stderr",
     "output_type": "stream",
     "text": [
      "Processing files: 100%|██████████| 1/1 [00:00<00:00, 153.42it/s]\n",
      "Processing files:  15%|█▌        | 5/33 [49:49<4:32:16, 583.43s/it]"
     ]
    },
    {
     "name": "stdout",
     "output_type": "stream",
     "text": [
      "\n",
      "Topic Frequencies:\n",
      "----------------------------------------\n",
      "Governance and Democracy          :    786\n",
      "Economy and Jobs                  :    676\n",
      "Budget and Fiscal Responsibility  :    526\n",
      "Justice and Civil Rights          :    526\n",
      "Defense and Security              :    330\n",
      "Health and Social Services        :    156\n",
      "Infrastructure and Transportation :    155\n",
      "Environment and Energy            :    123\n",
      "Education and Innovation          :     97\n",
      "Immigration and Border Policy     :     60\n",
      "Agriculture                       :     37\n",
      "Foreign Policy                    :      1\n",
      "----------------------------------------\n",
      "Total topics mentioned: 3473\n",
      "Processing file: ../hein-bound/speeches_084.txt\n",
      "Found 77004 speeches\n",
      "Split into 2740 chunks\n"
     ]
    },
    {
     "name": "stderr",
     "output_type": "stream",
     "text": []
    },
    {
     "name": "stdout",
     "output_type": "stream",
     "text": [
      "Successfully processed chunk 10\n"
     ]
    },
    {
     "name": "stderr",
     "output_type": "stream",
     "text": []
    },
    {
     "name": "stdout",
     "output_type": "stream",
     "text": [
      "Successfully processed chunk 20\n"
     ]
    },
    {
     "name": "stderr",
     "output_type": "stream",
     "text": []
    },
    {
     "name": "stdout",
     "output_type": "stream",
     "text": [
      "Successfully processed chunk 30\n"
     ]
    },
    {
     "name": "stderr",
     "output_type": "stream",
     "text": []
    },
    {
     "name": "stdout",
     "output_type": "stream",
     "text": [
      "Successfully processed chunk 40\n"
     ]
    },
    {
     "name": "stderr",
     "output_type": "stream",
     "text": []
    },
    {
     "name": "stdout",
     "output_type": "stream",
     "text": [
      "Successfully processed chunk 50\n"
     ]
    },
    {
     "name": "stderr",
     "output_type": "stream",
     "text": []
    },
    {
     "name": "stdout",
     "output_type": "stream",
     "text": [
      "Successfully processed chunk 60\n"
     ]
    },
    {
     "name": "stderr",
     "output_type": "stream",
     "text": []
    },
    {
     "name": "stdout",
     "output_type": "stream",
     "text": [
      "Successfully processed chunk 70\n"
     ]
    },
    {
     "name": "stderr",
     "output_type": "stream",
     "text": []
    },
    {
     "name": "stdout",
     "output_type": "stream",
     "text": [
      "Successfully processed chunk 80\n"
     ]
    },
    {
     "name": "stderr",
     "output_type": "stream",
     "text": []
    },
    {
     "name": "stdout",
     "output_type": "stream",
     "text": [
      "Successfully processed chunk 90\n"
     ]
    },
    {
     "name": "stderr",
     "output_type": "stream",
     "text": [
      "Processing chunks:   4%|▎         | 99/2740 [08:51<3:56:18,  5.37s/it]"
     ]
    },
    {
     "name": "stdout",
     "output_type": "stream",
     "text": [
      "Successfully processed chunk 100\n",
      "\n",
      "Results saved to outputs/speeches_084_gpt_topic_labels.json\n"
     ]
    },
    {
     "name": "stderr",
     "output_type": "stream",
     "text": [
      "\n"
     ]
    },
    {
     "name": "stdout",
     "output_type": "stream",
     "text": [
      "topic frequency graph for 084_gpt_topic_labels.json\n"
     ]
    },
    {
     "name": "stderr",
     "output_type": "stream",
     "text": [
      "Processing files: 100%|██████████| 1/1 [00:00<00:00, 133.90it/s]\n",
      "Processing files:  18%|█▊        | 6/33 [58:42<4:14:51, 566.35s/it]"
     ]
    },
    {
     "name": "stdout",
     "output_type": "stream",
     "text": [
      "\n",
      "Topic Frequencies:\n",
      "----------------------------------------\n",
      "Economy and Jobs                  :    669\n",
      "Governance and Democracy          :    557\n",
      "Justice and Civil Rights          :    525\n",
      "Budget and Fiscal Responsibility  :    342\n",
      "Defense and Security              :    268\n",
      "Infrastructure and Transportation :    251\n",
      "Environment and Energy            :    197\n",
      "Health and Social Services        :    177\n",
      "Education and Innovation          :     72\n",
      "Immigration and Border Policy     :     42\n",
      "Agriculture                       :     15\n",
      "Agriculture and Rural Development :      3\n",
      "Housing                           :      1\n",
      "Energy                            :      1\n",
      "----------------------------------------\n",
      "Total topics mentioned: 3120\n",
      "Processing file: ../hein-bound/speeches_085.txt\n",
      "Found 100594 speeches\n",
      "Split into 3735 chunks\n"
     ]
    },
    {
     "name": "stderr",
     "output_type": "stream",
     "text": []
    },
    {
     "name": "stdout",
     "output_type": "stream",
     "text": [
      "Successfully processed chunk 10\n"
     ]
    },
    {
     "name": "stderr",
     "output_type": "stream",
     "text": []
    },
    {
     "name": "stdout",
     "output_type": "stream",
     "text": [
      "Successfully processed chunk 20\n"
     ]
    },
    {
     "name": "stderr",
     "output_type": "stream",
     "text": []
    },
    {
     "name": "stdout",
     "output_type": "stream",
     "text": [
      "Successfully processed chunk 30\n"
     ]
    },
    {
     "name": "stderr",
     "output_type": "stream",
     "text": []
    },
    {
     "name": "stdout",
     "output_type": "stream",
     "text": [
      "Successfully processed chunk 40\n"
     ]
    },
    {
     "name": "stderr",
     "output_type": "stream",
     "text": []
    },
    {
     "name": "stdout",
     "output_type": "stream",
     "text": [
      "Successfully processed chunk 50\n"
     ]
    },
    {
     "name": "stderr",
     "output_type": "stream",
     "text": []
    },
    {
     "name": "stdout",
     "output_type": "stream",
     "text": [
      "Successfully processed chunk 60\n"
     ]
    },
    {
     "name": "stderr",
     "output_type": "stream",
     "text": []
    },
    {
     "name": "stdout",
     "output_type": "stream",
     "text": [
      "Successfully processed chunk 70\n"
     ]
    },
    {
     "name": "stderr",
     "output_type": "stream",
     "text": []
    },
    {
     "name": "stdout",
     "output_type": "stream",
     "text": [
      "Successfully processed chunk 80\n"
     ]
    },
    {
     "name": "stderr",
     "output_type": "stream",
     "text": []
    },
    {
     "name": "stdout",
     "output_type": "stream",
     "text": [
      "Successfully processed chunk 90\n"
     ]
    },
    {
     "name": "stderr",
     "output_type": "stream",
     "text": []
    },
    {
     "name": "stdout",
     "output_type": "stream",
     "text": [
      "Error processing chunk 3252: '850249988'\n"
     ]
    },
    {
     "name": "stderr",
     "output_type": "stream",
     "text": [
      "Processing chunks:   3%|▎         | 99/3735 [09:01<5:31:23,  5.47s/it]"
     ]
    },
    {
     "name": "stdout",
     "output_type": "stream",
     "text": [
      "Successfully processed chunk 100\n",
      "\n",
      "Results saved to outputs/speeches_085_gpt_topic_labels.json\n"
     ]
    },
    {
     "name": "stderr",
     "output_type": "stream",
     "text": [
      "\n"
     ]
    },
    {
     "name": "stdout",
     "output_type": "stream",
     "text": [
      "topic frequency graph for 085_gpt_topic_labels.json\n"
     ]
    },
    {
     "name": "stderr",
     "output_type": "stream",
     "text": [
      "Processing files: 100%|██████████| 1/1 [00:00<00:00, 112.12it/s]\n",
      "Processing files:  21%|██        | 7/33 [1:07:46<4:02:11, 558.89s/it]"
     ]
    },
    {
     "name": "stdout",
     "output_type": "stream",
     "text": [
      "\n",
      "Topic Frequencies:\n",
      "----------------------------------------\n",
      "Economy and Jobs                  :    634\n",
      "Justice and Civil Rights          :    594\n",
      "Budget and Fiscal Responsibility  :    496\n",
      "Defense and Security              :    413\n",
      "Governance and Democracy          :    401\n",
      "Health and Social Services        :    156\n",
      "Infrastructure and Transportation :    141\n",
      "Education and Innovation          :    107\n",
      "Environment and Energy            :     63\n",
      "Immigration and Border Policy     :     31\n",
      "Agriculture                       :     28\n",
      "Housing and Social Services       :     13\n",
      "Trade                             :      2\n",
      "Labor                             :      1\n",
      "Housing and Urban Development     :      1\n",
      "Culture and Society               :      1\n",
      "Foreign Policy                    :      1\n",
      "----------------------------------------\n",
      "Total topics mentioned: 3083\n",
      "Processing file: ../hein-bound/speeches_086.txt\n",
      "Found 102324 speeches\n",
      "Split into 3872 chunks\n"
     ]
    },
    {
     "name": "stderr",
     "output_type": "stream",
     "text": []
    },
    {
     "name": "stdout",
     "output_type": "stream",
     "text": [
      "Successfully processed chunk 10\n"
     ]
    },
    {
     "name": "stderr",
     "output_type": "stream",
     "text": []
    },
    {
     "name": "stdout",
     "output_type": "stream",
     "text": [
      "Successfully processed chunk 20\n"
     ]
    },
    {
     "name": "stderr",
     "output_type": "stream",
     "text": []
    },
    {
     "name": "stdout",
     "output_type": "stream",
     "text": [
      "Successfully processed chunk 30\n"
     ]
    },
    {
     "name": "stderr",
     "output_type": "stream",
     "text": []
    },
    {
     "name": "stdout",
     "output_type": "stream",
     "text": [
      "Error processing chunk 2352: '860175167'\n"
     ]
    },
    {
     "name": "stderr",
     "output_type": "stream",
     "text": []
    },
    {
     "name": "stdout",
     "output_type": "stream",
     "text": [
      "Successfully processed chunk 40\n"
     ]
    },
    {
     "name": "stderr",
     "output_type": "stream",
     "text": []
    },
    {
     "name": "stdout",
     "output_type": "stream",
     "text": [
      "Successfully processed chunk 50\n"
     ]
    },
    {
     "name": "stderr",
     "output_type": "stream",
     "text": []
    },
    {
     "name": "stdout",
     "output_type": "stream",
     "text": [
      "Successfully processed chunk 60\n"
     ]
    },
    {
     "name": "stderr",
     "output_type": "stream",
     "text": []
    },
    {
     "name": "stdout",
     "output_type": "stream",
     "text": [
      "Successfully processed chunk 70\n"
     ]
    },
    {
     "name": "stderr",
     "output_type": "stream",
     "text": []
    },
    {
     "name": "stdout",
     "output_type": "stream",
     "text": [
      "Successfully processed chunk 80\n"
     ]
    },
    {
     "name": "stderr",
     "output_type": "stream",
     "text": []
    },
    {
     "name": "stdout",
     "output_type": "stream",
     "text": [
      "Successfully processed chunk 90\n"
     ]
    },
    {
     "name": "stderr",
     "output_type": "stream",
     "text": [
      "Processing chunks:   3%|▎         | 99/3872 [08:34<5:26:47,  5.20s/it]"
     ]
    },
    {
     "name": "stdout",
     "output_type": "stream",
     "text": [
      "Successfully processed chunk 100\n",
      "\n",
      "Results saved to outputs/speeches_086_gpt_topic_labels.json\n"
     ]
    },
    {
     "name": "stderr",
     "output_type": "stream",
     "text": [
      "\n"
     ]
    },
    {
     "name": "stdout",
     "output_type": "stream",
     "text": [
      "topic frequency graph for 086_gpt_topic_labels.json\n"
     ]
    },
    {
     "name": "stderr",
     "output_type": "stream",
     "text": [
      "Processing files: 100%|██████████| 1/1 [00:00<00:00, 157.85it/s]\n",
      "Processing files:  24%|██▍       | 8/33 [1:16:23<3:47:16, 545.47s/it]"
     ]
    },
    {
     "name": "stdout",
     "output_type": "stream",
     "text": [
      "\n",
      "Topic Frequencies:\n",
      "----------------------------------------\n",
      "Budget and Fiscal Responsibility  :    521\n",
      "Governance and Democracy          :    521\n",
      "Justice and Civil Rights          :    430\n",
      "Economy and Jobs                  :    403\n",
      "Defense and Security              :    349\n",
      "Health and Social Services        :    178\n",
      "Infrastructure and Transportation :    130\n",
      "Education and Innovation          :    119\n",
      "Environment and Energy            :     35\n",
      "Immigration and Border Policy     :     24\n",
      "Agriculture                       :      4\n",
      "Labor and Public Welfare          :      1\n",
      "Water and Natural Resources       :      1\n",
      "----------------------------------------\n",
      "Total topics mentioned: 2716\n",
      "Processing file: ../hein-bound/speeches_087.txt\n",
      "Found 106156 speeches\n",
      "Split into 4138 chunks\n"
     ]
    },
    {
     "name": "stderr",
     "output_type": "stream",
     "text": []
    },
    {
     "name": "stdout",
     "output_type": "stream",
     "text": [
      "Successfully processed chunk 10\n"
     ]
    },
    {
     "name": "stderr",
     "output_type": "stream",
     "text": []
    },
    {
     "name": "stdout",
     "output_type": "stream",
     "text": [
      "Successfully processed chunk 20\n"
     ]
    },
    {
     "name": "stderr",
     "output_type": "stream",
     "text": []
    },
    {
     "name": "stdout",
     "output_type": "stream",
     "text": [
      "Successfully processed chunk 30\n"
     ]
    },
    {
     "name": "stderr",
     "output_type": "stream",
     "text": []
    },
    {
     "name": "stdout",
     "output_type": "stream",
     "text": [
      "Successfully processed chunk 40\n"
     ]
    },
    {
     "name": "stderr",
     "output_type": "stream",
     "text": []
    },
    {
     "name": "stdout",
     "output_type": "stream",
     "text": [
      "Successfully processed chunk 50\n"
     ]
    },
    {
     "name": "stderr",
     "output_type": "stream",
     "text": []
    },
    {
     "name": "stdout",
     "output_type": "stream",
     "text": [
      "Successfully processed chunk 60\n"
     ]
    },
    {
     "name": "stderr",
     "output_type": "stream",
     "text": []
    },
    {
     "name": "stdout",
     "output_type": "stream",
     "text": [
      "Successfully processed chunk 70\n"
     ]
    },
    {
     "name": "stderr",
     "output_type": "stream",
     "text": []
    },
    {
     "name": "stdout",
     "output_type": "stream",
     "text": [
      "Error processing chunk 1873: '870134626'\n"
     ]
    },
    {
     "name": "stderr",
     "output_type": "stream",
     "text": []
    },
    {
     "name": "stdout",
     "output_type": "stream",
     "text": [
      "Successfully processed chunk 80\n"
     ]
    },
    {
     "name": "stderr",
     "output_type": "stream",
     "text": []
    },
    {
     "name": "stdout",
     "output_type": "stream",
     "text": [
      "Successfully processed chunk 90\n"
     ]
    },
    {
     "name": "stderr",
     "output_type": "stream",
     "text": [
      "Processing chunks:   2%|▏         | 99/4138 [08:32<5:48:43,  5.18s/it]"
     ]
    },
    {
     "name": "stdout",
     "output_type": "stream",
     "text": [
      "Successfully processed chunk 100\n",
      "\n",
      "Results saved to outputs/speeches_087_gpt_topic_labels.json\n"
     ]
    },
    {
     "name": "stderr",
     "output_type": "stream",
     "text": [
      "\n"
     ]
    },
    {
     "name": "stdout",
     "output_type": "stream",
     "text": [
      "topic frequency graph for 087_gpt_topic_labels.json\n"
     ]
    },
    {
     "name": "stderr",
     "output_type": "stream",
     "text": [
      "Processing files: 100%|██████████| 1/1 [00:00<00:00, 165.78it/s]\n",
      "Processing files:  27%|██▋       | 9/33 [1:24:58<3:34:23, 535.98s/it]"
     ]
    },
    {
     "name": "stdout",
     "output_type": "stream",
     "text": [
      "\n",
      "Topic Frequencies:\n",
      "----------------------------------------\n",
      "Economy and Jobs                  :    495\n",
      "Governance and Democracy          :    482\n",
      "Budget and Fiscal Responsibility  :    463\n",
      "Defense and Security              :    406\n",
      "Justice and Civil Rights          :    390\n",
      "Education and Innovation          :    223\n",
      "Health and Social Services        :    156\n",
      "Infrastructure and Transportation :    120\n",
      "Immigration and Border Policy     :     61\n",
      "Environment and Energy            :     47\n",
      "Agriculture                       :     13\n",
      "Agriculture and Rural Affairs     :     10\n",
      "Media and Communications          :      9\n",
      "Labor and Employment              :      2\n",
      "Energy and Environment            :      1\n",
      "Housing and Urban Development     :      1\n",
      "Foreign Policy                    :      1\n",
      "International Relations           :      1\n",
      "Youth Engagement                  :      1\n",
      "Housing                           :      1\n",
      "Culture and Society               :      1\n",
      "----------------------------------------\n",
      "Total topics mentioned: 2884\n",
      "Processing file: ../hein-bound/speeches_088.txt\n",
      "Found 104345 speeches\n",
      "Split into 4133 chunks\n"
     ]
    },
    {
     "name": "stderr",
     "output_type": "stream",
     "text": []
    },
    {
     "name": "stdout",
     "output_type": "stream",
     "text": [
      "Successfully processed chunk 10\n"
     ]
    },
    {
     "name": "stderr",
     "output_type": "stream",
     "text": []
    },
    {
     "name": "stdout",
     "output_type": "stream",
     "text": [
      "Error processing chunk 2068: '880141648'\n"
     ]
    },
    {
     "name": "stderr",
     "output_type": "stream",
     "text": []
    },
    {
     "name": "stdout",
     "output_type": "stream",
     "text": [
      "Successfully processed chunk 20\n"
     ]
    },
    {
     "name": "stderr",
     "output_type": "stream",
     "text": []
    },
    {
     "name": "stdout",
     "output_type": "stream",
     "text": [
      "Successfully processed chunk 30\n"
     ]
    },
    {
     "name": "stderr",
     "output_type": "stream",
     "text": []
    },
    {
     "name": "stdout",
     "output_type": "stream",
     "text": [
      "Successfully processed chunk 40\n"
     ]
    },
    {
     "name": "stderr",
     "output_type": "stream",
     "text": []
    },
    {
     "name": "stdout",
     "output_type": "stream",
     "text": [
      "Successfully processed chunk 50\n"
     ]
    },
    {
     "name": "stderr",
     "output_type": "stream",
     "text": []
    },
    {
     "name": "stdout",
     "output_type": "stream",
     "text": [
      "Successfully processed chunk 60\n"
     ]
    },
    {
     "name": "stderr",
     "output_type": "stream",
     "text": []
    },
    {
     "name": "stdout",
     "output_type": "stream",
     "text": [
      "Successfully processed chunk 70\n"
     ]
    },
    {
     "name": "stderr",
     "output_type": "stream",
     "text": []
    },
    {
     "name": "stdout",
     "output_type": "stream",
     "text": [
      "Successfully processed chunk 80\n"
     ]
    },
    {
     "name": "stderr",
     "output_type": "stream",
     "text": []
    },
    {
     "name": "stdout",
     "output_type": "stream",
     "text": [
      "Successfully processed chunk 90\n"
     ]
    },
    {
     "name": "stderr",
     "output_type": "stream",
     "text": [
      "Processing chunks:   2%|▏         | 99/4133 [08:05<5:29:50,  4.91s/it]"
     ]
    },
    {
     "name": "stdout",
     "output_type": "stream",
     "text": [
      "Successfully processed chunk 100\n",
      "\n",
      "Results saved to outputs/speeches_088_gpt_topic_labels.json\n"
     ]
    },
    {
     "name": "stderr",
     "output_type": "stream",
     "text": [
      "\n"
     ]
    },
    {
     "name": "stdout",
     "output_type": "stream",
     "text": [
      "topic frequency graph for 088_gpt_topic_labels.json\n"
     ]
    },
    {
     "name": "stderr",
     "output_type": "stream",
     "text": [
      "Processing files: 100%|██████████| 1/1 [00:00<00:00, 156.08it/s]\n",
      "Processing files:  30%|███       | 10/33 [1:33:06<3:19:45, 521.12s/it]"
     ]
    },
    {
     "name": "stdout",
     "output_type": "stream",
     "text": [
      "\n",
      "Topic Frequencies:\n",
      "----------------------------------------\n",
      "Justice and Civil Rights          :    680\n",
      "Governance and Democracy          :    435\n",
      "Economy and Jobs                  :    362\n",
      "Budget and Fiscal Responsibility  :    325\n",
      "Defense and Security              :    312\n",
      "Education and Innovation          :    228\n",
      "Health and Social Services        :    141\n",
      "Infrastructure and Transportation :     78\n",
      "Environment and Energy            :     37\n",
      "Immigration and Border Policy     :     26\n",
      "Agriculture                       :      7\n",
      "Trade                             :      6\n",
      "International Relations           :      6\n",
      "Culture and Arts                  :      4\n",
      "Housing and Urban Development     :      3\n",
      "Water and Infrastructure          :      1\n",
      "Foreign Aid                       :      1\n",
      "Housing                           :      1\n",
      "Agriculture and Food Security     :      1\n",
      "Energy and Environment            :      1\n",
      "----------------------------------------\n",
      "Total topics mentioned: 2655\n",
      "Processing file: ../hein-bound/speeches_089.txt\n",
      "Found 107921 speeches\n",
      "Split into 4507 chunks\n"
     ]
    },
    {
     "name": "stderr",
     "output_type": "stream",
     "text": []
    },
    {
     "name": "stdout",
     "output_type": "stream",
     "text": [
      "Successfully processed chunk 10\n"
     ]
    },
    {
     "name": "stderr",
     "output_type": "stream",
     "text": []
    },
    {
     "name": "stdout",
     "output_type": "stream",
     "text": [
      "Successfully processed chunk 20\n"
     ]
    },
    {
     "name": "stderr",
     "output_type": "stream",
     "text": []
    },
    {
     "name": "stdout",
     "output_type": "stream",
     "text": [
      "Successfully processed chunk 30\n"
     ]
    },
    {
     "name": "stderr",
     "output_type": "stream",
     "text": []
    },
    {
     "name": "stdout",
     "output_type": "stream",
     "text": [
      "Successfully processed chunk 40\n"
     ]
    },
    {
     "name": "stderr",
     "output_type": "stream",
     "text": []
    },
    {
     "name": "stdout",
     "output_type": "stream",
     "text": [
      "Successfully processed chunk 50\n"
     ]
    },
    {
     "name": "stderr",
     "output_type": "stream",
     "text": []
    },
    {
     "name": "stdout",
     "output_type": "stream",
     "text": [
      "Successfully processed chunk 60\n"
     ]
    },
    {
     "name": "stderr",
     "output_type": "stream",
     "text": []
    },
    {
     "name": "stdout",
     "output_type": "stream",
     "text": [
      "Error processing chunk 265: '890016197'\n"
     ]
    },
    {
     "name": "stderr",
     "output_type": "stream",
     "text": []
    },
    {
     "name": "stdout",
     "output_type": "stream",
     "text": [
      "Successfully processed chunk 70\n"
     ]
    },
    {
     "name": "stderr",
     "output_type": "stream",
     "text": []
    },
    {
     "name": "stdout",
     "output_type": "stream",
     "text": [
      "Successfully processed chunk 80\n"
     ]
    },
    {
     "name": "stderr",
     "output_type": "stream",
     "text": []
    },
    {
     "name": "stdout",
     "output_type": "stream",
     "text": [
      "Successfully processed chunk 90\n"
     ]
    },
    {
     "name": "stderr",
     "output_type": "stream",
     "text": [
      "Processing chunks:   2%|▏         | 99/4507 [08:15<6:07:26,  5.00s/it]"
     ]
    },
    {
     "name": "stdout",
     "output_type": "stream",
     "text": [
      "Successfully processed chunk 100\n",
      "\n",
      "Results saved to outputs/speeches_089_gpt_topic_labels.json\n"
     ]
    },
    {
     "name": "stderr",
     "output_type": "stream",
     "text": [
      "\n"
     ]
    },
    {
     "name": "stdout",
     "output_type": "stream",
     "text": [
      "topic frequency graph for 089_gpt_topic_labels.json\n"
     ]
    },
    {
     "name": "stderr",
     "output_type": "stream",
     "text": [
      "Processing files: 100%|██████████| 1/1 [00:00<00:00, 105.78it/s]\n",
      "Processing files:  33%|███▎      | 11/33 [1:41:23<3:08:26, 513.95s/it]"
     ]
    },
    {
     "name": "stdout",
     "output_type": "stream",
     "text": [
      "\n",
      "Topic Frequencies:\n",
      "----------------------------------------\n",
      "Budget and Fiscal Responsibility  :    517\n",
      "Governance and Democracy          :    413\n",
      "Justice and Civil Rights          :    406\n",
      "Economy and Jobs                  :    397\n",
      "Defense and Security              :    310\n",
      "Health and Social Services        :    268\n",
      "Education and Innovation          :    228\n",
      "Infrastructure and Transportation :    146\n",
      "Immigration and Border Policy     :     57\n",
      "Environment and Energy            :     44\n",
      "Housing and Urban Development     :      3\n",
      "Culture and Arts                  :      1\n",
      "Technology and Innovation         :      1\n",
      "Community Development             :      1\n",
      "Science and Technology            :      1\n",
      "Energy and Environment            :      1\n",
      "Foreign Policy                    :      1\n",
      "Foreign Aid                       :      1\n",
      "Housing and Social Services       :      1\n",
      "----------------------------------------\n",
      "Total topics mentioned: 2797\n",
      "Processing file: ../hein-bound/speeches_090.txt\n",
      "Found 107222 speeches\n",
      "Split into 4596 chunks\n"
     ]
    },
    {
     "name": "stderr",
     "output_type": "stream",
     "text": []
    },
    {
     "name": "stdout",
     "output_type": "stream",
     "text": [
      "Successfully processed chunk 10\n"
     ]
    },
    {
     "name": "stderr",
     "output_type": "stream",
     "text": []
    },
    {
     "name": "stdout",
     "output_type": "stream",
     "text": [
      "Successfully processed chunk 20\n"
     ]
    },
    {
     "name": "stderr",
     "output_type": "stream",
     "text": []
    },
    {
     "name": "stdout",
     "output_type": "stream",
     "text": [
      "Successfully processed chunk 30\n"
     ]
    },
    {
     "name": "stderr",
     "output_type": "stream",
     "text": []
    },
    {
     "name": "stdout",
     "output_type": "stream",
     "text": [
      "Successfully processed chunk 40\n"
     ]
    },
    {
     "name": "stderr",
     "output_type": "stream",
     "text": []
    },
    {
     "name": "stdout",
     "output_type": "stream",
     "text": [
      "Successfully processed chunk 50\n"
     ]
    },
    {
     "name": "stderr",
     "output_type": "stream",
     "text": []
    },
    {
     "name": "stdout",
     "output_type": "stream",
     "text": [
      "Successfully processed chunk 60\n"
     ]
    },
    {
     "name": "stderr",
     "output_type": "stream",
     "text": []
    },
    {
     "name": "stdout",
     "output_type": "stream",
     "text": [
      "Successfully processed chunk 70\n"
     ]
    },
    {
     "name": "stderr",
     "output_type": "stream",
     "text": []
    },
    {
     "name": "stdout",
     "output_type": "stream",
     "text": [
      "Successfully processed chunk 80\n"
     ]
    },
    {
     "name": "stderr",
     "output_type": "stream",
     "text": []
    },
    {
     "name": "stdout",
     "output_type": "stream",
     "text": [
      "Successfully processed chunk 90\n"
     ]
    },
    {
     "name": "stderr",
     "output_type": "stream",
     "text": [
      "Processing chunks:   2%|▏         | 99/4596 [07:45<5:52:26,  4.70s/it]"
     ]
    },
    {
     "name": "stdout",
     "output_type": "stream",
     "text": [
      "Successfully processed chunk 100\n",
      "\n",
      "Results saved to outputs/speeches_090_gpt_topic_labels.json\n"
     ]
    },
    {
     "name": "stderr",
     "output_type": "stream",
     "text": [
      "\n"
     ]
    },
    {
     "name": "stdout",
     "output_type": "stream",
     "text": [
      "topic frequency graph for 090_gpt_topic_labels.json\n"
     ]
    },
    {
     "name": "stderr",
     "output_type": "stream",
     "text": [
      "Processing files: 100%|██████████| 1/1 [00:00<00:00, 169.08it/s]\n",
      "Processing files:  36%|███▋      | 12/33 [1:49:11<2:54:58, 499.94s/it]"
     ]
    },
    {
     "name": "stdout",
     "output_type": "stream",
     "text": [
      "\n",
      "Topic Frequencies:\n",
      "----------------------------------------\n",
      "Justice and Civil Rights          :    435\n",
      "Governance and Democracy          :    420\n",
      "Defense and Security              :    381\n",
      "Budget and Fiscal Responsibility  :    362\n",
      "Economy and Jobs                  :    336\n",
      "Health and Social Services        :    265\n",
      "Education and Innovation          :    160\n",
      "Infrastructure and Transportation :    151\n",
      "Environment and Energy            :    135\n",
      "Immigration and Border Policy     :     48\n",
      "Housing and Urban Development     :     30\n",
      "Foreign Policy                    :     10\n",
      "Culture and Community             :      2\n",
      "Housing and Social Services       :      2\n",
      "Agriculture                       :      2\n",
      "Trade and Tariffs                 :      1\n",
      "International Relations           :      1\n",
      "Energy and Environment            :      1\n",
      "Tourism                           :      1\n",
      "----------------------------------------\n",
      "Total topics mentioned: 2743\n",
      "Processing file: ../hein-bound/speeches_091.txt\n",
      "Found 122040 speeches\n",
      "Split into 5231 chunks\n"
     ]
    },
    {
     "name": "stderr",
     "output_type": "stream",
     "text": []
    },
    {
     "name": "stdout",
     "output_type": "stream",
     "text": [
      "Successfully processed chunk 10\n"
     ]
    },
    {
     "name": "stderr",
     "output_type": "stream",
     "text": []
    },
    {
     "name": "stdout",
     "output_type": "stream",
     "text": [
      "Successfully processed chunk 20\n"
     ]
    },
    {
     "name": "stderr",
     "output_type": "stream",
     "text": []
    },
    {
     "name": "stdout",
     "output_type": "stream",
     "text": [
      "Successfully processed chunk 30\n"
     ]
    },
    {
     "name": "stderr",
     "output_type": "stream",
     "text": []
    },
    {
     "name": "stdout",
     "output_type": "stream",
     "text": [
      "Successfully processed chunk 40\n"
     ]
    },
    {
     "name": "stderr",
     "output_type": "stream",
     "text": []
    },
    {
     "name": "stdout",
     "output_type": "stream",
     "text": [
      "Successfully processed chunk 50\n"
     ]
    },
    {
     "name": "stderr",
     "output_type": "stream",
     "text": []
    },
    {
     "name": "stdout",
     "output_type": "stream",
     "text": [
      "Successfully processed chunk 60\n"
     ]
    },
    {
     "name": "stderr",
     "output_type": "stream",
     "text": []
    },
    {
     "name": "stdout",
     "output_type": "stream",
     "text": [
      "Successfully processed chunk 70\n"
     ]
    },
    {
     "name": "stderr",
     "output_type": "stream",
     "text": []
    },
    {
     "name": "stdout",
     "output_type": "stream",
     "text": [
      "Successfully processed chunk 80\n"
     ]
    },
    {
     "name": "stderr",
     "output_type": "stream",
     "text": []
    },
    {
     "name": "stdout",
     "output_type": "stream",
     "text": [
      "Error processing chunk 2735: '910167696'\n"
     ]
    },
    {
     "name": "stderr",
     "output_type": "stream",
     "text": []
    },
    {
     "name": "stdout",
     "output_type": "stream",
     "text": [
      "Successfully processed chunk 90\n"
     ]
    },
    {
     "name": "stderr",
     "output_type": "stream",
     "text": [
      "Processing chunks:   2%|▏         | 99/5231 [07:57<6:52:46,  4.83s/it]\n"
     ]
    },
    {
     "name": "stdout",
     "output_type": "stream",
     "text": [
      "Successfully processed chunk 100\n",
      "\n",
      "Results saved to outputs/speeches_091_gpt_topic_labels.json\n",
      "topic frequency graph for 091_gpt_topic_labels.json\n"
     ]
    },
    {
     "name": "stderr",
     "output_type": "stream",
     "text": [
      "Processing files: 100%|██████████| 1/1 [00:00<00:00, 176.59it/s]\n",
      "Processing files:  39%|███▉      | 13/33 [1:57:11<2:44:38, 493.93s/it]"
     ]
    },
    {
     "name": "stdout",
     "output_type": "stream",
     "text": [
      "\n",
      "Topic Frequencies:\n",
      "----------------------------------------\n",
      "Defense and Security                 :    532\n",
      "Justice and Civil Rights             :    460\n",
      "Budget and Fiscal Responsibility     :    448\n",
      "Governance and Democracy             :    395\n",
      "Economy and Jobs                     :    330\n",
      "Education and Innovation             :    237\n",
      "Health and Social Services           :    213\n",
      "Infrastructure and Transportation    :    148\n",
      "Environment and Energy               :     89\n",
      "Immigration and Border Policy        :     13\n",
      "International Relations              :      3\n",
      "Energy and Environment               :      1\n",
      "Labor and Employment                 :      1\n",
      "Foreign Policy                       :      1\n",
      "Housing and Urban Development        :      1\n",
      "Population Growth and Urban Planning :      1\n",
      "Agriculture                          :      1\n",
      "Trade and Tariffs                    :      1\n",
      "Free Speech                          :      1\n",
      "Housing                              :      1\n",
      "----------------------------------------\n",
      "Total topics mentioned: 2877\n",
      "Processing file: ../hein-bound/speeches_092.txt\n",
      "Found 108418 speeches\n",
      "Split into 4683 chunks\n"
     ]
    },
    {
     "name": "stderr",
     "output_type": "stream",
     "text": []
    },
    {
     "name": "stdout",
     "output_type": "stream",
     "text": [
      "Error processing chunk 2080: '920135900'\n"
     ]
    },
    {
     "name": "stderr",
     "output_type": "stream",
     "text": []
    },
    {
     "name": "stdout",
     "output_type": "stream",
     "text": [
      "Successfully processed chunk 10\n"
     ]
    },
    {
     "name": "stderr",
     "output_type": "stream",
     "text": []
    },
    {
     "name": "stdout",
     "output_type": "stream",
     "text": [
      "Successfully processed chunk 20\n"
     ]
    },
    {
     "name": "stderr",
     "output_type": "stream",
     "text": []
    },
    {
     "name": "stdout",
     "output_type": "stream",
     "text": [
      "Error processing chunk 2782: '920185690'\n"
     ]
    },
    {
     "name": "stderr",
     "output_type": "stream",
     "text": []
    },
    {
     "name": "stdout",
     "output_type": "stream",
     "text": [
      "Successfully processed chunk 30\n"
     ]
    },
    {
     "name": "stderr",
     "output_type": "stream",
     "text": []
    },
    {
     "name": "stdout",
     "output_type": "stream",
     "text": [
      "Successfully processed chunk 40\n"
     ]
    },
    {
     "name": "stderr",
     "output_type": "stream",
     "text": []
    },
    {
     "name": "stdout",
     "output_type": "stream",
     "text": [
      "Successfully processed chunk 50\n"
     ]
    },
    {
     "name": "stderr",
     "output_type": "stream",
     "text": []
    },
    {
     "name": "stdout",
     "output_type": "stream",
     "text": [
      "Successfully processed chunk 60\n"
     ]
    },
    {
     "name": "stderr",
     "output_type": "stream",
     "text": []
    },
    {
     "name": "stdout",
     "output_type": "stream",
     "text": [
      "Successfully processed chunk 70\n"
     ]
    },
    {
     "name": "stderr",
     "output_type": "stream",
     "text": []
    },
    {
     "name": "stdout",
     "output_type": "stream",
     "text": [
      "Successfully processed chunk 80\n"
     ]
    },
    {
     "name": "stderr",
     "output_type": "stream",
     "text": []
    },
    {
     "name": "stdout",
     "output_type": "stream",
     "text": [
      "Error processing chunk 1449: '920092379'\n"
     ]
    },
    {
     "name": "stderr",
     "output_type": "stream",
     "text": []
    },
    {
     "name": "stdout",
     "output_type": "stream",
     "text": [
      "Successfully processed chunk 90\n"
     ]
    },
    {
     "name": "stderr",
     "output_type": "stream",
     "text": [
      "Processing chunks:   2%|▏         | 99/4683 [07:27<5:45:26,  4.52s/it]"
     ]
    },
    {
     "name": "stdout",
     "output_type": "stream",
     "text": [
      "Successfully processed chunk 100\n",
      "\n",
      "Results saved to outputs/speeches_092_gpt_topic_labels.json\n"
     ]
    },
    {
     "name": "stderr",
     "output_type": "stream",
     "text": [
      "\n"
     ]
    },
    {
     "name": "stdout",
     "output_type": "stream",
     "text": [
      "topic frequency graph for 092_gpt_topic_labels.json\n"
     ]
    },
    {
     "name": "stderr",
     "output_type": "stream",
     "text": [
      "Processing files: 100%|██████████| 1/1 [00:00<00:00, 185.12it/s]\n",
      "Processing files:  42%|████▏     | 14/33 [2:04:41<2:32:12, 480.66s/it]"
     ]
    },
    {
     "name": "stdout",
     "output_type": "stream",
     "text": [
      "\n",
      "Topic Frequencies:\n",
      "----------------------------------------\n",
      "Budget and Fiscal Responsibility  :    443\n",
      "Defense and Security              :    409\n",
      "Justice and Civil Rights          :    398\n",
      "Governance and Democracy          :    371\n",
      "Health and Social Services        :    286\n",
      "Economy and Jobs                  :    241\n",
      "Infrastructure and Transportation :    160\n",
      "Environment and Energy            :    157\n",
      "Education and Innovation          :    154\n",
      "Immigration and Border Policy     :     34\n",
      "Housing and Urban Development     :     23\n",
      "Agriculture                       :      8\n",
      "Housing                           :      1\n",
      "Culture and Community             :      1\n",
      "----------------------------------------\n",
      "Total topics mentioned: 2686\n",
      "Processing file: ../hein-bound/speeches_093.txt\n",
      "Found 117171 speeches\n",
      "Split into 5055 chunks\n"
     ]
    },
    {
     "name": "stderr",
     "output_type": "stream",
     "text": []
    },
    {
     "name": "stdout",
     "output_type": "stream",
     "text": [
      "Successfully processed chunk 10\n"
     ]
    },
    {
     "name": "stderr",
     "output_type": "stream",
     "text": []
    },
    {
     "name": "stdout",
     "output_type": "stream",
     "text": [
      "Successfully processed chunk 20\n"
     ]
    },
    {
     "name": "stderr",
     "output_type": "stream",
     "text": []
    },
    {
     "name": "stdout",
     "output_type": "stream",
     "text": [
      "Successfully processed chunk 30\n"
     ]
    },
    {
     "name": "stderr",
     "output_type": "stream",
     "text": []
    },
    {
     "name": "stdout",
     "output_type": "stream",
     "text": [
      "Successfully processed chunk 40\n"
     ]
    },
    {
     "name": "stderr",
     "output_type": "stream",
     "text": []
    },
    {
     "name": "stdout",
     "output_type": "stream",
     "text": [
      "Successfully processed chunk 50\n"
     ]
    },
    {
     "name": "stderr",
     "output_type": "stream",
     "text": []
    },
    {
     "name": "stdout",
     "output_type": "stream",
     "text": [
      "Successfully processed chunk 60\n"
     ]
    },
    {
     "name": "stderr",
     "output_type": "stream",
     "text": []
    },
    {
     "name": "stdout",
     "output_type": "stream",
     "text": [
      "Successfully processed chunk 70\n"
     ]
    },
    {
     "name": "stderr",
     "output_type": "stream",
     "text": []
    },
    {
     "name": "stdout",
     "output_type": "stream",
     "text": [
      "Successfully processed chunk 80\n"
     ]
    },
    {
     "name": "stderr",
     "output_type": "stream",
     "text": []
    },
    {
     "name": "stdout",
     "output_type": "stream",
     "text": [
      "Successfully processed chunk 90\n"
     ]
    },
    {
     "name": "stderr",
     "output_type": "stream",
     "text": [
      "Processing chunks:   2%|▏         | 99/5055 [07:50<6:32:08,  4.75s/it]"
     ]
    },
    {
     "name": "stdout",
     "output_type": "stream",
     "text": [
      "Successfully processed chunk 100\n",
      "\n",
      "Results saved to outputs/speeches_093_gpt_topic_labels.json\n"
     ]
    },
    {
     "name": "stderr",
     "output_type": "stream",
     "text": [
      "\n"
     ]
    },
    {
     "name": "stdout",
     "output_type": "stream",
     "text": [
      "topic frequency graph for 093_gpt_topic_labels.json\n"
     ]
    },
    {
     "name": "stderr",
     "output_type": "stream",
     "text": [
      "Processing files: 100%|██████████| 1/1 [00:00<00:00, 126.23it/s]\n",
      "Processing files:  45%|████▌     | 15/33 [2:12:34<2:23:27, 478.19s/it]"
     ]
    },
    {
     "name": "stdout",
     "output_type": "stream",
     "text": [
      "\n",
      "Topic Frequencies:\n",
      "----------------------------------------\n",
      "Governance and Democracy          :    555\n",
      "Justice and Civil Rights          :    437\n",
      "Budget and Fiscal Responsibility  :    431\n",
      "Economy and Jobs                  :    354\n",
      "Health and Social Services        :    265\n",
      "Defense and Security              :    231\n",
      "Education and Innovation          :    160\n",
      "Infrastructure and Transportation :    145\n",
      "Environment and Energy            :    143\n",
      "Immigration and Border Policy     :     22\n",
      "Agriculture                       :      6\n",
      "Technology and Innovation         :      1\n",
      "Housing                           :      1\n",
      "Housing and Urban Development     :      1\n",
      "Agriculture and Food Security     :      1\n",
      "----------------------------------------\n",
      "Total topics mentioned: 2753\n",
      "Processing file: ../hein-bound/speeches_094.txt\n",
      "Found 117164 speeches\n",
      "Split into 4917 chunks\n"
     ]
    },
    {
     "name": "stderr",
     "output_type": "stream",
     "text": []
    },
    {
     "name": "stdout",
     "output_type": "stream",
     "text": [
      "Successfully processed chunk 10\n"
     ]
    },
    {
     "name": "stderr",
     "output_type": "stream",
     "text": []
    },
    {
     "name": "stdout",
     "output_type": "stream",
     "text": [
      "Successfully processed chunk 20\n"
     ]
    },
    {
     "name": "stderr",
     "output_type": "stream",
     "text": []
    },
    {
     "name": "stdout",
     "output_type": "stream",
     "text": [
      "Error processing chunk 1035: '940073703'\n"
     ]
    },
    {
     "name": "stderr",
     "output_type": "stream",
     "text": []
    },
    {
     "name": "stdout",
     "output_type": "stream",
     "text": [
      "Successfully processed chunk 40\n"
     ]
    },
    {
     "name": "stderr",
     "output_type": "stream",
     "text": []
    },
    {
     "name": "stdout",
     "output_type": "stream",
     "text": [
      "Successfully processed chunk 50\n"
     ]
    },
    {
     "name": "stderr",
     "output_type": "stream",
     "text": []
    },
    {
     "name": "stdout",
     "output_type": "stream",
     "text": [
      "Successfully processed chunk 60\n"
     ]
    },
    {
     "name": "stderr",
     "output_type": "stream",
     "text": []
    },
    {
     "name": "stdout",
     "output_type": "stream",
     "text": [
      "Successfully processed chunk 70\n"
     ]
    },
    {
     "name": "stderr",
     "output_type": "stream",
     "text": []
    },
    {
     "name": "stdout",
     "output_type": "stream",
     "text": [
      "Successfully processed chunk 80\n"
     ]
    },
    {
     "name": "stderr",
     "output_type": "stream",
     "text": []
    },
    {
     "name": "stdout",
     "output_type": "stream",
     "text": [
      "Error processing chunk 4017: '940309100'\n"
     ]
    },
    {
     "name": "stderr",
     "output_type": "stream",
     "text": []
    },
    {
     "name": "stdout",
     "output_type": "stream",
     "text": [
      "Successfully processed chunk 90\n"
     ]
    },
    {
     "name": "stderr",
     "output_type": "stream",
     "text": [
      "Processing chunks:   2%|▏         | 99/4917 [07:39<6:12:38,  4.64s/it]"
     ]
    },
    {
     "name": "stdout",
     "output_type": "stream",
     "text": [
      "Successfully processed chunk 100\n",
      "\n",
      "Results saved to outputs/speeches_094_gpt_topic_labels.json\n"
     ]
    },
    {
     "name": "stderr",
     "output_type": "stream",
     "text": [
      "\n"
     ]
    },
    {
     "name": "stdout",
     "output_type": "stream",
     "text": [
      "topic frequency graph for 094_gpt_topic_labels.json\n"
     ]
    },
    {
     "name": "stderr",
     "output_type": "stream",
     "text": [
      "Processing files: 100%|██████████| 1/1 [00:00<00:00, 183.18it/s]\n",
      "Processing files:  48%|████▊     | 16/33 [2:20:15<2:14:05, 473.25s/it]"
     ]
    },
    {
     "name": "stdout",
     "output_type": "stream",
     "text": [
      "\n",
      "Topic Frequencies:\n",
      "----------------------------------------\n",
      "Governance and Democracy          :    617\n",
      "Justice and Civil Rights          :    435\n",
      "Economy and Jobs                  :    427\n",
      "Budget and Fiscal Responsibility  :    363\n",
      "Defense and Security              :    266\n",
      "Health and Social Services        :    251\n",
      "Environment and Energy            :    195\n",
      "Education and Innovation          :    110\n",
      "Infrastructure and Transportation :     85\n",
      "Immigration and Border Policy     :     23\n",
      "Housing and Community Development :     14\n",
      "Culture and Community             :      4\n",
      "Energy and Environment            :      1\n",
      "Foreign Policy                    :      1\n",
      "Housing and Urban Development     :      1\n",
      "----------------------------------------\n",
      "Total topics mentioned: 2793\n",
      "Processing file: ../hein-bound/speeches_095.txt\n",
      "Found 120409 speeches\n",
      "Split into 4996 chunks\n"
     ]
    },
    {
     "name": "stderr",
     "output_type": "stream",
     "text": []
    },
    {
     "name": "stdout",
     "output_type": "stream",
     "text": [
      "Successfully processed chunk 10\n"
     ]
    },
    {
     "name": "stderr",
     "output_type": "stream",
     "text": []
    },
    {
     "name": "stdout",
     "output_type": "stream",
     "text": [
      "Successfully processed chunk 20\n"
     ]
    },
    {
     "name": "stderr",
     "output_type": "stream",
     "text": []
    },
    {
     "name": "stdout",
     "output_type": "stream",
     "text": [
      "Successfully processed chunk 30\n"
     ]
    },
    {
     "name": "stderr",
     "output_type": "stream",
     "text": []
    },
    {
     "name": "stdout",
     "output_type": "stream",
     "text": [
      "Successfully processed chunk 40\n"
     ]
    },
    {
     "name": "stderr",
     "output_type": "stream",
     "text": []
    },
    {
     "name": "stdout",
     "output_type": "stream",
     "text": [
      "Successfully processed chunk 50\n"
     ]
    },
    {
     "name": "stderr",
     "output_type": "stream",
     "text": []
    },
    {
     "name": "stdout",
     "output_type": "stream",
     "text": [
      "Successfully processed chunk 60\n"
     ]
    },
    {
     "name": "stderr",
     "output_type": "stream",
     "text": []
    },
    {
     "name": "stdout",
     "output_type": "stream",
     "text": [
      "Successfully processed chunk 70\n"
     ]
    },
    {
     "name": "stderr",
     "output_type": "stream",
     "text": []
    },
    {
     "name": "stdout",
     "output_type": "stream",
     "text": [
      "Successfully processed chunk 80\n"
     ]
    },
    {
     "name": "stderr",
     "output_type": "stream",
     "text": []
    },
    {
     "name": "stdout",
     "output_type": "stream",
     "text": [
      "Successfully processed chunk 90\n"
     ]
    },
    {
     "name": "stderr",
     "output_type": "stream",
     "text": [
      "Processing chunks:   2%|▏         | 99/4996 [07:41<6:20:44,  4.67s/it]\n"
     ]
    },
    {
     "name": "stdout",
     "output_type": "stream",
     "text": [
      "Successfully processed chunk 100\n",
      "\n",
      "Results saved to outputs/speeches_095_gpt_topic_labels.json\n",
      "topic frequency graph for 095_gpt_topic_labels.json\n"
     ]
    },
    {
     "name": "stderr",
     "output_type": "stream",
     "text": [
      "Processing files: 100%|██████████| 1/1 [00:00<00:00, 139.82it/s]\n",
      "Processing files:  52%|█████▏    | 17/33 [2:27:59<2:05:27, 470.48s/it]"
     ]
    },
    {
     "name": "stdout",
     "output_type": "stream",
     "text": [
      "\n",
      "Topic Frequencies:\n",
      "----------------------------------------\n",
      "Justice and Civil Rights          :    558\n",
      "Governance and Democracy          :    533\n",
      "Economy and Jobs                  :    470\n",
      "Budget and Fiscal Responsibility  :    393\n",
      "Defense and Security              :    252\n",
      "Environment and Energy            :    198\n",
      "Health and Social Services        :    191\n",
      "Education and Innovation          :     86\n",
      "Infrastructure and Transportation :     64\n",
      "Immigration and Border Policy     :     36\n",
      "Energy and Environment            :     22\n",
      "Housing and Urban Affairs         :      1\n",
      "Agriculture                       :      1\n",
      "----------------------------------------\n",
      "Total topics mentioned: 2805\n",
      "Processing file: ../hein-bound/speeches_096.txt\n",
      "Found 107326 speeches\n",
      "Split into 4658 chunks\n"
     ]
    },
    {
     "name": "stderr",
     "output_type": "stream",
     "text": []
    },
    {
     "name": "stdout",
     "output_type": "stream",
     "text": [
      "Successfully processed chunk 10\n"
     ]
    },
    {
     "name": "stderr",
     "output_type": "stream",
     "text": []
    },
    {
     "name": "stdout",
     "output_type": "stream",
     "text": [
      "Successfully processed chunk 20\n"
     ]
    },
    {
     "name": "stderr",
     "output_type": "stream",
     "text": []
    },
    {
     "name": "stdout",
     "output_type": "stream",
     "text": [
      "Successfully processed chunk 30\n"
     ]
    },
    {
     "name": "stderr",
     "output_type": "stream",
     "text": []
    },
    {
     "name": "stdout",
     "output_type": "stream",
     "text": [
      "Successfully processed chunk 40\n"
     ]
    },
    {
     "name": "stderr",
     "output_type": "stream",
     "text": []
    },
    {
     "name": "stdout",
     "output_type": "stream",
     "text": [
      "Successfully processed chunk 50\n"
     ]
    },
    {
     "name": "stderr",
     "output_type": "stream",
     "text": []
    },
    {
     "name": "stdout",
     "output_type": "stream",
     "text": [
      "Successfully processed chunk 60\n"
     ]
    },
    {
     "name": "stderr",
     "output_type": "stream",
     "text": []
    },
    {
     "name": "stdout",
     "output_type": "stream",
     "text": [
      "Successfully processed chunk 70\n"
     ]
    },
    {
     "name": "stderr",
     "output_type": "stream",
     "text": []
    },
    {
     "name": "stdout",
     "output_type": "stream",
     "text": [
      "Successfully processed chunk 80\n"
     ]
    },
    {
     "name": "stderr",
     "output_type": "stream",
     "text": []
    },
    {
     "name": "stdout",
     "output_type": "stream",
     "text": [
      "Successfully processed chunk 90\n"
     ]
    },
    {
     "name": "stderr",
     "output_type": "stream",
     "text": [
      "Processing chunks:   2%|▏         | 99/4658 [07:32<5:47:18,  4.57s/it]"
     ]
    },
    {
     "name": "stdout",
     "output_type": "stream",
     "text": [
      "Successfully processed chunk 100\n",
      "\n",
      "Results saved to outputs/speeches_096_gpt_topic_labels.json\n"
     ]
    },
    {
     "name": "stderr",
     "output_type": "stream",
     "text": [
      "\n"
     ]
    },
    {
     "name": "stdout",
     "output_type": "stream",
     "text": [
      "topic frequency graph for 096_gpt_topic_labels.json\n"
     ]
    },
    {
     "name": "stderr",
     "output_type": "stream",
     "text": [
      "Processing files: 100%|██████████| 1/1 [00:00<00:00, 178.06it/s]\n",
      "Processing files:  55%|█████▍    | 18/33 [2:35:34<1:56:26, 465.79s/it]"
     ]
    },
    {
     "name": "stdout",
     "output_type": "stream",
     "text": [
      "\n",
      "Topic Frequencies:\n",
      "----------------------------------------\n",
      "Budget and Fiscal Responsibility  :    523\n",
      "Economy and Jobs                  :    393\n",
      "Defense and Security              :    389\n",
      "Environment and Energy            :    363\n",
      "Governance and Democracy          :    332\n",
      "Justice and Civil Rights          :    307\n",
      "Health and Social Services        :    179\n",
      "Education and Innovation          :    107\n",
      "Infrastructure and Transportation :     85\n",
      "Immigration and Border Policy     :     45\n",
      "Agriculture                       :      2\n",
      "Energy and Environment            :      1\n",
      "----------------------------------------\n",
      "Total topics mentioned: 2726\n",
      "Processing file: ../hein-bound/speeches_097.txt\n",
      "Found 89302 speeches\n",
      "Split into 4087 chunks\n"
     ]
    },
    {
     "name": "stderr",
     "output_type": "stream",
     "text": []
    },
    {
     "name": "stdout",
     "output_type": "stream",
     "text": [
      "Successfully processed chunk 10\n"
     ]
    },
    {
     "name": "stderr",
     "output_type": "stream",
     "text": []
    },
    {
     "name": "stdout",
     "output_type": "stream",
     "text": [
      "Error processing chunk 1292: '970083919'\n"
     ]
    },
    {
     "name": "stderr",
     "output_type": "stream",
     "text": []
    },
    {
     "name": "stdout",
     "output_type": "stream",
     "text": [
      "Error processing chunk 1263: '970082008'\n"
     ]
    },
    {
     "name": "stderr",
     "output_type": "stream",
     "text": []
    },
    {
     "name": "stdout",
     "output_type": "stream",
     "text": [
      "Successfully processed chunk 20\n"
     ]
    },
    {
     "name": "stderr",
     "output_type": "stream",
     "text": []
    },
    {
     "name": "stdout",
     "output_type": "stream",
     "text": [
      "Successfully processed chunk 30\n"
     ]
    },
    {
     "name": "stderr",
     "output_type": "stream",
     "text": []
    },
    {
     "name": "stdout",
     "output_type": "stream",
     "text": [
      "Successfully processed chunk 40\n"
     ]
    },
    {
     "name": "stderr",
     "output_type": "stream",
     "text": []
    },
    {
     "name": "stdout",
     "output_type": "stream",
     "text": [
      "Successfully processed chunk 50\n"
     ]
    },
    {
     "name": "stderr",
     "output_type": "stream",
     "text": []
    },
    {
     "name": "stdout",
     "output_type": "stream",
     "text": [
      "Successfully processed chunk 60\n"
     ]
    },
    {
     "name": "stderr",
     "output_type": "stream",
     "text": []
    },
    {
     "name": "stdout",
     "output_type": "stream",
     "text": [
      "Successfully processed chunk 70\n"
     ]
    },
    {
     "name": "stderr",
     "output_type": "stream",
     "text": []
    },
    {
     "name": "stdout",
     "output_type": "stream",
     "text": [
      "Successfully processed chunk 80\n"
     ]
    },
    {
     "name": "stderr",
     "output_type": "stream",
     "text": []
    },
    {
     "name": "stdout",
     "output_type": "stream",
     "text": [
      "Successfully processed chunk 90\n"
     ]
    },
    {
     "name": "stderr",
     "output_type": "stream",
     "text": [
      "Processing chunks:   2%|▏         | 99/4087 [07:27<5:00:11,  4.52s/it]"
     ]
    },
    {
     "name": "stdout",
     "output_type": "stream",
     "text": [
      "Successfully processed chunk 100\n",
      "\n",
      "Results saved to outputs/speeches_097_gpt_topic_labels.json\n"
     ]
    },
    {
     "name": "stderr",
     "output_type": "stream",
     "text": [
      "\n"
     ]
    },
    {
     "name": "stdout",
     "output_type": "stream",
     "text": [
      "topic frequency graph for 097_gpt_topic_labels.json\n"
     ]
    },
    {
     "name": "stderr",
     "output_type": "stream",
     "text": [
      "Processing files: 100%|██████████| 1/1 [00:00<00:00, 171.93it/s]\n",
      "Processing files:  58%|█████▊    | 19/33 [2:43:04<1:47:31, 460.82s/it]"
     ]
    },
    {
     "name": "stdout",
     "output_type": "stream",
     "text": [
      "\n",
      "Topic Frequencies:\n",
      "----------------------------------------\n",
      "Budget and Fiscal Responsibility  :    606\n",
      "Economy and Jobs                  :    370\n",
      "Defense and Security              :    361\n",
      "Justice and Civil Rights          :    343\n",
      "Governance and Democracy          :    330\n",
      "Health and Social Services        :    235\n",
      "Environment and Energy            :    143\n",
      "Education and Innovation          :    116\n",
      "Infrastructure and Transportation :     78\n",
      "Immigration and Border Policy     :     50\n",
      "Community Engagement              :      3\n",
      "Housing Policy                    :      1\n",
      "Energy                            :      1\n",
      "Agriculture and Food              :      1\n",
      "Agriculture                       :      1\n",
      "----------------------------------------\n",
      "Total topics mentioned: 2639\n",
      "Processing file: ../hein-bound/speeches_098.txt\n",
      "Found 91014 speeches\n",
      "Split into 4245 chunks\n"
     ]
    },
    {
     "name": "stderr",
     "output_type": "stream",
     "text": []
    },
    {
     "name": "stdout",
     "output_type": "stream",
     "text": [
      "Successfully processed chunk 10\n"
     ]
    },
    {
     "name": "stderr",
     "output_type": "stream",
     "text": []
    },
    {
     "name": "stdout",
     "output_type": "stream",
     "text": [
      "Successfully processed chunk 20\n"
     ]
    },
    {
     "name": "stderr",
     "output_type": "stream",
     "text": []
    },
    {
     "name": "stdout",
     "output_type": "stream",
     "text": [
      "Error processing chunk 2120: '980142048'\n"
     ]
    },
    {
     "name": "stderr",
     "output_type": "stream",
     "text": []
    },
    {
     "name": "stdout",
     "output_type": "stream",
     "text": [
      "Successfully processed chunk 30\n"
     ]
    },
    {
     "name": "stderr",
     "output_type": "stream",
     "text": []
    },
    {
     "name": "stdout",
     "output_type": "stream",
     "text": [
      "Successfully processed chunk 40\n"
     ]
    },
    {
     "name": "stderr",
     "output_type": "stream",
     "text": []
    },
    {
     "name": "stdout",
     "output_type": "stream",
     "text": [
      "Successfully processed chunk 50\n"
     ]
    },
    {
     "name": "stderr",
     "output_type": "stream",
     "text": []
    },
    {
     "name": "stdout",
     "output_type": "stream",
     "text": [
      "Successfully processed chunk 60\n"
     ]
    },
    {
     "name": "stderr",
     "output_type": "stream",
     "text": []
    },
    {
     "name": "stdout",
     "output_type": "stream",
     "text": [
      "Successfully processed chunk 70\n"
     ]
    },
    {
     "name": "stderr",
     "output_type": "stream",
     "text": []
    },
    {
     "name": "stdout",
     "output_type": "stream",
     "text": [
      "Error processing chunk 2996: '980194090'\n"
     ]
    },
    {
     "name": "stderr",
     "output_type": "stream",
     "text": []
    },
    {
     "name": "stdout",
     "output_type": "stream",
     "text": [
      "Successfully processed chunk 80\n"
     ]
    },
    {
     "name": "stderr",
     "output_type": "stream",
     "text": []
    },
    {
     "name": "stdout",
     "output_type": "stream",
     "text": [
      "Successfully processed chunk 90\n"
     ]
    },
    {
     "name": "stderr",
     "output_type": "stream",
     "text": [
      "Processing chunks:   2%|▏         | 99/4245 [07:03<4:55:50,  4.28s/it]"
     ]
    },
    {
     "name": "stdout",
     "output_type": "stream",
     "text": [
      "Successfully processed chunk 100\n",
      "\n",
      "Results saved to outputs/speeches_098_gpt_topic_labels.json\n"
     ]
    },
    {
     "name": "stderr",
     "output_type": "stream",
     "text": [
      "\n"
     ]
    },
    {
     "name": "stdout",
     "output_type": "stream",
     "text": [
      "topic frequency graph for 098_gpt_topic_labels.json\n"
     ]
    },
    {
     "name": "stderr",
     "output_type": "stream",
     "text": [
      "Processing files: 100%|██████████| 1/1 [00:00<00:00, 148.17it/s]\n",
      "Processing files:  61%|██████    | 20/33 [2:50:10<1:37:34, 450.35s/it]"
     ]
    },
    {
     "name": "stdout",
     "output_type": "stream",
     "text": [
      "\n",
      "Topic Frequencies:\n",
      "----------------------------------------\n",
      "Governance and Democracy          :    407\n",
      "Budget and Fiscal Responsibility  :    400\n",
      "Defense and Security              :    390\n",
      "Justice and Civil Rights          :    346\n",
      "Economy and Jobs                  :    291\n",
      "Health and Social Services        :    175\n",
      "Education and Innovation          :    129\n",
      "Environment and Energy            :    103\n",
      "Infrastructure and Transportation :     93\n",
      "Immigration and Border Policy     :     56\n",
      "Agriculture                       :     15\n",
      "Housing and Urban Development     :      6\n",
      "Agriculture and Food Policy       :      5\n",
      "Community Service                 :      3\n",
      "Culture and Arts                  :      2\n",
      "Water Rights                      :      2\n",
      "Community Development             :      1\n",
      "Innovation and Technology         :      1\n",
      "Housing                           :      1\n",
      "Culture and Society               :      1\n",
      "----------------------------------------\n",
      "Total topics mentioned: 2427\n",
      "Processing file: ../hein-bound/speeches_099.txt\n",
      "Found 90966 speeches\n",
      "Split into 4306 chunks\n"
     ]
    },
    {
     "name": "stderr",
     "output_type": "stream",
     "text": []
    },
    {
     "name": "stdout",
     "output_type": "stream",
     "text": [
      "Successfully processed chunk 10\n"
     ]
    },
    {
     "name": "stderr",
     "output_type": "stream",
     "text": []
    },
    {
     "name": "stdout",
     "output_type": "stream",
     "text": [
      "Successfully processed chunk 20\n"
     ]
    },
    {
     "name": "stderr",
     "output_type": "stream",
     "text": []
    },
    {
     "name": "stdout",
     "output_type": "stream",
     "text": [
      "Successfully processed chunk 30\n"
     ]
    },
    {
     "name": "stderr",
     "output_type": "stream",
     "text": []
    },
    {
     "name": "stdout",
     "output_type": "stream",
     "text": [
      "Successfully processed chunk 40\n"
     ]
    },
    {
     "name": "stderr",
     "output_type": "stream",
     "text": []
    },
    {
     "name": "stdout",
     "output_type": "stream",
     "text": [
      "Successfully processed chunk 50\n"
     ]
    },
    {
     "name": "stderr",
     "output_type": "stream",
     "text": []
    },
    {
     "name": "stdout",
     "output_type": "stream",
     "text": [
      "Successfully processed chunk 60\n"
     ]
    },
    {
     "name": "stderr",
     "output_type": "stream",
     "text": []
    },
    {
     "name": "stdout",
     "output_type": "stream",
     "text": [
      "Successfully processed chunk 70\n"
     ]
    },
    {
     "name": "stderr",
     "output_type": "stream",
     "text": []
    },
    {
     "name": "stdout",
     "output_type": "stream",
     "text": [
      "Successfully processed chunk 80\n"
     ]
    },
    {
     "name": "stderr",
     "output_type": "stream",
     "text": []
    },
    {
     "name": "stdout",
     "output_type": "stream",
     "text": [
      "Successfully processed chunk 90\n"
     ]
    },
    {
     "name": "stderr",
     "output_type": "stream",
     "text": [
      "Processing chunks:   2%|▏         | 99/4306 [07:23<5:14:08,  4.48s/it]\n"
     ]
    },
    {
     "name": "stdout",
     "output_type": "stream",
     "text": [
      "Successfully processed chunk 100\n",
      "\n",
      "Results saved to outputs/speeches_099_gpt_topic_labels.json\n",
      "topic frequency graph for 099_gpt_topic_labels.json\n"
     ]
    },
    {
     "name": "stderr",
     "output_type": "stream",
     "text": [
      "Processing files: 100%|██████████| 1/1 [00:00<00:00, 183.86it/s]\n",
      "Processing files:  64%|██████▎   | 21/33 [2:57:35<1:29:46, 448.92s/it]"
     ]
    },
    {
     "name": "stdout",
     "output_type": "stream",
     "text": [
      "\n",
      "Topic Frequencies:\n",
      "----------------------------------------\n",
      "Budget and Fiscal Responsibility  :    666\n",
      "Justice and Civil Rights          :    369\n",
      "Defense and Security              :    340\n",
      "Economy and Jobs                  :    320\n",
      "Governance and Democracy          :    275\n",
      "Health and Social Services        :    220\n",
      "Environment and Energy            :    139\n",
      "Infrastructure and Transportation :    107\n",
      "Education and Innovation          :     88\n",
      "Immigration and Border Policy     :     31\n",
      "Housing and Urban Development     :     16\n",
      "Agriculture                       :      2\n",
      "Trade and Foreign Policy          :      1\n",
      "Housing and Community Development :      1\n",
      "Trade Policy                      :      1\n",
      "Labor and Employment              :      1\n",
      "----------------------------------------\n",
      "Total topics mentioned: 2577\n",
      "Processing file: ../hein-bound/speeches_100.txt\n",
      "Found 85604 speeches\n",
      "Split into 4154 chunks\n"
     ]
    },
    {
     "name": "stderr",
     "output_type": "stream",
     "text": []
    },
    {
     "name": "stdout",
     "output_type": "stream",
     "text": [
      "Successfully processed chunk 10\n"
     ]
    },
    {
     "name": "stderr",
     "output_type": "stream",
     "text": []
    },
    {
     "name": "stdout",
     "output_type": "stream",
     "text": [
      "Successfully processed chunk 20\n"
     ]
    },
    {
     "name": "stderr",
     "output_type": "stream",
     "text": []
    },
    {
     "name": "stdout",
     "output_type": "stream",
     "text": [
      "Error processing chunk 2364: '1000154296'\n"
     ]
    },
    {
     "name": "stderr",
     "output_type": "stream",
     "text": []
    },
    {
     "name": "stdout",
     "output_type": "stream",
     "text": [
      "Successfully processed chunk 30\n"
     ]
    },
    {
     "name": "stderr",
     "output_type": "stream",
     "text": []
    },
    {
     "name": "stdout",
     "output_type": "stream",
     "text": [
      "Successfully processed chunk 40\n"
     ]
    },
    {
     "name": "stderr",
     "output_type": "stream",
     "text": []
    },
    {
     "name": "stdout",
     "output_type": "stream",
     "text": [
      "Successfully processed chunk 50\n"
     ]
    },
    {
     "name": "stderr",
     "output_type": "stream",
     "text": []
    },
    {
     "name": "stdout",
     "output_type": "stream",
     "text": [
      "Successfully processed chunk 60\n"
     ]
    },
    {
     "name": "stderr",
     "output_type": "stream",
     "text": []
    },
    {
     "name": "stdout",
     "output_type": "stream",
     "text": [
      "Successfully processed chunk 70\n"
     ]
    },
    {
     "name": "stderr",
     "output_type": "stream",
     "text": []
    },
    {
     "name": "stdout",
     "output_type": "stream",
     "text": [
      "Successfully processed chunk 80\n"
     ]
    },
    {
     "name": "stderr",
     "output_type": "stream",
     "text": []
    },
    {
     "name": "stdout",
     "output_type": "stream",
     "text": [
      "Successfully processed chunk 90\n"
     ]
    },
    {
     "name": "stderr",
     "output_type": "stream",
     "text": [
      "Processing chunks:   2%|▏         | 99/4154 [07:30<5:07:26,  4.55s/it]"
     ]
    },
    {
     "name": "stdout",
     "output_type": "stream",
     "text": [
      "Successfully processed chunk 100\n",
      "\n",
      "Results saved to outputs/speeches_100_gpt_topic_labels.json\n"
     ]
    },
    {
     "name": "stderr",
     "output_type": "stream",
     "text": [
      "\n"
     ]
    },
    {
     "name": "stdout",
     "output_type": "stream",
     "text": [
      "topic frequency graph for 100_gpt_topic_labels.json\n"
     ]
    },
    {
     "name": "stderr",
     "output_type": "stream",
     "text": [
      "Processing files: 100%|██████████| 1/1 [00:00<00:00, 186.49it/s]\n",
      "Processing files:  67%|██████▋   | 22/33 [3:05:08<1:22:30, 450.01s/it]"
     ]
    },
    {
     "name": "stdout",
     "output_type": "stream",
     "text": [
      "\n",
      "Topic Frequencies:\n",
      "----------------------------------------\n",
      "Defense and Security              :    394\n",
      "Governance and Democracy          :    363\n",
      "Justice and Civil Rights          :    347\n",
      "Budget and Fiscal Responsibility  :    305\n",
      "Health and Social Services        :    246\n",
      "Economy and Jobs                  :    242\n",
      "Environment and Energy            :    137\n",
      "Education and Innovation          :    127\n",
      "Infrastructure and Transportation :     69\n",
      "Immigration and Border Policy     :     26\n",
      "Housing and Community Development :      1\n",
      "Energy and Environment            :      1\n",
      "----------------------------------------\n",
      "Total topics mentioned: 2258\n",
      "Processing file: ../hein-bound/speeches_101.txt\n",
      "Found 78132 speeches\n",
      "Split into 3920 chunks\n"
     ]
    },
    {
     "name": "stderr",
     "output_type": "stream",
     "text": []
    },
    {
     "name": "stdout",
     "output_type": "stream",
     "text": [
      "Successfully processed chunk 10\n"
     ]
    },
    {
     "name": "stderr",
     "output_type": "stream",
     "text": []
    },
    {
     "name": "stdout",
     "output_type": "stream",
     "text": [
      "Successfully processed chunk 20\n"
     ]
    },
    {
     "name": "stderr",
     "output_type": "stream",
     "text": []
    },
    {
     "name": "stdout",
     "output_type": "stream",
     "text": [
      "Successfully processed chunk 30\n"
     ]
    },
    {
     "name": "stderr",
     "output_type": "stream",
     "text": []
    },
    {
     "name": "stdout",
     "output_type": "stream",
     "text": [
      "Successfully processed chunk 40\n"
     ]
    },
    {
     "name": "stderr",
     "output_type": "stream",
     "text": []
    },
    {
     "name": "stdout",
     "output_type": "stream",
     "text": [
      "Successfully processed chunk 50\n"
     ]
    },
    {
     "name": "stderr",
     "output_type": "stream",
     "text": []
    },
    {
     "name": "stdout",
     "output_type": "stream",
     "text": [
      "Successfully processed chunk 60\n"
     ]
    },
    {
     "name": "stderr",
     "output_type": "stream",
     "text": []
    },
    {
     "name": "stdout",
     "output_type": "stream",
     "text": [
      "Successfully processed chunk 70\n"
     ]
    },
    {
     "name": "stderr",
     "output_type": "stream",
     "text": []
    },
    {
     "name": "stdout",
     "output_type": "stream",
     "text": [
      "Successfully processed chunk 80\n"
     ]
    },
    {
     "name": "stderr",
     "output_type": "stream",
     "text": []
    },
    {
     "name": "stdout",
     "output_type": "stream",
     "text": [
      "Successfully processed chunk 90\n"
     ]
    },
    {
     "name": "stderr",
     "output_type": "stream",
     "text": [
      "Processing chunks:   3%|▎         | 99/3920 [06:56<4:27:48,  4.21s/it]"
     ]
    },
    {
     "name": "stdout",
     "output_type": "stream",
     "text": [
      "Successfully processed chunk 100\n",
      "\n",
      "Results saved to outputs/speeches_101_gpt_topic_labels.json\n"
     ]
    },
    {
     "name": "stderr",
     "output_type": "stream",
     "text": [
      "\n"
     ]
    },
    {
     "name": "stdout",
     "output_type": "stream",
     "text": [
      "topic frequency graph for 101_gpt_topic_labels.json\n"
     ]
    },
    {
     "name": "stderr",
     "output_type": "stream",
     "text": [
      "Processing files: 100%|██████████| 1/1 [00:00<00:00, 68.96it/s]\n",
      "Processing files:  70%|██████▉   | 23/33 [3:12:06<1:13:25, 440.55s/it]"
     ]
    },
    {
     "name": "stdout",
     "output_type": "stream",
     "text": [
      "\n",
      "Topic Frequencies:\n",
      "----------------------------------------\n",
      "Governance and Democracy          :    362\n",
      "Justice and Civil Rights          :    346\n",
      "Budget and Fiscal Responsibility  :    304\n",
      "Health and Social Services        :    291\n",
      "Defense and Security              :    265\n",
      "Economy and Jobs                  :    213\n",
      "Education and Innovation          :    164\n",
      "Environment and Energy            :    116\n",
      "Infrastructure and Transportation :     68\n",
      "Immigration and Border Policy     :     35\n",
      "Housing and Community Development :      7\n",
      "Culture and Arts                  :      3\n",
      "Community Engagement              :      3\n",
      "Community and Social Services     :      2\n",
      "Labor and Jobs                    :      1\n",
      "Housing                           :      1\n",
      "Culture and Community             :      1\n",
      "Foreign Policy                    :      1\n",
      "----------------------------------------\n",
      "Total topics mentioned: 2183\n",
      "Processing file: ../hein-bound/speeches_102.txt\n",
      "Found 76048 speeches\n",
      "Split into 3903 chunks\n"
     ]
    },
    {
     "name": "stderr",
     "output_type": "stream",
     "text": []
    },
    {
     "name": "stdout",
     "output_type": "stream",
     "text": [
      "Error processing chunk 685: '1020033889'\n"
     ]
    },
    {
     "name": "stderr",
     "output_type": "stream",
     "text": []
    },
    {
     "name": "stdout",
     "output_type": "stream",
     "text": [
      "Successfully processed chunk 10\n"
     ]
    },
    {
     "name": "stderr",
     "output_type": "stream",
     "text": []
    },
    {
     "name": "stdout",
     "output_type": "stream",
     "text": [
      "Successfully processed chunk 20\n"
     ]
    },
    {
     "name": "stderr",
     "output_type": "stream",
     "text": []
    },
    {
     "name": "stdout",
     "output_type": "stream",
     "text": [
      "Successfully processed chunk 30\n"
     ]
    },
    {
     "name": "stderr",
     "output_type": "stream",
     "text": []
    },
    {
     "name": "stdout",
     "output_type": "stream",
     "text": [
      "Successfully processed chunk 40\n"
     ]
    },
    {
     "name": "stderr",
     "output_type": "stream",
     "text": []
    },
    {
     "name": "stdout",
     "output_type": "stream",
     "text": [
      "Successfully processed chunk 50\n"
     ]
    },
    {
     "name": "stderr",
     "output_type": "stream",
     "text": []
    },
    {
     "name": "stdout",
     "output_type": "stream",
     "text": [
      "Successfully processed chunk 60\n"
     ]
    },
    {
     "name": "stderr",
     "output_type": "stream",
     "text": []
    },
    {
     "name": "stdout",
     "output_type": "stream",
     "text": [
      "Error processing chunk 1489: '1020088069'\n"
     ]
    },
    {
     "name": "stderr",
     "output_type": "stream",
     "text": []
    },
    {
     "name": "stdout",
     "output_type": "stream",
     "text": [
      "Successfully processed chunk 70\n"
     ]
    },
    {
     "name": "stderr",
     "output_type": "stream",
     "text": []
    },
    {
     "name": "stdout",
     "output_type": "stream",
     "text": [
      "Error processing chunk 3604: '1020220697'\n"
     ]
    },
    {
     "name": "stderr",
     "output_type": "stream",
     "text": []
    },
    {
     "name": "stdout",
     "output_type": "stream",
     "text": [
      "Successfully processed chunk 80\n"
     ]
    },
    {
     "name": "stderr",
     "output_type": "stream",
     "text": []
    },
    {
     "name": "stdout",
     "output_type": "stream",
     "text": [
      "Successfully processed chunk 90\n"
     ]
    },
    {
     "name": "stderr",
     "output_type": "stream",
     "text": [
      "Processing chunks:   3%|▎         | 99/3903 [07:29<4:47:55,  4.54s/it]"
     ]
    },
    {
     "name": "stdout",
     "output_type": "stream",
     "text": [
      "Successfully processed chunk 100\n",
      "\n",
      "Results saved to outputs/speeches_102_gpt_topic_labels.json\n"
     ]
    },
    {
     "name": "stderr",
     "output_type": "stream",
     "text": [
      "\n"
     ]
    },
    {
     "name": "stdout",
     "output_type": "stream",
     "text": [
      "topic frequency graph for 102_gpt_topic_labels.json\n"
     ]
    },
    {
     "name": "stderr",
     "output_type": "stream",
     "text": [
      "Processing files: 100%|██████████| 1/1 [00:00<00:00, 148.48it/s]\n",
      "Processing files:  73%|███████▎  | 24/33 [3:19:38<1:06:35, 443.90s/it]"
     ]
    },
    {
     "name": "stdout",
     "output_type": "stream",
     "text": [
      "\n",
      "Topic Frequencies:\n",
      "----------------------------------------\n",
      "Justice and Civil Rights          :    387\n",
      "Governance and Democracy          :    376\n",
      "Economy and Jobs                  :    339\n",
      "Defense and Security              :    299\n",
      "Budget and Fiscal Responsibility  :    297\n",
      "Health and Social Services        :    259\n",
      "Environment and Energy            :    146\n",
      "Education and Innovation          :    145\n",
      "Infrastructure and Transportation :     73\n",
      "Immigration and Border Policy     :     23\n",
      "Culture and Heritage              :      2\n",
      "Community Service                 :      2\n",
      "Community Development             :      2\n",
      "Trade and Tariffs                 :      2\n",
      "Agriculture                       :      2\n",
      "Agriculture and Rural Development :      1\n",
      "Energy and Environment            :      1\n",
      "Disaster Relief                   :      1\n",
      "Housing and Urban Development     :      1\n",
      "Trade                             :      1\n",
      "----------------------------------------\n",
      "Total topics mentioned: 2359\n",
      "Processing file: ../hein-bound/speeches_103.txt\n",
      "Found 73493 speeches\n",
      "Split into 3645 chunks\n"
     ]
    },
    {
     "name": "stderr",
     "output_type": "stream",
     "text": []
    },
    {
     "name": "stdout",
     "output_type": "stream",
     "text": [
      "Successfully processed chunk 10\n"
     ]
    },
    {
     "name": "stderr",
     "output_type": "stream",
     "text": []
    },
    {
     "name": "stdout",
     "output_type": "stream",
     "text": [
      "Successfully processed chunk 20\n"
     ]
    },
    {
     "name": "stderr",
     "output_type": "stream",
     "text": []
    },
    {
     "name": "stdout",
     "output_type": "stream",
     "text": [
      "Successfully processed chunk 30\n"
     ]
    },
    {
     "name": "stderr",
     "output_type": "stream",
     "text": []
    },
    {
     "name": "stdout",
     "output_type": "stream",
     "text": [
      "Successfully processed chunk 40\n"
     ]
    },
    {
     "name": "stderr",
     "output_type": "stream",
     "text": []
    },
    {
     "name": "stdout",
     "output_type": "stream",
     "text": [
      "Error processing chunk 2884: '1030184705'\n"
     ]
    },
    {
     "name": "stderr",
     "output_type": "stream",
     "text": []
    },
    {
     "name": "stdout",
     "output_type": "stream",
     "text": [
      "Successfully processed chunk 50\n"
     ]
    },
    {
     "name": "stderr",
     "output_type": "stream",
     "text": []
    },
    {
     "name": "stdout",
     "output_type": "stream",
     "text": [
      "Successfully processed chunk 60\n"
     ]
    },
    {
     "name": "stderr",
     "output_type": "stream",
     "text": []
    },
    {
     "name": "stdout",
     "output_type": "stream",
     "text": [
      "Successfully processed chunk 70\n"
     ]
    },
    {
     "name": "stderr",
     "output_type": "stream",
     "text": []
    },
    {
     "name": "stdout",
     "output_type": "stream",
     "text": [
      "Successfully processed chunk 80\n"
     ]
    },
    {
     "name": "stderr",
     "output_type": "stream",
     "text": []
    },
    {
     "name": "stdout",
     "output_type": "stream",
     "text": [
      "Successfully processed chunk 90\n"
     ]
    },
    {
     "name": "stderr",
     "output_type": "stream",
     "text": [
      "Processing chunks:   3%|▎         | 99/3645 [06:38<3:57:36,  4.02s/it]\n"
     ]
    },
    {
     "name": "stdout",
     "output_type": "stream",
     "text": [
      "Successfully processed chunk 100\n",
      "\n",
      "Results saved to outputs/speeches_103_gpt_topic_labels.json\n",
      "topic frequency graph for 103_gpt_topic_labels.json\n"
     ]
    },
    {
     "name": "stderr",
     "output_type": "stream",
     "text": [
      "Processing files: 100%|██████████| 1/1 [00:00<00:00, 158.13it/s]\n",
      "Processing files:  76%|███████▌  | 25/33 [3:26:18<57:25, 430.66s/it]  "
     ]
    },
    {
     "name": "stdout",
     "output_type": "stream",
     "text": [
      "\n",
      "Topic Frequencies:\n",
      "----------------------------------------\n",
      "Budget and Fiscal Responsibility  :    464\n",
      "Economy and Jobs                  :    378\n",
      "Justice and Civil Rights          :    295\n",
      "Governance and Democracy          :    284\n",
      "Defense and Security              :    251\n",
      "Health and Social Services        :    209\n",
      "Education and Innovation          :    180\n",
      "Environment and Energy            :     87\n",
      "Infrastructure and Transportation :     81\n",
      "Immigration and Border Policy     :     23\n",
      "Housing and Urban Development     :      2\n",
      "Trade and Foreign Policy          :      1\n",
      "----------------------------------------\n",
      "Total topics mentioned: 2255\n",
      "Processing file: ../hein-bound/speeches_104.txt\n",
      "Found 85117 speeches\n",
      "Split into 4091 chunks\n"
     ]
    },
    {
     "name": "stderr",
     "output_type": "stream",
     "text": []
    },
    {
     "name": "stdout",
     "output_type": "stream",
     "text": [
      "Successfully processed chunk 10\n"
     ]
    },
    {
     "name": "stderr",
     "output_type": "stream",
     "text": []
    },
    {
     "name": "stdout",
     "output_type": "stream",
     "text": [
      "Successfully processed chunk 20\n"
     ]
    },
    {
     "name": "stderr",
     "output_type": "stream",
     "text": []
    },
    {
     "name": "stdout",
     "output_type": "stream",
     "text": [
      "Successfully processed chunk 30\n"
     ]
    },
    {
     "name": "stderr",
     "output_type": "stream",
     "text": []
    },
    {
     "name": "stdout",
     "output_type": "stream",
     "text": [
      "Successfully processed chunk 40\n"
     ]
    },
    {
     "name": "stderr",
     "output_type": "stream",
     "text": []
    },
    {
     "name": "stdout",
     "output_type": "stream",
     "text": [
      "Error processing chunk 156: '1040010745'\n"
     ]
    },
    {
     "name": "stderr",
     "output_type": "stream",
     "text": []
    },
    {
     "name": "stdout",
     "output_type": "stream",
     "text": [
      "Successfully processed chunk 50\n"
     ]
    },
    {
     "name": "stderr",
     "output_type": "stream",
     "text": []
    },
    {
     "name": "stdout",
     "output_type": "stream",
     "text": [
      "Successfully processed chunk 60\n"
     ]
    },
    {
     "name": "stderr",
     "output_type": "stream",
     "text": []
    },
    {
     "name": "stdout",
     "output_type": "stream",
     "text": [
      "Successfully processed chunk 70\n"
     ]
    },
    {
     "name": "stderr",
     "output_type": "stream",
     "text": []
    },
    {
     "name": "stdout",
     "output_type": "stream",
     "text": [
      "Successfully processed chunk 80\n"
     ]
    },
    {
     "name": "stderr",
     "output_type": "stream",
     "text": []
    },
    {
     "name": "stdout",
     "output_type": "stream",
     "text": [
      "Successfully processed chunk 90\n"
     ]
    },
    {
     "name": "stderr",
     "output_type": "stream",
     "text": [
      "Processing chunks:   2%|▏         | 99/4091 [07:21<4:56:23,  4.45s/it]\n"
     ]
    },
    {
     "name": "stdout",
     "output_type": "stream",
     "text": [
      "Successfully processed chunk 100\n",
      "\n",
      "Results saved to outputs/speeches_104_gpt_topic_labels.json\n",
      "topic frequency graph for 104_gpt_topic_labels.json\n"
     ]
    },
    {
     "name": "stderr",
     "output_type": "stream",
     "text": [
      "Processing files: 100%|██████████| 1/1 [00:00<00:00, 199.92it/s]\n",
      "Processing files:  79%|███████▉  | 26/33 [3:33:41<50:40, 434.39s/it]"
     ]
    },
    {
     "name": "stdout",
     "output_type": "stream",
     "text": [
      "\n",
      "Topic Frequencies:\n",
      "----------------------------------------\n",
      "Budget and Fiscal Responsibility  :    476\n",
      "Justice and Civil Rights          :    381\n",
      "Economy and Jobs                  :    334\n",
      "Governance and Democracy          :    325\n",
      "Health and Social Services        :    305\n",
      "Defense and Security              :    253\n",
      "Education and Innovation          :    159\n",
      "Environment and Energy            :     98\n",
      "Infrastructure and Transportation :     64\n",
      "Immigration and Border Policy     :     41\n",
      "Housing and Urban Development     :      1\n",
      "Community Engagement              :      1\n",
      "----------------------------------------\n",
      "Total topics mentioned: 2438\n",
      "Processing file: ../hein-bound/speeches_105.txt\n",
      "Found 64301 speeches\n",
      "Split into 3233 chunks\n"
     ]
    },
    {
     "name": "stderr",
     "output_type": "stream",
     "text": []
    },
    {
     "name": "stdout",
     "output_type": "stream",
     "text": [
      "Successfully processed chunk 10\n"
     ]
    },
    {
     "name": "stderr",
     "output_type": "stream",
     "text": []
    },
    {
     "name": "stdout",
     "output_type": "stream",
     "text": [
      "Successfully processed chunk 20\n"
     ]
    },
    {
     "name": "stderr",
     "output_type": "stream",
     "text": []
    },
    {
     "name": "stdout",
     "output_type": "stream",
     "text": [
      "Successfully processed chunk 30\n"
     ]
    },
    {
     "name": "stderr",
     "output_type": "stream",
     "text": []
    },
    {
     "name": "stdout",
     "output_type": "stream",
     "text": [
      "Successfully processed chunk 40\n"
     ]
    },
    {
     "name": "stderr",
     "output_type": "stream",
     "text": []
    },
    {
     "name": "stdout",
     "output_type": "stream",
     "text": [
      "Successfully processed chunk 50\n"
     ]
    },
    {
     "name": "stderr",
     "output_type": "stream",
     "text": []
    },
    {
     "name": "stdout",
     "output_type": "stream",
     "text": [
      "Successfully processed chunk 60\n"
     ]
    },
    {
     "name": "stderr",
     "output_type": "stream",
     "text": []
    },
    {
     "name": "stdout",
     "output_type": "stream",
     "text": [
      "Error processing chunk 2077: Unterminated string starting at: line 3188 column 20 (char 65017)\n"
     ]
    },
    {
     "name": "stderr",
     "output_type": "stream",
     "text": []
    },
    {
     "name": "stdout",
     "output_type": "stream",
     "text": [
      "Successfully processed chunk 70\n"
     ]
    },
    {
     "name": "stderr",
     "output_type": "stream",
     "text": []
    },
    {
     "name": "stdout",
     "output_type": "stream",
     "text": [
      "Successfully processed chunk 80\n"
     ]
    },
    {
     "name": "stderr",
     "output_type": "stream",
     "text": []
    },
    {
     "name": "stdout",
     "output_type": "stream",
     "text": [
      "Successfully processed chunk 90\n"
     ]
    },
    {
     "name": "stderr",
     "output_type": "stream",
     "text": [
      "Processing chunks:   3%|▎         | 99/3233 [09:20<4:55:43,  5.66s/it]"
     ]
    },
    {
     "name": "stdout",
     "output_type": "stream",
     "text": [
      "Successfully processed chunk 100\n",
      "\n",
      "Results saved to outputs/speeches_105_gpt_topic_labels.json\n"
     ]
    },
    {
     "name": "stderr",
     "output_type": "stream",
     "text": [
      "\n"
     ]
    },
    {
     "name": "stdout",
     "output_type": "stream",
     "text": [
      "topic frequency graph for 105_gpt_topic_labels.json\n"
     ]
    },
    {
     "name": "stderr",
     "output_type": "stream",
     "text": [
      "Processing files: 100%|██████████| 1/1 [00:00<00:00, 199.28it/s]\n",
      "Processing files:  82%|████████▏ | 27/33 [3:43:03<47:16, 472.78s/it]"
     ]
    },
    {
     "name": "stdout",
     "output_type": "stream",
     "text": [
      "\n",
      "Topic Frequencies:\n",
      "----------------------------------------\n",
      "Justice and Civil Rights          :    435\n",
      "Health and Social Services        :    389\n",
      "Budget and Fiscal Responsibility  :    349\n",
      "Governance and Democracy          :    297\n",
      "Economy and Jobs                  :    277\n",
      "Education and Innovation          :    225\n",
      "Defense and Security              :    177\n",
      "Environment and Energy            :    122\n",
      "Infrastructure and Transportation :     30\n",
      "Immigration and Border Policy     :     10\n",
      "Culture and Arts                  :      4\n",
      "Trade Policy                      :      3\n",
      "Foreign Policy                    :      3\n",
      "Social Security                   :      3\n",
      "Housing and Community Development :      2\n",
      "Housing                           :      1\n",
      "History and Heritage              :      1\n",
      "Agriculture                       :      1\n",
      "Community and Social Services     :      1\n",
      "----------------------------------------\n",
      "Total topics mentioned: 2330\n",
      "Processing file: ../hein-bound/speeches_106.txt\n",
      "Found 64306 speeches\n",
      "Split into 3275 chunks\n"
     ]
    },
    {
     "name": "stderr",
     "output_type": "stream",
     "text": []
    },
    {
     "name": "stdout",
     "output_type": "stream",
     "text": [
      "Error processing chunk 2631: '1060168732'\n"
     ]
    },
    {
     "name": "stderr",
     "output_type": "stream",
     "text": []
    },
    {
     "name": "stdout",
     "output_type": "stream",
     "text": [
      "Error processing chunk 2327: '1060147357'\n"
     ]
    },
    {
     "name": "stderr",
     "output_type": "stream",
     "text": []
    },
    {
     "name": "stdout",
     "output_type": "stream",
     "text": [
      "Successfully processed chunk 10\n"
     ]
    },
    {
     "name": "stderr",
     "output_type": "stream",
     "text": []
    },
    {
     "name": "stdout",
     "output_type": "stream",
     "text": [
      "Successfully processed chunk 20\n"
     ]
    },
    {
     "name": "stderr",
     "output_type": "stream",
     "text": []
    },
    {
     "name": "stdout",
     "output_type": "stream",
     "text": [
      "Successfully processed chunk 30\n"
     ]
    },
    {
     "name": "stderr",
     "output_type": "stream",
     "text": []
    },
    {
     "name": "stdout",
     "output_type": "stream",
     "text": [
      "Successfully processed chunk 40\n"
     ]
    },
    {
     "name": "stderr",
     "output_type": "stream",
     "text": []
    },
    {
     "name": "stdout",
     "output_type": "stream",
     "text": [
      "Successfully processed chunk 50\n"
     ]
    },
    {
     "name": "stderr",
     "output_type": "stream",
     "text": []
    },
    {
     "name": "stdout",
     "output_type": "stream",
     "text": [
      "Successfully processed chunk 60\n"
     ]
    },
    {
     "name": "stderr",
     "output_type": "stream",
     "text": []
    },
    {
     "name": "stdout",
     "output_type": "stream",
     "text": [
      "Successfully processed chunk 70\n"
     ]
    },
    {
     "name": "stderr",
     "output_type": "stream",
     "text": []
    },
    {
     "name": "stdout",
     "output_type": "stream",
     "text": [
      "Successfully processed chunk 80\n"
     ]
    },
    {
     "name": "stderr",
     "output_type": "stream",
     "text": []
    },
    {
     "name": "stdout",
     "output_type": "stream",
     "text": [
      "Successfully processed chunk 90\n"
     ]
    },
    {
     "name": "stderr",
     "output_type": "stream",
     "text": [
      "Processing chunks:   3%|▎         | 99/3275 [07:27<3:59:23,  4.52s/it]"
     ]
    },
    {
     "name": "stdout",
     "output_type": "stream",
     "text": [
      "Successfully processed chunk 100\n",
      "\n",
      "Results saved to outputs/speeches_106_gpt_topic_labels.json\n"
     ]
    },
    {
     "name": "stderr",
     "output_type": "stream",
     "text": [
      "\n"
     ]
    },
    {
     "name": "stdout",
     "output_type": "stream",
     "text": [
      "topic frequency graph for 106_gpt_topic_labels.json\n"
     ]
    },
    {
     "name": "stderr",
     "output_type": "stream",
     "text": [
      "Processing files: 100%|██████████| 1/1 [00:00<00:00, 168.04it/s]\n",
      "Processing files:  85%|████████▍ | 28/33 [3:50:33<38:49, 465.88s/it]"
     ]
    },
    {
     "name": "stdout",
     "output_type": "stream",
     "text": [
      "\n",
      "Topic Frequencies:\n",
      "----------------------------------------\n",
      "Budget and Fiscal Responsibility  :    470\n",
      "Health and Social Services        :    418\n",
      "Justice and Civil Rights          :    408\n",
      "Economy and Jobs                  :    341\n",
      "Governance and Democracy          :    229\n",
      "Defense and Security              :    220\n",
      "Education and Innovation          :    189\n",
      "Environment and Energy            :     74\n",
      "Immigration and Border Policy     :     34\n",
      "Infrastructure and Transportation :     27\n",
      "Community and Social Services     :      2\n",
      "Energy and Environment            :      1\n",
      "Census                            :      1\n",
      "Agriculture                       :      1\n",
      "International Relations           :      1\n",
      "----------------------------------------\n",
      "Total topics mentioned: 2416\n",
      "Processing file: ../hein-bound/speeches_107.txt\n",
      "Found 54327 speeches\n",
      "Split into 2852 chunks\n"
     ]
    },
    {
     "name": "stderr",
     "output_type": "stream",
     "text": []
    },
    {
     "name": "stdout",
     "output_type": "stream",
     "text": [
      "Successfully processed chunk 10\n"
     ]
    },
    {
     "name": "stderr",
     "output_type": "stream",
     "text": []
    },
    {
     "name": "stdout",
     "output_type": "stream",
     "text": [
      "Successfully processed chunk 20\n"
     ]
    },
    {
     "name": "stderr",
     "output_type": "stream",
     "text": []
    },
    {
     "name": "stdout",
     "output_type": "stream",
     "text": [
      "Successfully processed chunk 30\n"
     ]
    },
    {
     "name": "stderr",
     "output_type": "stream",
     "text": []
    },
    {
     "name": "stdout",
     "output_type": "stream",
     "text": [
      "Successfully processed chunk 40\n"
     ]
    },
    {
     "name": "stderr",
     "output_type": "stream",
     "text": []
    },
    {
     "name": "stdout",
     "output_type": "stream",
     "text": [
      "Successfully processed chunk 50\n"
     ]
    },
    {
     "name": "stderr",
     "output_type": "stream",
     "text": []
    },
    {
     "name": "stdout",
     "output_type": "stream",
     "text": [
      "Successfully processed chunk 60\n"
     ]
    },
    {
     "name": "stderr",
     "output_type": "stream",
     "text": []
    },
    {
     "name": "stdout",
     "output_type": "stream",
     "text": [
      "Successfully processed chunk 70\n"
     ]
    },
    {
     "name": "stderr",
     "output_type": "stream",
     "text": []
    },
    {
     "name": "stdout",
     "output_type": "stream",
     "text": [
      "Successfully processed chunk 80\n"
     ]
    },
    {
     "name": "stderr",
     "output_type": "stream",
     "text": []
    },
    {
     "name": "stdout",
     "output_type": "stream",
     "text": [
      "Successfully processed chunk 90\n"
     ]
    },
    {
     "name": "stderr",
     "output_type": "stream",
     "text": []
    },
    {
     "name": "stdout",
     "output_type": "stream",
     "text": [
      "Error processing chunk 503: '1070033110'\n"
     ]
    },
    {
     "name": "stderr",
     "output_type": "stream",
     "text": [
      "Processing chunks:   3%|▎         | 99/2852 [07:18<3:23:18,  4.43s/it]\n"
     ]
    },
    {
     "name": "stdout",
     "output_type": "stream",
     "text": [
      "Successfully processed chunk 100\n",
      "\n",
      "Results saved to outputs/speeches_107_gpt_topic_labels.json\n",
      "topic frequency graph for 107_gpt_topic_labels.json\n"
     ]
    },
    {
     "name": "stderr",
     "output_type": "stream",
     "text": [
      "Processing files: 100%|██████████| 1/1 [00:00<00:00, 161.97it/s]\n",
      "Processing files:  88%|████████▊ | 29/33 [3:57:53<30:32, 458.19s/it]"
     ]
    },
    {
     "name": "stdout",
     "output_type": "stream",
     "text": [
      "\n",
      "Topic Frequencies:\n",
      "----------------------------------------\n",
      "Defense and Security              :    384\n",
      "Justice and Civil Rights          :    312\n",
      "Governance and Democracy          :    308\n",
      "Health and Social Services        :    307\n",
      "Budget and Fiscal Responsibility  :    279\n",
      "Economy and Jobs                  :    272\n",
      "Education and Innovation          :    246\n",
      "Environment and Energy            :    161\n",
      "Immigration and Border Policy     :     63\n",
      "Infrastructure and Transportation :     62\n",
      "Housing and Social Services       :      2\n",
      "Housing and Urban Development     :      2\n",
      "Agriculture                       :      2\n",
      "Community Development             :      1\n",
      "Energy and Environment            :      1\n",
      "Culture and Community             :      1\n",
      "----------------------------------------\n",
      "Total topics mentioned: 2403\n",
      "Processing file: ../hein-bound/speeches_108.txt\n",
      "Found 60530 speeches\n",
      "Split into 3132 chunks\n"
     ]
    },
    {
     "name": "stderr",
     "output_type": "stream",
     "text": []
    },
    {
     "name": "stdout",
     "output_type": "stream",
     "text": [
      "Successfully processed chunk 10\n"
     ]
    },
    {
     "name": "stderr",
     "output_type": "stream",
     "text": []
    },
    {
     "name": "stdout",
     "output_type": "stream",
     "text": [
      "Successfully processed chunk 20\n"
     ]
    },
    {
     "name": "stderr",
     "output_type": "stream",
     "text": []
    },
    {
     "name": "stdout",
     "output_type": "stream",
     "text": [
      "Successfully processed chunk 30\n"
     ]
    },
    {
     "name": "stderr",
     "output_type": "stream",
     "text": []
    },
    {
     "name": "stdout",
     "output_type": "stream",
     "text": [
      "Successfully processed chunk 40\n"
     ]
    },
    {
     "name": "stderr",
     "output_type": "stream",
     "text": []
    },
    {
     "name": "stdout",
     "output_type": "stream",
     "text": [
      "Successfully processed chunk 50\n"
     ]
    },
    {
     "name": "stderr",
     "output_type": "stream",
     "text": []
    },
    {
     "name": "stdout",
     "output_type": "stream",
     "text": [
      "Successfully processed chunk 60\n"
     ]
    },
    {
     "name": "stderr",
     "output_type": "stream",
     "text": []
    },
    {
     "name": "stdout",
     "output_type": "stream",
     "text": [
      "Successfully processed chunk 70\n"
     ]
    },
    {
     "name": "stderr",
     "output_type": "stream",
     "text": []
    },
    {
     "name": "stdout",
     "output_type": "stream",
     "text": [
      "Successfully processed chunk 80\n"
     ]
    },
    {
     "name": "stderr",
     "output_type": "stream",
     "text": []
    },
    {
     "name": "stdout",
     "output_type": "stream",
     "text": [
      "Successfully processed chunk 90\n"
     ]
    },
    {
     "name": "stderr",
     "output_type": "stream",
     "text": [
      "Processing chunks:   3%|▎         | 99/3132 [06:52<3:30:27,  4.16s/it]\n"
     ]
    },
    {
     "name": "stdout",
     "output_type": "stream",
     "text": [
      "Successfully processed chunk 100\n",
      "\n",
      "Results saved to outputs/speeches_108_gpt_topic_labels.json\n",
      "topic frequency graph for 108_gpt_topic_labels.json\n"
     ]
    },
    {
     "name": "stderr",
     "output_type": "stream",
     "text": [
      "Processing files: 100%|██████████| 1/1 [00:00<00:00, 161.68it/s]\n",
      "Processing files:  91%|█████████ | 30/33 [4:04:47<22:14, 444.89s/it]"
     ]
    },
    {
     "name": "stdout",
     "output_type": "stream",
     "text": [
      "\n",
      "Topic Frequencies:\n",
      "----------------------------------------\n",
      "Justice and Civil Rights          :    385\n",
      "Health and Social Services        :    369\n",
      "Defense and Security              :    327\n",
      "Economy and Jobs                  :    327\n",
      "Budget and Fiscal Responsibility  :    323\n",
      "Governance and Democracy          :    210\n",
      "Education and Innovation          :    176\n",
      "Infrastructure and Transportation :     69\n",
      "Environment and Energy            :     57\n",
      "Immigration and Border Policy     :     30\n",
      "Culture and Arts                  :      2\n",
      "Housing and Urban Development     :      1\n",
      "Culture and Community             :      1\n",
      "Science and Technology            :      1\n",
      "----------------------------------------\n",
      "Total topics mentioned: 2278\n",
      "Processing file: ../hein-bound/speeches_109.txt\n",
      "Found 58229 speeches\n",
      "Split into 3135 chunks\n"
     ]
    },
    {
     "name": "stderr",
     "output_type": "stream",
     "text": []
    },
    {
     "name": "stdout",
     "output_type": "stream",
     "text": [
      "Successfully processed chunk 10\n"
     ]
    },
    {
     "name": "stderr",
     "output_type": "stream",
     "text": []
    },
    {
     "name": "stdout",
     "output_type": "stream",
     "text": [
      "Successfully processed chunk 20\n"
     ]
    },
    {
     "name": "stderr",
     "output_type": "stream",
     "text": []
    },
    {
     "name": "stdout",
     "output_type": "stream",
     "text": [
      "Successfully processed chunk 30\n"
     ]
    },
    {
     "name": "stderr",
     "output_type": "stream",
     "text": []
    },
    {
     "name": "stdout",
     "output_type": "stream",
     "text": [
      "Successfully processed chunk 40\n"
     ]
    },
    {
     "name": "stderr",
     "output_type": "stream",
     "text": []
    },
    {
     "name": "stdout",
     "output_type": "stream",
     "text": [
      "Successfully processed chunk 50\n"
     ]
    },
    {
     "name": "stderr",
     "output_type": "stream",
     "text": []
    },
    {
     "name": "stdout",
     "output_type": "stream",
     "text": [
      "Successfully processed chunk 60\n"
     ]
    },
    {
     "name": "stderr",
     "output_type": "stream",
     "text": []
    },
    {
     "name": "stdout",
     "output_type": "stream",
     "text": [
      "Successfully processed chunk 70\n"
     ]
    },
    {
     "name": "stderr",
     "output_type": "stream",
     "text": []
    },
    {
     "name": "stdout",
     "output_type": "stream",
     "text": [
      "Successfully processed chunk 80\n"
     ]
    },
    {
     "name": "stderr",
     "output_type": "stream",
     "text": []
    },
    {
     "name": "stdout",
     "output_type": "stream",
     "text": [
      "Successfully processed chunk 90\n"
     ]
    },
    {
     "name": "stderr",
     "output_type": "stream",
     "text": []
    },
    {
     "name": "stdout",
     "output_type": "stream",
     "text": [
      "Error processing chunk 2874: '1090172920'\n"
     ]
    },
    {
     "name": "stderr",
     "output_type": "stream",
     "text": [
      "Processing chunks:   3%|▎         | 99/3135 [06:32<3:20:23,  3.96s/it]\n"
     ]
    },
    {
     "name": "stdout",
     "output_type": "stream",
     "text": [
      "Successfully processed chunk 100\n",
      "\n",
      "Results saved to outputs/speeches_109_gpt_topic_labels.json\n",
      "topic frequency graph for 109_gpt_topic_labels.json\n"
     ]
    },
    {
     "name": "stderr",
     "output_type": "stream",
     "text": [
      "Processing files: 100%|██████████| 1/1 [00:00<00:00, 168.38it/s]\n",
      "Processing files:  94%|█████████▍| 31/33 [4:11:21<14:19, 429.54s/it]"
     ]
    },
    {
     "name": "stdout",
     "output_type": "stream",
     "text": [
      "\n",
      "Topic Frequencies:\n",
      "----------------------------------------\n",
      "Defense and Security              :    380\n",
      "Justice and Civil Rights          :    359\n",
      "Economy and Jobs                  :    259\n",
      "Budget and Fiscal Responsibility  :    249\n",
      "Health and Social Services        :    226\n",
      "Governance and Democracy          :    204\n",
      "Education and Innovation          :    197\n",
      "Environment and Energy            :    138\n",
      "Infrastructure and Transportation :     76\n",
      "Immigration and Border Policy     :     68\n",
      "Transportation and Infrastructure :      3\n",
      "Trade Policy                      :      1\n",
      "Energy and Environment            :      1\n",
      "----------------------------------------\n",
      "Total topics mentioned: 2161\n",
      "Processing file: ../hein-bound/speeches_110.txt\n",
      "Found 65381 speeches\n",
      "Split into 3482 chunks\n"
     ]
    },
    {
     "name": "stderr",
     "output_type": "stream",
     "text": []
    },
    {
     "name": "stdout",
     "output_type": "stream",
     "text": [
      "Successfully processed chunk 10\n"
     ]
    },
    {
     "name": "stderr",
     "output_type": "stream",
     "text": []
    },
    {
     "name": "stdout",
     "output_type": "stream",
     "text": [
      "Successfully processed chunk 20\n"
     ]
    },
    {
     "name": "stderr",
     "output_type": "stream",
     "text": []
    },
    {
     "name": "stdout",
     "output_type": "stream",
     "text": [
      "Successfully processed chunk 30\n"
     ]
    },
    {
     "name": "stderr",
     "output_type": "stream",
     "text": []
    },
    {
     "name": "stdout",
     "output_type": "stream",
     "text": [
      "Successfully processed chunk 40\n"
     ]
    },
    {
     "name": "stderr",
     "output_type": "stream",
     "text": []
    },
    {
     "name": "stdout",
     "output_type": "stream",
     "text": [
      "Successfully processed chunk 50\n"
     ]
    },
    {
     "name": "stderr",
     "output_type": "stream",
     "text": []
    },
    {
     "name": "stdout",
     "output_type": "stream",
     "text": [
      "Successfully processed chunk 60\n"
     ]
    },
    {
     "name": "stderr",
     "output_type": "stream",
     "text": []
    },
    {
     "name": "stdout",
     "output_type": "stream",
     "text": [
      "Successfully processed chunk 70\n"
     ]
    },
    {
     "name": "stderr",
     "output_type": "stream",
     "text": []
    },
    {
     "name": "stdout",
     "output_type": "stream",
     "text": [
      "Successfully processed chunk 80\n"
     ]
    },
    {
     "name": "stderr",
     "output_type": "stream",
     "text": []
    },
    {
     "name": "stdout",
     "output_type": "stream",
     "text": [
      "Successfully processed chunk 90\n"
     ]
    },
    {
     "name": "stderr",
     "output_type": "stream",
     "text": [
      "Processing chunks:   3%|▎         | 99/3482 [07:33<4:18:24,  4.58s/it]"
     ]
    },
    {
     "name": "stdout",
     "output_type": "stream",
     "text": [
      "Successfully processed chunk 100\n",
      "\n",
      "Results saved to outputs/speeches_110_gpt_topic_labels.json\n"
     ]
    },
    {
     "name": "stderr",
     "output_type": "stream",
     "text": [
      "\n"
     ]
    },
    {
     "name": "stdout",
     "output_type": "stream",
     "text": [
      "topic frequency graph for 110_gpt_topic_labels.json\n"
     ]
    },
    {
     "name": "stderr",
     "output_type": "stream",
     "text": [
      "Processing files: 100%|██████████| 1/1 [00:00<00:00, 132.71it/s]\n",
      "Processing files:  97%|█████████▋| 32/33 [4:18:57<07:17, 437.46s/it]"
     ]
    },
    {
     "name": "stdout",
     "output_type": "stream",
     "text": [
      "\n",
      "Topic Frequencies:\n",
      "----------------------------------------\n",
      "Defense and Security              :    357\n",
      "Health and Social Services        :    350\n",
      "Justice and Civil Rights          :    318\n",
      "Governance and Democracy          :    299\n",
      "Economy and Jobs                  :    278\n",
      "Budget and Fiscal Responsibility  :    251\n",
      "Education and Innovation          :    200\n",
      "Environment and Energy            :    153\n",
      "Infrastructure and Transportation :    109\n",
      "Immigration and Border Policy     :     32\n",
      "Trade Policy                      :      4\n",
      "Culture and Heritage              :      4\n",
      "Culture and Community             :      3\n",
      "Trade                             :      3\n",
      "Housing and Urban Development     :      3\n",
      "Culture and Society               :      1\n",
      "Culture and Arts                  :      1\n",
      "Energy and Environment            :      1\n",
      "Foreign Policy                    :      1\n",
      "History and Culture               :      1\n",
      "Community Engagement              :      1\n",
      "----------------------------------------\n",
      "Total topics mentioned: 2370\n",
      "Processing file: ../hein-bound/speeches_111.txt\n",
      "Found 59395 speeches\n",
      "Split into 3170 chunks\n"
     ]
    },
    {
     "name": "stderr",
     "output_type": "stream",
     "text": []
    },
    {
     "name": "stdout",
     "output_type": "stream",
     "text": [
      "Successfully processed chunk 10\n"
     ]
    },
    {
     "name": "stderr",
     "output_type": "stream",
     "text": []
    },
    {
     "name": "stdout",
     "output_type": "stream",
     "text": [
      "Successfully processed chunk 20\n"
     ]
    },
    {
     "name": "stderr",
     "output_type": "stream",
     "text": []
    },
    {
     "name": "stdout",
     "output_type": "stream",
     "text": [
      "Successfully processed chunk 30\n"
     ]
    },
    {
     "name": "stderr",
     "output_type": "stream",
     "text": []
    },
    {
     "name": "stdout",
     "output_type": "stream",
     "text": [
      "Successfully processed chunk 40\n"
     ]
    },
    {
     "name": "stderr",
     "output_type": "stream",
     "text": []
    },
    {
     "name": "stdout",
     "output_type": "stream",
     "text": [
      "Successfully processed chunk 50\n"
     ]
    },
    {
     "name": "stderr",
     "output_type": "stream",
     "text": []
    },
    {
     "name": "stdout",
     "output_type": "stream",
     "text": [
      "Error processing chunk 2349: '1110134185'\n"
     ]
    },
    {
     "name": "stderr",
     "output_type": "stream",
     "text": []
    },
    {
     "name": "stdout",
     "output_type": "stream",
     "text": [
      "Successfully processed chunk 60\n"
     ]
    },
    {
     "name": "stderr",
     "output_type": "stream",
     "text": []
    },
    {
     "name": "stdout",
     "output_type": "stream",
     "text": [
      "Successfully processed chunk 70\n"
     ]
    },
    {
     "name": "stderr",
     "output_type": "stream",
     "text": []
    },
    {
     "name": "stdout",
     "output_type": "stream",
     "text": [
      "Error processing chunk 2127: '1110122169'\n"
     ]
    },
    {
     "name": "stderr",
     "output_type": "stream",
     "text": []
    },
    {
     "name": "stdout",
     "output_type": "stream",
     "text": [
      "Successfully processed chunk 80\n"
     ]
    },
    {
     "name": "stderr",
     "output_type": "stream",
     "text": []
    },
    {
     "name": "stdout",
     "output_type": "stream",
     "text": [
      "Successfully processed chunk 90\n"
     ]
    },
    {
     "name": "stderr",
     "output_type": "stream",
     "text": [
      "Processing chunks:   3%|▎         | 99/3170 [06:56<3:35:31,  4.21s/it]\n"
     ]
    },
    {
     "name": "stdout",
     "output_type": "stream",
     "text": [
      "Successfully processed chunk 100\n",
      "\n",
      "Results saved to outputs/speeches_111_gpt_topic_labels.json\n",
      "topic frequency graph for 111_gpt_topic_labels.json\n"
     ]
    },
    {
     "name": "stderr",
     "output_type": "stream",
     "text": [
      "Processing files: 100%|██████████| 1/1 [00:00<00:00, 145.28it/s]\n",
      "Processing files: 100%|██████████| 33/33 [4:25:55<00:00, 483.50s/it]\n"
     ]
    },
    {
     "name": "stdout",
     "output_type": "stream",
     "text": [
      "\n",
      "Topic Frequencies:\n",
      "----------------------------------------\n",
      "Health and Social Services        :    413\n",
      "Economy and Jobs                  :    388\n",
      "Budget and Fiscal Responsibility  :    354\n",
      "Justice and Civil Rights          :    344\n",
      "Defense and Security              :    265\n",
      "Education and Innovation          :    196\n",
      "Governance and Democracy          :    182\n",
      "Environment and Energy            :    122\n",
      "Infrastructure and Transportation :     44\n",
      "Immigration and Border Policy     :     24\n",
      "Culture and Community             :      2\n",
      "Culture and Arts                  :      2\n",
      "Trade and International Relations :      2\n",
      "Housing and Social Services       :      1\n",
      "Energy and Environment            :      1\n",
      "Community and Civic Engagement    :      1\n",
      "Housing and Urban Development     :      1\n",
      "Gun Control                       :      1\n",
      "----------------------------------------\n",
      "Total topics mentioned: 2343\n"
     ]
    },
    {
     "name": "stderr",
     "output_type": "stream",
     "text": [
      "Processing files:   0%|          | 0/3 [00:00<?, ?it/s]"
     ]
    },
    {
     "name": "stdout",
     "output_type": "stream",
     "text": [
      "Processing file: ../hein-daily/speeches_114.txt\n",
      "Found 38938 speeches\n",
      "Split into 2103 chunks\n"
     ]
    },
    {
     "name": "stderr",
     "output_type": "stream",
     "text": []
    },
    {
     "name": "stdout",
     "output_type": "stream",
     "text": [
      "Successfully processed chunk 10\n"
     ]
    },
    {
     "name": "stderr",
     "output_type": "stream",
     "text": []
    },
    {
     "name": "stdout",
     "output_type": "stream",
     "text": [
      "Successfully processed chunk 20\n"
     ]
    },
    {
     "name": "stderr",
     "output_type": "stream",
     "text": []
    },
    {
     "name": "stdout",
     "output_type": "stream",
     "text": [
      "Successfully processed chunk 30\n"
     ]
    },
    {
     "name": "stderr",
     "output_type": "stream",
     "text": []
    },
    {
     "name": "stdout",
     "output_type": "stream",
     "text": [
      "Error processing chunk 1116: '1140062267'\n"
     ]
    },
    {
     "name": "stderr",
     "output_type": "stream",
     "text": []
    },
    {
     "name": "stdout",
     "output_type": "stream",
     "text": [
      "Successfully processed chunk 40\n"
     ]
    },
    {
     "name": "stderr",
     "output_type": "stream",
     "text": []
    },
    {
     "name": "stdout",
     "output_type": "stream",
     "text": [
      "Successfully processed chunk 50\n"
     ]
    },
    {
     "name": "stderr",
     "output_type": "stream",
     "text": []
    },
    {
     "name": "stdout",
     "output_type": "stream",
     "text": [
      "Successfully processed chunk 60\n"
     ]
    },
    {
     "name": "stderr",
     "output_type": "stream",
     "text": []
    },
    {
     "name": "stdout",
     "output_type": "stream",
     "text": [
      "Error processing chunk 639: '1140037130'\n"
     ]
    },
    {
     "name": "stderr",
     "output_type": "stream",
     "text": []
    },
    {
     "name": "stdout",
     "output_type": "stream",
     "text": [
      "Successfully processed chunk 70\n"
     ]
    },
    {
     "name": "stderr",
     "output_type": "stream",
     "text": []
    },
    {
     "name": "stdout",
     "output_type": "stream",
     "text": [
      "Successfully processed chunk 80\n"
     ]
    },
    {
     "name": "stderr",
     "output_type": "stream",
     "text": []
    },
    {
     "name": "stdout",
     "output_type": "stream",
     "text": [
      "Successfully processed chunk 90\n"
     ]
    },
    {
     "name": "stderr",
     "output_type": "stream",
     "text": [
      "Processing chunks:   5%|▍         | 99/2103 [06:49<2:18:09,  4.14s/it]\n"
     ]
    },
    {
     "name": "stdout",
     "output_type": "stream",
     "text": [
      "Successfully processed chunk 100\n",
      "\n",
      "Results saved to outputs/speeches_114_gpt_topic_labels.json\n",
      "topic frequency graph for 114_gpt_topic_labels.json\n"
     ]
    },
    {
     "name": "stderr",
     "output_type": "stream",
     "text": [
      "Processing files: 100%|██████████| 1/1 [00:00<00:00, 165.73it/s]\n",
      "Processing files:  33%|███▎      | 1/3 [06:50<13:40, 410.47s/it]"
     ]
    },
    {
     "name": "stdout",
     "output_type": "stream",
     "text": [
      "\n",
      "Topic Frequencies:\n",
      "----------------------------------------\n",
      "Justice and Civil Rights          :    473\n",
      "Defense and Security              :    380\n",
      "Health and Social Services        :    361\n",
      "Economy and Jobs                  :    297\n",
      "Education and Innovation          :    225\n",
      "Budget and Fiscal Responsibility  :    173\n",
      "Governance and Democracy          :    137\n",
      "Environment and Energy            :    100\n",
      "Immigration and Border Policy     :     82\n",
      "Infrastructure and Transportation :     66\n",
      "Trade and Tariffs                 :      2\n",
      "Community and Social Services     :      1\n",
      "Agriculture                       :      1\n",
      "----------------------------------------\n",
      "Total topics mentioned: 2298\n",
      "Processing file: ../hein-daily/speeches_113.txt\n",
      "Found 42644 speeches\n",
      "Split into 2330 chunks\n"
     ]
    },
    {
     "name": "stderr",
     "output_type": "stream",
     "text": []
    },
    {
     "name": "stdout",
     "output_type": "stream",
     "text": [
      "Successfully processed chunk 10\n"
     ]
    },
    {
     "name": "stderr",
     "output_type": "stream",
     "text": []
    },
    {
     "name": "stdout",
     "output_type": "stream",
     "text": [
      "Successfully processed chunk 20\n"
     ]
    },
    {
     "name": "stderr",
     "output_type": "stream",
     "text": []
    },
    {
     "name": "stdout",
     "output_type": "stream",
     "text": [
      "Successfully processed chunk 30\n"
     ]
    },
    {
     "name": "stderr",
     "output_type": "stream",
     "text": []
    },
    {
     "name": "stdout",
     "output_type": "stream",
     "text": [
      "Successfully processed chunk 40\n"
     ]
    },
    {
     "name": "stderr",
     "output_type": "stream",
     "text": []
    },
    {
     "name": "stdout",
     "output_type": "stream",
     "text": [
      "Successfully processed chunk 50\n"
     ]
    },
    {
     "name": "stderr",
     "output_type": "stream",
     "text": []
    },
    {
     "name": "stdout",
     "output_type": "stream",
     "text": [
      "Error processing chunk 1276: '1130068633'\n"
     ]
    },
    {
     "name": "stderr",
     "output_type": "stream",
     "text": []
    },
    {
     "name": "stdout",
     "output_type": "stream",
     "text": [
      "Successfully processed chunk 60\n"
     ]
    },
    {
     "name": "stderr",
     "output_type": "stream",
     "text": []
    },
    {
     "name": "stdout",
     "output_type": "stream",
     "text": [
      "Successfully processed chunk 70\n"
     ]
    },
    {
     "name": "stderr",
     "output_type": "stream",
     "text": []
    },
    {
     "name": "stdout",
     "output_type": "stream",
     "text": [
      "Successfully processed chunk 80\n"
     ]
    },
    {
     "name": "stderr",
     "output_type": "stream",
     "text": []
    },
    {
     "name": "stdout",
     "output_type": "stream",
     "text": [
      "Successfully processed chunk 90\n"
     ]
    },
    {
     "name": "stderr",
     "output_type": "stream",
     "text": [
      "Processing chunks:   4%|▍         | 99/2330 [06:51<2:34:30,  4.16s/it]\n"
     ]
    },
    {
     "name": "stdout",
     "output_type": "stream",
     "text": [
      "Successfully processed chunk 100\n",
      "\n",
      "Results saved to outputs/speeches_113_gpt_topic_labels.json\n",
      "topic frequency graph for 113_gpt_topic_labels.json\n"
     ]
    },
    {
     "name": "stderr",
     "output_type": "stream",
     "text": [
      "Processing files: 100%|██████████| 1/1 [00:00<00:00, 207.12it/s]\n",
      "Processing files:  67%|██████▋   | 2/3 [13:43<06:51, 411.69s/it]"
     ]
    },
    {
     "name": "stdout",
     "output_type": "stream",
     "text": [
      "\n",
      "Topic Frequencies:\n",
      "----------------------------------------\n",
      "Health and Social Services        :    419\n",
      "Justice and Civil Rights          :    375\n",
      "Economy and Jobs                  :    347\n",
      "Defense and Security              :    270\n",
      "Budget and Fiscal Responsibility  :    257\n",
      "Governance and Democracy          :    255\n",
      "Education and Innovation          :    184\n",
      "Environment and Energy            :    101\n",
      "Immigration and Border Policy     :     85\n",
      "Infrastructure and Transportation :     60\n",
      "Agriculture                       :      6\n",
      "Culture and Community             :      3\n",
      "Agriculture and Rural Affairs     :      1\n",
      "Energy and Natural Resources      :      1\n",
      "----------------------------------------\n",
      "Total topics mentioned: 2364\n",
      "Processing file: ../hein-daily/speeches_112.txt\n",
      "Found 47745 speeches\n",
      "Split into 2612 chunks\n"
     ]
    },
    {
     "name": "stderr",
     "output_type": "stream",
     "text": []
    },
    {
     "name": "stdout",
     "output_type": "stream",
     "text": [
      "Successfully processed chunk 10\n"
     ]
    },
    {
     "name": "stderr",
     "output_type": "stream",
     "text": []
    },
    {
     "name": "stdout",
     "output_type": "stream",
     "text": [
      "Successfully processed chunk 20\n"
     ]
    },
    {
     "name": "stderr",
     "output_type": "stream",
     "text": []
    },
    {
     "name": "stdout",
     "output_type": "stream",
     "text": [
      "Successfully processed chunk 30\n"
     ]
    },
    {
     "name": "stderr",
     "output_type": "stream",
     "text": []
    },
    {
     "name": "stdout",
     "output_type": "stream",
     "text": [
      "Successfully processed chunk 40\n"
     ]
    },
    {
     "name": "stderr",
     "output_type": "stream",
     "text": []
    },
    {
     "name": "stdout",
     "output_type": "stream",
     "text": [
      "Successfully processed chunk 50\n"
     ]
    },
    {
     "name": "stderr",
     "output_type": "stream",
     "text": []
    },
    {
     "name": "stdout",
     "output_type": "stream",
     "text": [
      "Successfully processed chunk 60\n"
     ]
    },
    {
     "name": "stderr",
     "output_type": "stream",
     "text": []
    },
    {
     "name": "stdout",
     "output_type": "stream",
     "text": [
      "Successfully processed chunk 70\n"
     ]
    },
    {
     "name": "stderr",
     "output_type": "stream",
     "text": []
    },
    {
     "name": "stdout",
     "output_type": "stream",
     "text": [
      "Successfully processed chunk 80\n"
     ]
    },
    {
     "name": "stderr",
     "output_type": "stream",
     "text": []
    },
    {
     "name": "stdout",
     "output_type": "stream",
     "text": [
      "Successfully processed chunk 90\n"
     ]
    },
    {
     "name": "stderr",
     "output_type": "stream",
     "text": [
      "Processing chunks:   4%|▍         | 99/2612 [07:03<2:58:58,  4.27s/it]\n"
     ]
    },
    {
     "name": "stdout",
     "output_type": "stream",
     "text": [
      "Successfully processed chunk 100\n",
      "\n",
      "Results saved to outputs/speeches_112_gpt_topic_labels.json\n",
      "topic frequency graph for 112_gpt_topic_labels.json\n"
     ]
    },
    {
     "name": "stderr",
     "output_type": "stream",
     "text": [
      "Processing files: 100%|██████████| 1/1 [00:00<00:00, 177.59it/s]\n",
      "Processing files: 100%|██████████| 3/3 [20:47<00:00, 415.79s/it]\n"
     ]
    },
    {
     "name": "stdout",
     "output_type": "stream",
     "text": [
      "\n",
      "Topic Frequencies:\n",
      "----------------------------------------\n",
      "Economy and Jobs                  :    476\n",
      "Budget and Fiscal Responsibility  :    414\n",
      "Health and Social Services        :    288\n",
      "Justice and Civil Rights          :    285\n",
      "Defense and Security              :    260\n",
      "Governance and Democracy          :    234\n",
      "Education and Innovation          :    210\n",
      "Environment and Energy            :    110\n",
      "Infrastructure and Transportation :    105\n",
      "Immigration and Border Policy     :     54\n",
      "Agriculture                       :      3\n",
      "Trade and Foreign Relations       :      3\n",
      "Community Service                 :      3\n",
      "Water Issues                      :      1\n",
      "Tourism                           :      1\n",
      "Culture and Society               :      1\n",
      "----------------------------------------\n",
      "Total topics mentioned: 2448\n"
     ]
    },
    {
     "name": "stderr",
     "output_type": "stream",
     "text": [
      "Processing files: 100%|██████████| 38/38 [00:00<00:00, 150.34it/s]"
     ]
    },
    {
     "name": "stdout",
     "output_type": "stream",
     "text": [
      "\n",
      "Topic Frequencies:\n",
      "----------------------------------------\n",
      "Budget and Fiscal Responsibility     :  15578\n",
      "Justice and Civil Rights             :  15305\n",
      "Economy and Jobs                     :  15189\n",
      "Governance and Democracy             :  15149\n",
      "Defense and Security                 :  12459\n",
      "Health and Social Services           :   9493\n",
      "Education and Innovation             :   5703\n",
      "Environment and Energy               :   4288\n",
      "Infrastructure and Transportation    :   3924\n",
      "Immigration and Border Policy        :   1656\n",
      "Agriculture                          :    249\n",
      "Housing and Urban Development        :    198\n",
      "Housing and Social Services          :     63\n",
      "Energy and Environment               :     36\n",
      "Housing and Community Development    :     26\n",
      "Labor Relations                      :     25\n",
      "Foreign Policy                       :     22\n",
      "Culture and Community                :     20\n",
      "Culture and Arts                     :     20\n",
      "Trade                                :     17\n",
      "Trade Agreements                     :     17\n",
      "Housing                              :     14\n",
      "International Relations              :     14\n",
      "Trade Policy                         :     13\n",
      "Agriculture and Rural Affairs        :     11\n",
      "Media and Communications             :      9\n",
      "Community Engagement                 :      8\n",
      "Community Service                    :      8\n",
      "Community and Social Services        :      7\n",
      "Culture and Heritage                 :      6\n",
      "Trade and Tariffs                    :      6\n",
      "Housing and Home Finance Agency      :      6\n",
      "Culture and Society                  :      5\n",
      "Community Development                :      5\n",
      "Agriculture and Food Policy          :      5\n",
      "Labor and Employment                 :      4\n",
      "Agriculture and Rural Development    :      4\n",
      "Trade and Foreign Relations          :      3\n",
      "Technology and Innovation            :      3\n",
      "Legislative Process                  :      3\n",
      "Social Security                      :      3\n",
      "Transportation and Infrastructure    :      3\n",
      "Tourism                              :      2\n",
      "Energy                               :      2\n",
      "Science and Technology               :      2\n",
      "Foreign Aid                          :      2\n",
      "Trade and Foreign Policy             :      2\n",
      "Agriculture and Food Security        :      2\n",
      "Agriculture and Forestry             :      2\n",
      "Housing and Rent Act                 :      2\n",
      "Trade and International Relations    :      2\n",
      "Water Rights                         :      2\n",
      "Housing and Urban Affairs            :      1\n",
      "Water Issues                         :      1\n",
      "Housing Policy                       :      1\n",
      "Agriculture and Food                 :      1\n",
      "Housing and Rent Control             :      1\n",
      "Census                               :      1\n",
      "History and Culture                  :      1\n",
      "Population Growth and Urban Planning :      1\n",
      "Free Speech                          :      1\n",
      "Youth Engagement                     :      1\n",
      "Disaster Relief                      :      1\n",
      "Agricultural Policy                  :      1\n",
      "Price Control                        :      1\n",
      "Labor                                :      1\n",
      "Energy and Natural Resources         :      1\n",
      "History and Heritage                 :      1\n",
      "Community and Civic Engagement       :      1\n",
      "Gun Control                          :      1\n",
      "Water and Infrastructure             :      1\n",
      "Labor and Public Welfare             :      1\n",
      "Water and Natural Resources          :      1\n",
      "Innovation and Technology            :      1\n",
      "Labor and Jobs                       :      1\n",
      "----------------------------------------\n",
      "Total topics mentioned: 99620\n"
     ]
    },
    {
     "name": "stderr",
     "output_type": "stream",
     "text": [
      "\n"
     ]
    }
   ],
   "source": [
    "if __name__ == \"__main__\":\n",
    "    # first, process the hein-bound files (they only go up to 111)\n",
    "    input_dir = \"../hein-bound\"\n",
    "    # save outputs to 'outputs' directory\n",
    "    output_dir = \"outputs\"\n",
    "    speech_files = [f for f in os.listdir(input_dir) \n",
    "                    if f.startswith(\"speeches_\") and f.endswith(\".txt\") \n",
    "                    and f[9:-4].isdigit() and 79 <= int(f[9:-4]) <= 111]\n",
    "    # sort the speech files\n",
    "    speech_files.sort()\n",
    "    process_speech_files(speech_files, input_dir, output_dir, max_chunks=100)\n",
    "\n",
    "    # then, process the hein-daily files (they go from 112 to 114, the congresses not covered by hein-bound)\n",
    "    input_dir = \"../hein-daily\"\n",
    "    speech_files = [f for f in os.listdir(input_dir) \n",
    "                    if f.startswith(\"speeches_\") and f.endswith(\".txt\") \n",
    "                    and f[9:-4].isdigit() and 112 <= int(f[9:-4]) <= 114]\n",
    "    process_speech_files(speech_files, input_dir, output_dir, max_chunks=100)\n",
    "\n",
    "    # Analyze topic frequencies for all files at the very end\n",
    "    input_dir_freq = \"outputs\"\n",
    "    topic_frequencies = analyze_topic_frequencies(input_dir_freq)\n",
    "    print_topic_statistics(topic_frequencies)"
   ]
  },
  {
   "cell_type": "code",
   "execution_count": null,
   "metadata": {},
   "outputs": [],
   "source": []
  }
 ],
 "metadata": {
  "kernelspec": {
   "display_name": "myenv",
   "language": "python",
   "name": "python3"
  },
  "language_info": {
   "codemirror_mode": {
    "name": "ipython",
    "version": 3
   },
   "file_extension": ".py",
   "mimetype": "text/x-python",
   "name": "python",
   "nbconvert_exporter": "python",
   "pygments_lexer": "ipython3",
   "version": "3.12.7"
  }
 },
 "nbformat": 4,
 "nbformat_minor": 2
}
