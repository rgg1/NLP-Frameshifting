{
 "cells": [
  {
   "cell_type": "code",
   "execution_count": 1,
   "metadata": {},
   "outputs": [
    {
     "name": "stderr",
     "output_type": "stream",
     "text": [
      "/Users/rodri/Desktop/MIT Fall 2024 Classes/6.8611/Project/NLP-Frameshifting/myenv/lib/python3.12/site-packages/tqdm/auto.py:21: TqdmWarning: IProgress not found. Please update jupyter and ipywidgets. See https://ipywidgets.readthedocs.io/en/stable/user_install.html\n",
      "  from .autonotebook import tqdm as notebook_tqdm\n"
     ]
    }
   ],
   "source": [
    "# Import libraries\n",
    "import json\n",
    "import pandas as pd\n",
    "import numpy as np\n",
    "from sklearn.model_selection import train_test_split\n",
    "from sklearn.metrics import accuracy_score, multilabel_confusion_matrix, classification_report\n",
    "from transformers import BertTokenizer, BertForSequenceClassification\n",
    "import torch\n",
    "import random\n",
    "import matplotlib.pyplot as plt\n",
    "import seaborn as sns\n",
    "\n",
    "# Set random seed for reproducibility\n",
    "random.seed(42)"
   ]
  },
  {
   "cell_type": "code",
   "execution_count": 5,
   "metadata": {},
   "outputs": [
    {
     "name": "stdout",
     "output_type": "stream",
     "text": [
      "Model and tokenizer loaded successfully!\n"
     ]
    }
   ],
   "source": [
    "# Load the saved model and tokenizer\n",
    "model_path = \"saved_issue_model\"\n",
    "tokenizer = BertTokenizer.from_pretrained(model_path)\n",
    "model = BertForSequenceClassification.from_pretrained(model_path)\n",
    "model.eval()\n",
    "\n",
    "print(\"Model and tokenizer loaded successfully!\")"
   ]
  },
  {
   "cell_type": "code",
   "execution_count": 7,
   "metadata": {},
   "outputs": [],
   "source": [
    "# Load the dataset\n",
    "data_path = \"speeches_111_gpt_topic_labels.json\"\n",
    "with open(data_path, \"r\") as f:\n",
    "    data = json.load(f)"
   ]
  },
  {
   "cell_type": "code",
   "execution_count": 8,
   "metadata": {},
   "outputs": [
    {
     "name": "stdout",
     "output_type": "stream",
     "text": [
      "Dataset loaded with 1807 speeches.\n"
     ]
    }
   ],
   "source": [
    "# Convert JSON to DataFrame\n",
    "records = [\n",
    "    {\"speech_id\": speech_id, \"speech_content\": details[\"speech\"], \"true_issues\": details[\"topics\"]}\n",
    "    for speech_id, details in data.items()\n",
    "]\n",
    "df = pd.DataFrame(records)\n",
    "\n",
    "print(f\"Dataset loaded with {len(df)} speeches.\")"
   ]
  },
  {
   "cell_type": "code",
   "execution_count": 9,
   "metadata": {},
   "outputs": [],
   "source": [
    "# Preprocessing function\n",
    "def preprocess_data(df):\n",
    "    # Remove speeches with only \"Governance and Democracy\" as their label\n",
    "    df = df[df[\"true_issues\"].apply(lambda x: x != [\"Governance and Democracy\"])].copy()\n",
    "\n",
    "    # Remove \"Governance and Democracy\" from labels for remaining speeches\n",
    "    df.loc[:, \"true_issues\"] = df[\"true_issues\"].apply(lambda x: [topic for topic in x if topic != \"Governance and Democracy\"])\n",
    "\n",
    "    # Remove speeches with empty content or no labels\n",
    "    df = df[df[\"speech_content\"].notnull()].copy()  # Remove empty speeches\n",
    "    df = df[df[\"speech_content\"].str.strip() != \"\"].copy()  # Remove speeches with only whitespace\n",
    "    df = df[df[\"true_issues\"].apply(len) > 0].copy()  # Remove speeches with no remaining labels\n",
    "    return df"
   ]
  },
  {
   "cell_type": "code",
   "execution_count": 10,
   "metadata": {},
   "outputs": [
    {
     "name": "stdout",
     "output_type": "stream",
     "text": [
      "    speech_id                                     speech_content  \\\n",
      "2  1110123245  Madam President. I spoke at length about this ...   \n",
      "3  1110123251  Madam President. this week. March 1 through Ma...   \n",
      "4  1110123254  Madam President. I rise to acknowledge a respe...   \n",
      "5  1110123256  Madam President. I recommend to my colleagues ...   \n",
      "6  1110123260  Madam President. today I wish to commend and c...   \n",
      "\n",
      "                                         true_issues  \n",
      "2    [Economy and Jobs, Housing and Social Services]  \n",
      "3  [Health and Social Services, Education and Inn...  \n",
      "4                         [Justice and Civil Rights]  \n",
      "5  [Budget and Fiscal Responsibility, Economy and...  \n",
      "6                         [Education and Innovation]  \n",
      "Preprocessed dataset contains 1450 speeches.\n"
     ]
    }
   ],
   "source": [
    "# Apply preprocessing\n",
    "df = preprocess_data(df)\n",
    "print(df.head())\n",
    "# Print summary\n",
    "print(f\"Preprocessed dataset contains {len(df)} speeches.\")"
   ]
  },
  {
   "cell_type": "code",
   "execution_count": 12,
   "metadata": {},
   "outputs": [
    {
     "name": "stdout",
     "output_type": "stream",
     "text": [
      "Loaded unique topics: ['Agricultural Policy', 'Agriculture', 'Agriculture and Food', 'Agriculture and Food Policy', 'Agriculture and Food Security', 'Agriculture and Forestry', 'Agriculture and Rural Affairs', 'Agriculture and Rural Development', 'Budget and Fiscal Responsibility', 'Census', 'Community Development', 'Community Engagement', 'Community Service', 'Community and Civic Engagement', 'Community and Social Services', 'Culture and Arts', 'Culture and Community', 'Culture and Heritage', 'Culture and Society', 'Defense and Security', 'Disaster Relief', 'Economy and Jobs', 'Education and Innovation', 'Energy', 'Energy and Environment', 'Energy and Natural Resources', 'Environment and Energy', 'Foreign Aid', 'Foreign Policy', 'Free Speech', 'Gun Control', 'Health and Social Services', 'History and Culture', 'History and Heritage', 'Housing', 'Housing Policy', 'Housing and Community Development', 'Housing and Home Finance Agency', 'Housing and Rent Act', 'Housing and Rent Control', 'Housing and Social Services', 'Housing and Urban Affairs', 'Housing and Urban Development', 'Immigration and Border Policy', 'Infrastructure and Transportation', 'Innovation and Technology', 'International Relations', 'Justice and Civil Rights', 'Labor', 'Labor Relations', 'Labor and Employment', 'Labor and Jobs', 'Labor and Public Welfare', 'Legislative Process', 'Media and Communications', 'Population Growth and Urban Planning', 'Price Control', 'Science and Technology', 'Social Security', 'Technology and Innovation', 'Tourism', 'Trade', 'Trade Agreements', 'Trade Policy', 'Trade and Foreign Policy', 'Trade and Foreign Relations', 'Trade and International Relations', 'Trade and Tariffs', 'Transportation and Infrastructure', 'Water Issues', 'Water Rights', 'Water and Infrastructure', 'Water and Natural Resources', 'Youth Engagement']\n"
     ]
    }
   ],
   "source": [
    "# Load unique topics from training\n",
    "unique_topics_path = \"unique_topics.json\"\n",
    "with open(unique_topics_path, \"r\") as f:\n",
    "    unique_topics = json.load(f)\n",
    "\n",
    "print(\"Loaded unique topics:\", unique_topics)"
   ]
  },
  {
   "cell_type": "code",
   "execution_count": 13,
   "metadata": {},
   "outputs": [],
   "source": [
    "# Encode topics for evaluation\n",
    "def encode_topics(topics):\n",
    "    labels = [0] * len(unique_topics)\n",
    "    for topic in topics:\n",
    "        labels[unique_topics.index(topic)] = 1\n",
    "    return labels\n",
    "\n",
    "df[\"true_issues_binary\"] = df[\"true_issues\"].apply(encode_topics)"
   ]
  },
  {
   "cell_type": "code",
   "execution_count": 14,
   "metadata": {},
   "outputs": [
    {
     "name": "stdout",
     "output_type": "stream",
     "text": [
      "Sampled 500 speeches.\n"
     ]
    }
   ],
   "source": [
    "# Function to sample speeches\n",
    "def sample_speeches(df, n):\n",
    "    return df.sample(n=n, random_state=42)\n",
    "\n",
    "# Input parameter: Number of speeches to sample\n",
    "n = 500  # Modify this to tweak the sample size\n",
    "sampled_df = sample_speeches(df, n)\n",
    "\n",
    "print(f\"Sampled {n} speeches.\")"
   ]
  },
  {
   "cell_type": "code",
   "execution_count": 15,
   "metadata": {},
   "outputs": [],
   "source": [
    "# Predict issues for sampled speeches\n",
    "def predict_issues(model, tokenizer, speech, unique_topics, threshold=0.5):\n",
    "    encoding = tokenizer(\n",
    "        speech,\n",
    "        max_length=512,\n",
    "        padding=\"max_length\",\n",
    "        truncation=True,\n",
    "        return_tensors=\"pt\",\n",
    "    )\n",
    "    with torch.no_grad():\n",
    "        outputs = model(**{k: v.to(model.device) for k, v in encoding.items()})\n",
    "        probabilities = torch.sigmoid(outputs.logits).cpu().numpy().flatten()\n",
    "\n",
    "    # Convert probabilities to binary predictions\n",
    "    binary_predictions = (probabilities >= threshold).astype(int)\n",
    "    predicted_topics = [unique_topics[i] for i, label in enumerate(binary_predictions) if label == 1]\n",
    "    return predicted_topics"
   ]
  },
  {
   "cell_type": "code",
   "execution_count": 16,
   "metadata": {},
   "outputs": [],
   "source": [
    "# Predict issues for the sampled speeches\n",
    "sampled_df[\"predicted_issues\"] = sampled_df[\"speech_content\"].apply(\n",
    "    lambda x: predict_issues(model, tokenizer, x, unique_topics)\n",
    ")"
   ]
  },
  {
   "cell_type": "code",
   "execution_count": 17,
   "metadata": {},
   "outputs": [
    {
     "name": "stdout",
     "output_type": "stream",
     "text": [
      "Predictions completed.\n"
     ]
    }
   ],
   "source": [
    "# Encode predicted issues as binary vectors\n",
    "sampled_df[\"predicted_issues_binary\"] = sampled_df[\"predicted_issues\"].apply(encode_topics)\n",
    "\n",
    "print(\"Predictions completed.\")"
   ]
  },
  {
   "cell_type": "code",
   "execution_count": 18,
   "metadata": {},
   "outputs": [
    {
     "name": "stdout",
     "output_type": "stream",
     "text": [
      "       speech_id                                     speech_content  \\\n",
      "640   1110033147  I would like to point out to my friend from Mi...   \n",
      "916   1110120737  What we have before us today is a bill which. ...   \n",
      "54    1110051690  Madam Speaker. I rise today to honor the servi...   \n",
      "1718  1110134150  Madam Speaker. I rise today to introduce the \"...   \n",
      "161   1110002142  Madam Speaker. I rise in opposition to H.R. 2....   \n",
      "\n",
      "                             true_issues  \\\n",
      "640   [Budget and Fiscal Responsibility]   \n",
      "916   [Budget and Fiscal Responsibility]   \n",
      "54                [Defense and Security]   \n",
      "1718          [Justice and Civil Rights]   \n",
      "161         [Health and Social Services]   \n",
      "\n",
      "                                     true_issues_binary  \\\n",
      "640   [0, 0, 0, 0, 0, 0, 0, 0, 1, 0, 0, 0, 0, 0, 0, ...   \n",
      "916   [0, 0, 0, 0, 0, 0, 0, 0, 1, 0, 0, 0, 0, 0, 0, ...   \n",
      "54    [0, 0, 0, 0, 0, 0, 0, 0, 0, 0, 0, 0, 0, 0, 0, ...   \n",
      "1718  [0, 0, 0, 0, 0, 0, 0, 0, 0, 0, 0, 0, 0, 0, 0, ...   \n",
      "161   [0, 0, 0, 0, 0, 0, 0, 0, 0, 0, 0, 0, 0, 0, 0, ...   \n",
      "\n",
      "                        predicted_issues  \\\n",
      "640   [Budget and Fiscal Responsibility]   \n",
      "916   [Budget and Fiscal Responsibility]   \n",
      "54                [Defense and Security]   \n",
      "1718          [Justice and Civil Rights]   \n",
      "161         [Health and Social Services]   \n",
      "\n",
      "                                predicted_issues_binary  \n",
      "640   [0, 0, 0, 0, 0, 0, 0, 0, 1, 0, 0, 0, 0, 0, 0, ...  \n",
      "916   [0, 0, 0, 0, 0, 0, 0, 0, 1, 0, 0, 0, 0, 0, 0, ...  \n",
      "54    [0, 0, 0, 0, 0, 0, 0, 0, 0, 0, 0, 0, 0, 0, 0, ...  \n",
      "1718  [0, 0, 0, 0, 0, 0, 0, 0, 0, 0, 0, 0, 0, 0, 0, ...  \n",
      "161   [0, 0, 0, 0, 0, 0, 0, 0, 0, 0, 0, 0, 0, 0, 0, ...  \n"
     ]
    }
   ],
   "source": [
    "print(sampled_df.head())"
   ]
  },
  {
   "cell_type": "code",
   "execution_count": 19,
   "metadata": {},
   "outputs": [
    {
     "name": "stdout",
     "output_type": "stream",
     "text": [
      "Hamming Loss: 0.0045\n",
      "Subset Accuracy: 0.7240\n",
      "Overall Accuracy (flattened): 0.9955\n",
      "\n",
      "Classification Report:\n",
      "                                      precision    recall  f1-score   support\n",
      "\n",
      "                 Agricultural Policy       0.00      0.00      0.00         0\n",
      "                         Agriculture       0.00      0.00      0.00         0\n",
      "                Agriculture and Food       0.00      0.00      0.00         0\n",
      "         Agriculture and Food Policy       0.00      0.00      0.00         0\n",
      "       Agriculture and Food Security       0.00      0.00      0.00         0\n",
      "            Agriculture and Forestry       0.00      0.00      0.00         0\n",
      "       Agriculture and Rural Affairs       0.00      0.00      0.00         0\n",
      "   Agriculture and Rural Development       0.00      0.00      0.00         0\n",
      "    Budget and Fiscal Responsibility       0.92      0.70      0.79       105\n",
      "                              Census       0.00      0.00      0.00         0\n",
      "               Community Development       0.00      0.00      0.00         0\n",
      "                Community Engagement       0.00      0.00      0.00         0\n",
      "                   Community Service       0.00      0.00      0.00         0\n",
      "      Community and Civic Engagement       0.00      0.00      0.00         1\n",
      "       Community and Social Services       0.00      0.00      0.00         0\n",
      "                    Culture and Arts       0.00      0.00      0.00         1\n",
      "               Culture and Community       0.00      0.00      0.00         1\n",
      "                Culture and Heritage       0.00      0.00      0.00         0\n",
      "                 Culture and Society       0.00      0.00      0.00         0\n",
      "                Defense and Security       0.96      0.93      0.95        92\n",
      "                     Disaster Relief       0.00      0.00      0.00         0\n",
      "                    Economy and Jobs       0.95      0.90      0.92       134\n",
      "            Education and Innovation       0.94      0.75      0.83        64\n",
      "                              Energy       0.00      0.00      0.00         0\n",
      "              Energy and Environment       0.00      0.00      0.00         0\n",
      "        Energy and Natural Resources       0.00      0.00      0.00         0\n",
      "              Environment and Energy       0.98      0.91      0.94        44\n",
      "                         Foreign Aid       0.00      0.00      0.00         0\n",
      "                      Foreign Policy       0.00      0.00      0.00         0\n",
      "                         Free Speech       0.00      0.00      0.00         0\n",
      "                         Gun Control       0.00      0.00      0.00         0\n",
      "          Health and Social Services       0.87      0.93      0.90       142\n",
      "                 History and Culture       0.00      0.00      0.00         0\n",
      "                History and Heritage       0.00      0.00      0.00         0\n",
      "                             Housing       0.00      0.00      0.00         0\n",
      "                      Housing Policy       0.00      0.00      0.00         0\n",
      "   Housing and Community Development       0.00      0.00      0.00         0\n",
      "     Housing and Home Finance Agency       0.00      0.00      0.00         0\n",
      "                Housing and Rent Act       0.00      0.00      0.00         0\n",
      "            Housing and Rent Control       0.00      0.00      0.00         0\n",
      "         Housing and Social Services       0.00      0.00      0.00         0\n",
      "           Housing and Urban Affairs       0.00      0.00      0.00         0\n",
      "       Housing and Urban Development       0.00      0.00      0.00         0\n",
      "       Immigration and Border Policy       1.00      0.83      0.91        12\n",
      "   Infrastructure and Transportation       0.76      0.81      0.79        16\n",
      "           Innovation and Technology       0.00      0.00      0.00         0\n",
      "             International Relations       0.00      0.00      0.00         0\n",
      "            Justice and Civil Rights       0.91      0.84      0.87       128\n",
      "                               Labor       0.00      0.00      0.00         0\n",
      "                     Labor Relations       0.00      0.00      0.00         0\n",
      "                Labor and Employment       0.00      0.00      0.00         0\n",
      "                      Labor and Jobs       0.00      0.00      0.00         0\n",
      "            Labor and Public Welfare       0.00      0.00      0.00         0\n",
      "                 Legislative Process       0.00      0.00      0.00         0\n",
      "            Media and Communications       0.00      0.00      0.00         0\n",
      "Population Growth and Urban Planning       0.00      0.00      0.00         0\n",
      "                       Price Control       0.00      0.00      0.00         0\n",
      "              Science and Technology       0.00      0.00      0.00         0\n",
      "                     Social Security       0.00      0.00      0.00         0\n",
      "           Technology and Innovation       0.00      0.00      0.00         0\n",
      "                             Tourism       0.00      0.00      0.00         0\n",
      "                               Trade       0.00      0.00      0.00         0\n",
      "                    Trade Agreements       0.00      0.00      0.00         0\n",
      "                        Trade Policy       0.00      0.00      0.00         0\n",
      "            Trade and Foreign Policy       0.00      0.00      0.00         0\n",
      "         Trade and Foreign Relations       0.00      0.00      0.00         0\n",
      "   Trade and International Relations       0.00      0.00      0.00         1\n",
      "                   Trade and Tariffs       0.00      0.00      0.00         0\n",
      "   Transportation and Infrastructure       0.00      0.00      0.00         0\n",
      "                        Water Issues       0.00      0.00      0.00         0\n",
      "                        Water Rights       0.00      0.00      0.00         0\n",
      "            Water and Infrastructure       0.00      0.00      0.00         0\n",
      "         Water and Natural Resources       0.00      0.00      0.00         0\n",
      "                    Youth Engagement       0.00      0.00      0.00         0\n",
      "\n",
      "                           micro avg       0.92      0.85      0.88       741\n",
      "                           macro avg       0.11      0.10      0.11       741\n",
      "                        weighted avg       0.92      0.85      0.88       741\n",
      "                         samples avg       0.90      0.87      0.87       741\n",
      "\n"
     ]
    },
    {
     "name": "stderr",
     "output_type": "stream",
     "text": [
      "/Users/rodri/Desktop/MIT Fall 2024 Classes/6.8611/Project/NLP-Frameshifting/myenv/lib/python3.12/site-packages/sklearn/metrics/_classification.py:1531: UndefinedMetricWarning: Precision is ill-defined and being set to 0.0 in labels with no predicted samples. Use `zero_division` parameter to control this behavior.\n",
      "  _warn_prf(average, modifier, f\"{metric.capitalize()} is\", len(result))\n",
      "/Users/rodri/Desktop/MIT Fall 2024 Classes/6.8611/Project/NLP-Frameshifting/myenv/lib/python3.12/site-packages/sklearn/metrics/_classification.py:1531: UndefinedMetricWarning: Recall is ill-defined and being set to 0.0 in labels with no true samples. Use `zero_division` parameter to control this behavior.\n",
      "  _warn_prf(average, modifier, f\"{metric.capitalize()} is\", len(result))\n",
      "/Users/rodri/Desktop/MIT Fall 2024 Classes/6.8611/Project/NLP-Frameshifting/myenv/lib/python3.12/site-packages/sklearn/metrics/_classification.py:1531: UndefinedMetricWarning: F-score is ill-defined and being set to 0.0 in labels with no true nor predicted samples. Use `zero_division` parameter to control this behavior.\n",
      "  _warn_prf(average, modifier, f\"{metric.capitalize()} is\", len(result))\n",
      "/Users/rodri/Desktop/MIT Fall 2024 Classes/6.8611/Project/NLP-Frameshifting/myenv/lib/python3.12/site-packages/sklearn/metrics/_classification.py:1531: UndefinedMetricWarning: Precision is ill-defined and being set to 0.0 in samples with no predicted labels. Use `zero_division` parameter to control this behavior.\n",
      "  _warn_prf(average, modifier, f\"{metric.capitalize()} is\", len(result))\n"
     ]
    }
   ],
   "source": [
    "from sklearn.metrics import hamming_loss, classification_report, accuracy_score\n",
    "\n",
    "# Ensure true and predicted binary labels exist\n",
    "true_labels = np.array(sampled_df[\"true_issues_binary\"].tolist())\n",
    "predicted_labels = np.array(sampled_df[\"predicted_issues_binary\"].tolist())\n",
    "\n",
    "# Evaluate Hamming Loss\n",
    "hamming_loss_score = hamming_loss(true_labels, predicted_labels)\n",
    "print(f\"Hamming Loss: {hamming_loss_score:.4f}\")\n",
    "\n",
    "# Calculate Subset Accuracy\n",
    "subset_accuracy = np.mean(np.all(true_labels == predicted_labels, axis=1))\n",
    "print(f\"Subset Accuracy: {subset_accuracy:.4f}\")\n",
    "\n",
    "# Calculate Overall Accuracy\n",
    "overall_accuracy = accuracy_score(true_labels.flatten(), predicted_labels.flatten())\n",
    "print(f\"Overall Accuracy (flattened): {overall_accuracy:.4f}\")\n",
    "\n",
    "# Classification Report\n",
    "print(\"\\nClassification Report:\")\n",
    "print(classification_report(true_labels, predicted_labels, target_names=unique_topics))\n"
   ]
  },
  {
   "cell_type": "code",
   "execution_count": 20,
   "metadata": {},
   "outputs": [
    {
     "data": {
      "text/plain": [
       "<Figure size 800x600 with 0 Axes>"
      ]
     },
     "metadata": {},
     "output_type": "display_data"
    },
    {
     "data": {
      "image/png": "[encoded data removed]",
      "text/plain": [
       "<Figure size 640x480 with 2 Axes>"
      ]
     },
     "metadata": {},
     "output_type": "display_data"
    },
    {
     "name": "stdout",
     "output_type": "stream",
     "text": [
      "Overall Confusion Matrix (raw values):\n",
      "[[36203    56]\n",
      " [  110   631]]\n"
     ]
    }
   ],
   "source": [
    "from sklearn.metrics import multilabel_confusion_matrix, ConfusionMatrixDisplay\n",
    "\n",
    "# Generate confusion matrices for each label\n",
    "confusion_matrices = multilabel_confusion_matrix(true_labels, predicted_labels)\n",
    "\n",
    "# Create a combined confusion matrix\n",
    "overall_confusion_matrix = np.sum(confusion_matrices, axis=0)\n",
    "\n",
    "# Plot the overall confusion matrix\n",
    "plt.figure(figsize=(8, 6))\n",
    "ConfusionMatrixDisplay(overall_confusion_matrix, display_labels=[\"No\", \"Yes\"]).plot(cmap=\"Blues\", values_format=\"d\")\n",
    "plt.title(\"Overall Confusion Matrix\")\n",
    "plt.show()\n",
    "\n",
    "# Print the confusion matrix as raw values\n",
    "print(\"Overall Confusion Matrix (raw values):\")\n",
    "print(overall_confusion_matrix)\n"
   ]
  },
  {
   "cell_type": "code",
   "execution_count": null,
   "metadata": {},
   "outputs": [],
   "source": []
  }
 ],
 "metadata": {
  "kernelspec": {
   "display_name": "myenv",
   "language": "python",
   "name": "python3"
  },
  "language_info": {
   "codemirror_mode": {
    "name": "ipython",
    "version": 3
   },
   "file_extension": ".py",
   "mimetype": "text/x-python",
   "name": "python",
   "nbconvert_exporter": "python",
   "pygments_lexer": "ipython3",
   "version": "3.12.7"
  }
 },
 "nbformat": 4,
 "nbformat_minor": 2
}
