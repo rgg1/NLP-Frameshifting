{
 "cells": [
  {
   "cell_type": "code",
   "execution_count": null,
   "metadata": {},
   "outputs": [
    {
     "name": "stderr",
     "output_type": "stream",
     "text": [
      "/Users/rodri/Desktop/MIT Fall 2024 Classes/6.8611/Project/NLP-Frameshifting/myenv/lib/python3.12/site-packages/tqdm/auto.py:21: TqdmWarning: IProgress not found. Please update jupyter and ipywidgets. See https://ipywidgets.readthedocs.io/en/stable/user_install.html\n",
      "  from .autonotebook import tqdm as notebook_tqdm\n"
     ]
    }
   ],
   "source": [
    "# Imports\n",
    "\n",
    "import json\n",
    "import pandas as pd\n",
    "import numpy as np\n",
    "from sklearn.model_selection import train_test_split\n",
    "from sklearn.metrics import accuracy_score, multilabel_confusion_matrix, classification_report, hamming_loss\n",
    "from transformers import BertTokenizer, BertForSequenceClassification\n",
    "import torch\n",
    "import random\n",
    "import matplotlib.pyplot as plt\n",
    "import seaborn as sns\n",
    "\n",
    "# Set random seed for reproducibility\n",
    "random.seed(42)"
   ]
  },
  {
   "cell_type": "code",
   "execution_count": 2,
   "metadata": {},
   "outputs": [],
   "source": [
    "VALID_TOPICS = [\n",
    "    'Economy and Jobs',\n",
    "    'Health and Social Services',\n",
    "    'Education and Innovation',\n",
    "    'Environment and Energy',\n",
    "    'Defense and Security',\n",
    "    'Immigration and Border Policy',\n",
    "    'Justice and Civil Rights',\n",
    "    'Infrastructure and Transportation',\n",
    "    'Budget and Fiscal Responsibility'\n",
    "]"
   ]
  },
  {
   "cell_type": "code",
   "execution_count": 3,
   "metadata": {},
   "outputs": [
    {
     "name": "stdout",
     "output_type": "stream",
     "text": [
      "Model and tokenizer loaded successfully!\n"
     ]
    }
   ],
   "source": [
    "# Load the saved model and tokenizer\n",
    "model_path = \"saved_issue_model\"\n",
    "tokenizer = BertTokenizer.from_pretrained(model_path)\n",
    "model = BertForSequenceClassification.from_pretrained(model_path)\n",
    "model.eval()\n",
    "\n",
    "print(\"Model and tokenizer loaded successfully!\")"
   ]
  },
  {
   "cell_type": "code",
   "execution_count": 4,
   "metadata": {},
   "outputs": [],
   "source": [
    "# Load the dataset\n",
    "data_path = \"speeches_111_gpt_topic_labels.json\"\n",
    "with open(data_path, \"r\") as f:\n",
    "    data = json.load(f)"
   ]
  },
  {
   "cell_type": "code",
   "execution_count": 5,
   "metadata": {},
   "outputs": [
    {
     "name": "stdout",
     "output_type": "stream",
     "text": [
      "Dataset loaded with 1807 speeches.\n"
     ]
    }
   ],
   "source": [
    "# Convert JSON to DataFrame\n",
    "records = [\n",
    "    {\"speech_id\": speech_id, \"speech_content\": details[\"speech\"], \"true_issues\": details[\"topics\"]}\n",
    "    for speech_id, details in data.items()\n",
    "]\n",
    "df = pd.DataFrame(records)\n",
    "\n",
    "print(f\"Dataset loaded with {len(df)} speeches.\")"
   ]
  },
  {
   "cell_type": "code",
   "execution_count": null,
   "metadata": {},
   "outputs": [],
   "source": [
    "def preprocess_data(df):\n",
    "    \"\"\"\n",
    "    Preprocess the data by removing speeches with empty content or no labels, and removing the \"Governance and Democracy\" label.\n",
    "\n",
    "    Args:\n",
    "        df (pd.DataFrame): The raw dataset.\n",
    "\n",
    "    Returns:\n",
    "        pd.DataFrame: The preprocessed dataset.\n",
    "    \"\"\"\n",
    "    # Remove speeches with only \"Governance and Democracy\" as their label\n",
    "    df = df[df[\"true_issues\"].apply(lambda x: x != [\"Governance and Democracy\"])].copy()\n",
    "\n",
    "    df['true_issues'] = df['true_issues'].apply(\n",
    "        lambda x: [topic for topic in x if topic in VALID_TOPICS]\n",
    "    )\n",
    "\n",
    "    # Remove \"Governance and Democracy\" from labels for remaining speeches\n",
    "    df.loc[:, \"true_issues\"] = df[\"true_issues\"].apply(lambda x: [topic for topic in x if topic != \"Governance and Democracy\"])\n",
    "\n",
    "    df = df[df[\"speech_content\"].notnull()].copy()  # Remove empty speeches\n",
    "    df = df[df[\"speech_content\"].str.strip() != \"\"].copy()  # Remove speeches with only whitespace\n",
    "    df = df[df[\"true_issues\"].apply(len) > 0].copy()  # Remove speeches with no remaining labels\n",
    "    return df"
   ]
  },
  {
   "cell_type": "code",
   "execution_count": null,
   "metadata": {},
   "outputs": [
    {
     "name": "stdout",
     "output_type": "stream",
     "text": [
      "    speech_id  ...                                        true_issues\n",
      "2  1110123245  ...                                 [Economy and Jobs]\n",
      "3  1110123251  ...  [Health and Social Services, Education and Inn...\n",
      "4  1110123254  ...                         [Justice and Civil Rights]\n",
      "5  1110123256  ...  [Budget and Fiscal Responsibility, Economy and...\n",
      "6  1110123260  ...                         [Education and Innovation]\n",
      "\n",
      "[5 rows x 3 columns]\n",
      "Preprocessed dataset contains 1445 speeches.\n"
     ]
    }
   ],
   "source": [
    "df = preprocess_data(df)\n",
    "print(df.head())\n",
    "# Print summary\n",
    "print(f\"Preprocessed dataset contains {len(df)} speeches.\")"
   ]
  },
  {
   "cell_type": "code",
   "execution_count": 8,
   "metadata": {},
   "outputs": [
    {
     "name": "stdout",
     "output_type": "stream",
     "text": [
      "Loaded unique topics: ['Agricultural Policy', 'Agriculture', 'Agriculture and Food', 'Agriculture and Food Policy', 'Agriculture and Food Security', 'Agriculture and Forestry', 'Agriculture and Rural Affairs', 'Agriculture and Rural Development', 'Budget and Fiscal Responsibility', 'Census', 'Community Development', 'Community Engagement', 'Community Service', 'Community and Civic Engagement', 'Community and Social Services', 'Culture and Arts', 'Culture and Community', 'Culture and Heritage', 'Culture and Society', 'Defense and Security', 'Disaster Relief', 'Economy and Jobs', 'Education and Innovation', 'Energy', 'Energy and Environment', 'Energy and Natural Resources', 'Environment and Energy', 'Foreign Aid', 'Foreign Policy', 'Free Speech', 'Gun Control', 'Health and Social Services', 'History and Culture', 'History and Heritage', 'Housing', 'Housing Policy', 'Housing and Community Development', 'Housing and Home Finance Agency', 'Housing and Rent Act', 'Housing and Rent Control', 'Housing and Social Services', 'Housing and Urban Affairs', 'Housing and Urban Development', 'Immigration and Border Policy', 'Infrastructure and Transportation', 'Innovation and Technology', 'International Relations', 'Justice and Civil Rights', 'Labor', 'Labor Relations', 'Labor and Employment', 'Labor and Jobs', 'Labor and Public Welfare', 'Legislative Process', 'Media and Communications', 'Population Growth and Urban Planning', 'Price Control', 'Science and Technology', 'Social Security', 'Technology and Innovation', 'Tourism', 'Trade', 'Trade Agreements', 'Trade Policy', 'Trade and Foreign Policy', 'Trade and Foreign Relations', 'Trade and International Relations', 'Trade and Tariffs', 'Transportation and Infrastructure', 'Water Issues', 'Water Rights', 'Water and Infrastructure', 'Water and Natural Resources', 'Youth Engagement']\n"
     ]
    }
   ],
   "source": [
    "# Load unique topics from training\n",
    "unique_topics_path = \"unique_topics.json\"\n",
    "with open(unique_topics_path, \"r\") as f:\n",
    "    unique_topics = json.load(f)\n",
    "\n",
    "print(\"Loaded unique topics:\", unique_topics)"
   ]
  },
  {
   "cell_type": "code",
   "execution_count": null,
   "metadata": {},
   "outputs": [],
   "source": [
    "def encode_topics(topics):\n",
    "    \"\"\"\n",
    "    Encode the topics as a binary vector.\n",
    "\n",
    "    Args:\n",
    "        topics (List[str]): A list of topics.\n",
    "\n",
    "    Returns:\n",
    "        List[int]: A binary vector encoding the topics.\n",
    "    \"\"\"\n",
    "    labels = [0] * len(VALID_TOPICS)\n",
    "    for topic in topics:\n",
    "        if topic in VALID_TOPICS:\n",
    "            labels[VALID_TOPICS.index(topic)] = 1\n",
    "    return labels\n",
    "\n",
    "df[\"true_issues_binary\"] = df[\"true_issues\"].apply(encode_topics)"
   ]
  },
  {
   "cell_type": "code",
   "execution_count": null,
   "metadata": {},
   "outputs": [
    {
     "name": "stdout",
     "output_type": "stream",
     "text": [
      "Sampled 500 speeches.\n"
     ]
    }
   ],
   "source": [
    "def sample_speeches(df, n):\n",
    "    \"\"\"Function to sample speeches from the dataset.\"\"\"\n",
    "    return df.sample(n=n, random_state=42)\n",
    "\n",
    "# Number of speeches to sample\n",
    "n = 500\n",
    "sampled_df = sample_speeches(df, n)\n",
    "\n",
    "print(f\"Sampled {n} speeches.\")"
   ]
  },
  {
   "cell_type": "code",
   "execution_count": null,
   "metadata": {},
   "outputs": [],
   "source": [
    "def predict_issues(model, tokenizer, speech, unique_topics, threshold=0.5):\n",
    "    \"\"\"\n",
    "    Predict issues for a given speech.\n",
    "\n",
    "    Args:\n",
    "        model (transformers.PreTrainedModel): The trained model.\n",
    "        tokenizer (transformers.PreTrainedTokenizer): The tokenizer.\n",
    "        speech (str): The speech content.\n",
    "        unique_topics (List[str]): The unique topics from the training set.\n",
    "        threshold (float): The threshold for binary classification.\n",
    "\n",
    "    Returns:\n",
    "        List[str]: The predicted topics.\n",
    "    \"\"\"\n",
    "    encoding = tokenizer(\n",
    "        speech,\n",
    "        max_length=512,\n",
    "        padding=\"max_length\",\n",
    "        truncation=True,\n",
    "        return_tensors=\"pt\",\n",
    "    )\n",
    "    with torch.no_grad():\n",
    "        outputs = model(**{k: v.to(model.device) for k, v in encoding.items()})\n",
    "        probabilities = torch.sigmoid(outputs.logits).cpu().numpy().flatten()\n",
    "\n",
    "    # Convert probabilities to binary predictions\n",
    "    binary_predictions = (probabilities >= threshold).astype(int)\n",
    "    predicted_topics = [VALID_TOPICS[i] for i, label in enumerate(binary_predictions) if label == 1]\n",
    "    return predicted_topics"
   ]
  },
  {
   "cell_type": "code",
   "execution_count": 12,
   "metadata": {},
   "outputs": [
    {
     "ename": "IndexError",
     "evalue": "list index out of range",
     "output_type": "error",
     "traceback": [
      "\u001b[0;31m---------------------------------------------------------------------------\u001b[0m",
      "\u001b[0;31mIndexError\u001b[0m                                Traceback (most recent call last)",
      "Cell \u001b[0;32mIn[12], line 2\u001b[0m\n\u001b[1;32m      1\u001b[0m \u001b[38;5;66;03m# Predict issues for the sampled speeches\u001b[39;00m\n\u001b[0;32m----> 2\u001b[0m sampled_df[\u001b[38;5;124m\"\u001b[39m\u001b[38;5;124mpredicted_issues\u001b[39m\u001b[38;5;124m\"\u001b[39m] \u001b[38;5;241m=\u001b[39m \u001b[43msampled_df\u001b[49m\u001b[43m[\u001b[49m\u001b[38;5;124;43m\"\u001b[39;49m\u001b[38;5;124;43mspeech_content\u001b[39;49m\u001b[38;5;124;43m\"\u001b[39;49m\u001b[43m]\u001b[49m\u001b[38;5;241;43m.\u001b[39;49m\u001b[43mapply\u001b[49m\u001b[43m(\u001b[49m\n\u001b[1;32m      3\u001b[0m \u001b[43m    \u001b[49m\u001b[38;5;28;43;01mlambda\u001b[39;49;00m\u001b[43m \u001b[49m\u001b[43mx\u001b[49m\u001b[43m:\u001b[49m\u001b[43m \u001b[49m\u001b[43mpredict_issues\u001b[49m\u001b[43m(\u001b[49m\u001b[43mmodel\u001b[49m\u001b[43m,\u001b[49m\u001b[43m \u001b[49m\u001b[43mtokenizer\u001b[49m\u001b[43m,\u001b[49m\u001b[43m \u001b[49m\u001b[43mx\u001b[49m\u001b[43m,\u001b[49m\u001b[43m \u001b[49m\u001b[43munique_topics\u001b[49m\u001b[43m)\u001b[49m\n\u001b[1;32m      4\u001b[0m \u001b[43m)\u001b[49m\n",
      "File \u001b[0;32m~/Desktop/MIT Fall 2024 Classes/6.8611/Project/NLP-Frameshifting/myenv/lib/python3.12/site-packages/pandas/core/series.py:4924\u001b[0m, in \u001b[0;36mSeries.apply\u001b[0;34m(self, func, convert_dtype, args, by_row, **kwargs)\u001b[0m\n\u001b[1;32m   4789\u001b[0m \u001b[38;5;28;01mdef\u001b[39;00m \u001b[38;5;21mapply\u001b[39m(\n\u001b[1;32m   4790\u001b[0m     \u001b[38;5;28mself\u001b[39m,\n\u001b[1;32m   4791\u001b[0m     func: AggFuncType,\n\u001b[0;32m   (...)\u001b[0m\n\u001b[1;32m   4796\u001b[0m     \u001b[38;5;241m*\u001b[39m\u001b[38;5;241m*\u001b[39mkwargs,\n\u001b[1;32m   4797\u001b[0m ) \u001b[38;5;241m-\u001b[39m\u001b[38;5;241m>\u001b[39m DataFrame \u001b[38;5;241m|\u001b[39m Series:\n\u001b[1;32m   4798\u001b[0m \u001b[38;5;250m    \u001b[39m\u001b[38;5;124;03m\"\"\"\u001b[39;00m\n\u001b[1;32m   4799\u001b[0m \u001b[38;5;124;03m    Invoke function on values of Series.\u001b[39;00m\n\u001b[1;32m   4800\u001b[0m \n\u001b[0;32m   (...)\u001b[0m\n\u001b[1;32m   4915\u001b[0m \u001b[38;5;124;03m    dtype: float64\u001b[39;00m\n\u001b[1;32m   4916\u001b[0m \u001b[38;5;124;03m    \"\"\"\u001b[39;00m\n\u001b[1;32m   4917\u001b[0m     \u001b[38;5;28;01mreturn\u001b[39;00m \u001b[43mSeriesApply\u001b[49m\u001b[43m(\u001b[49m\n\u001b[1;32m   4918\u001b[0m \u001b[43m        \u001b[49m\u001b[38;5;28;43mself\u001b[39;49m\u001b[43m,\u001b[49m\n\u001b[1;32m   4919\u001b[0m \u001b[43m        \u001b[49m\u001b[43mfunc\u001b[49m\u001b[43m,\u001b[49m\n\u001b[1;32m   4920\u001b[0m \u001b[43m        \u001b[49m\u001b[43mconvert_dtype\u001b[49m\u001b[38;5;241;43m=\u001b[39;49m\u001b[43mconvert_dtype\u001b[49m\u001b[43m,\u001b[49m\n\u001b[1;32m   4921\u001b[0m \u001b[43m        \u001b[49m\u001b[43mby_row\u001b[49m\u001b[38;5;241;43m=\u001b[39;49m\u001b[43mby_row\u001b[49m\u001b[43m,\u001b[49m\n\u001b[1;32m   4922\u001b[0m \u001b[43m        \u001b[49m\u001b[43margs\u001b[49m\u001b[38;5;241;43m=\u001b[39;49m\u001b[43margs\u001b[49m\u001b[43m,\u001b[49m\n\u001b[1;32m   4923\u001b[0m \u001b[43m        \u001b[49m\u001b[43mkwargs\u001b[49m\u001b[38;5;241;43m=\u001b[39;49m\u001b[43mkwargs\u001b[49m\u001b[43m,\u001b[49m\n\u001b[0;32m-> 4924\u001b[0m \u001b[43m    \u001b[49m\u001b[43m)\u001b[49m\u001b[38;5;241;43m.\u001b[39;49m\u001b[43mapply\u001b[49m\u001b[43m(\u001b[49m\u001b[43m)\u001b[49m\n",
      "File \u001b[0;32m~/Desktop/MIT Fall 2024 Classes/6.8611/Project/NLP-Frameshifting/myenv/lib/python3.12/site-packages/pandas/core/apply.py:1427\u001b[0m, in \u001b[0;36mSeriesApply.apply\u001b[0;34m(self)\u001b[0m\n\u001b[1;32m   1424\u001b[0m     \u001b[38;5;28;01mreturn\u001b[39;00m \u001b[38;5;28mself\u001b[39m\u001b[38;5;241m.\u001b[39mapply_compat()\n\u001b[1;32m   1426\u001b[0m \u001b[38;5;66;03m# self.func is Callable\u001b[39;00m\n\u001b[0;32m-> 1427\u001b[0m \u001b[38;5;28;01mreturn\u001b[39;00m \u001b[38;5;28;43mself\u001b[39;49m\u001b[38;5;241;43m.\u001b[39;49m\u001b[43mapply_standard\u001b[49m\u001b[43m(\u001b[49m\u001b[43m)\u001b[49m\n",
      "File \u001b[0;32m~/Desktop/MIT Fall 2024 Classes/6.8611/Project/NLP-Frameshifting/myenv/lib/python3.12/site-packages/pandas/core/apply.py:1507\u001b[0m, in \u001b[0;36mSeriesApply.apply_standard\u001b[0;34m(self)\u001b[0m\n\u001b[1;32m   1501\u001b[0m \u001b[38;5;66;03m# row-wise access\u001b[39;00m\n\u001b[1;32m   1502\u001b[0m \u001b[38;5;66;03m# apply doesn't have a `na_action` keyword and for backward compat reasons\u001b[39;00m\n\u001b[1;32m   1503\u001b[0m \u001b[38;5;66;03m# we need to give `na_action=\"ignore\"` for categorical data.\u001b[39;00m\n\u001b[1;32m   1504\u001b[0m \u001b[38;5;66;03m# TODO: remove the `na_action=\"ignore\"` when that default has been changed in\u001b[39;00m\n\u001b[1;32m   1505\u001b[0m \u001b[38;5;66;03m#  Categorical (GH51645).\u001b[39;00m\n\u001b[1;32m   1506\u001b[0m action \u001b[38;5;241m=\u001b[39m \u001b[38;5;124m\"\u001b[39m\u001b[38;5;124mignore\u001b[39m\u001b[38;5;124m\"\u001b[39m \u001b[38;5;28;01mif\u001b[39;00m \u001b[38;5;28misinstance\u001b[39m(obj\u001b[38;5;241m.\u001b[39mdtype, CategoricalDtype) \u001b[38;5;28;01melse\u001b[39;00m \u001b[38;5;28;01mNone\u001b[39;00m\n\u001b[0;32m-> 1507\u001b[0m mapped \u001b[38;5;241m=\u001b[39m \u001b[43mobj\u001b[49m\u001b[38;5;241;43m.\u001b[39;49m\u001b[43m_map_values\u001b[49m\u001b[43m(\u001b[49m\n\u001b[1;32m   1508\u001b[0m \u001b[43m    \u001b[49m\u001b[43mmapper\u001b[49m\u001b[38;5;241;43m=\u001b[39;49m\u001b[43mcurried\u001b[49m\u001b[43m,\u001b[49m\u001b[43m \u001b[49m\u001b[43mna_action\u001b[49m\u001b[38;5;241;43m=\u001b[39;49m\u001b[43maction\u001b[49m\u001b[43m,\u001b[49m\u001b[43m \u001b[49m\u001b[43mconvert\u001b[49m\u001b[38;5;241;43m=\u001b[39;49m\u001b[38;5;28;43mself\u001b[39;49m\u001b[38;5;241;43m.\u001b[39;49m\u001b[43mconvert_dtype\u001b[49m\n\u001b[1;32m   1509\u001b[0m \u001b[43m\u001b[49m\u001b[43m)\u001b[49m\n\u001b[1;32m   1511\u001b[0m \u001b[38;5;28;01mif\u001b[39;00m \u001b[38;5;28mlen\u001b[39m(mapped) \u001b[38;5;129;01mand\u001b[39;00m \u001b[38;5;28misinstance\u001b[39m(mapped[\u001b[38;5;241m0\u001b[39m], ABCSeries):\n\u001b[1;32m   1512\u001b[0m     \u001b[38;5;66;03m# GH#43986 Need to do list(mapped) in order to get treated as nested\u001b[39;00m\n\u001b[1;32m   1513\u001b[0m     \u001b[38;5;66;03m#  See also GH#25959 regarding EA support\u001b[39;00m\n\u001b[1;32m   1514\u001b[0m     \u001b[38;5;28;01mreturn\u001b[39;00m obj\u001b[38;5;241m.\u001b[39m_constructor_expanddim(\u001b[38;5;28mlist\u001b[39m(mapped), index\u001b[38;5;241m=\u001b[39mobj\u001b[38;5;241m.\u001b[39mindex)\n",
      "File \u001b[0;32m~/Desktop/MIT Fall 2024 Classes/6.8611/Project/NLP-Frameshifting/myenv/lib/python3.12/site-packages/pandas/core/base.py:921\u001b[0m, in \u001b[0;36mIndexOpsMixin._map_values\u001b[0;34m(self, mapper, na_action, convert)\u001b[0m\n\u001b[1;32m    918\u001b[0m \u001b[38;5;28;01mif\u001b[39;00m \u001b[38;5;28misinstance\u001b[39m(arr, ExtensionArray):\n\u001b[1;32m    919\u001b[0m     \u001b[38;5;28;01mreturn\u001b[39;00m arr\u001b[38;5;241m.\u001b[39mmap(mapper, na_action\u001b[38;5;241m=\u001b[39mna_action)\n\u001b[0;32m--> 921\u001b[0m \u001b[38;5;28;01mreturn\u001b[39;00m \u001b[43malgorithms\u001b[49m\u001b[38;5;241;43m.\u001b[39;49m\u001b[43mmap_array\u001b[49m\u001b[43m(\u001b[49m\u001b[43marr\u001b[49m\u001b[43m,\u001b[49m\u001b[43m \u001b[49m\u001b[43mmapper\u001b[49m\u001b[43m,\u001b[49m\u001b[43m \u001b[49m\u001b[43mna_action\u001b[49m\u001b[38;5;241;43m=\u001b[39;49m\u001b[43mna_action\u001b[49m\u001b[43m,\u001b[49m\u001b[43m \u001b[49m\u001b[43mconvert\u001b[49m\u001b[38;5;241;43m=\u001b[39;49m\u001b[43mconvert\u001b[49m\u001b[43m)\u001b[49m\n",
      "File \u001b[0;32m~/Desktop/MIT Fall 2024 Classes/6.8611/Project/NLP-Frameshifting/myenv/lib/python3.12/site-packages/pandas/core/algorithms.py:1743\u001b[0m, in \u001b[0;36mmap_array\u001b[0;34m(arr, mapper, na_action, convert)\u001b[0m\n\u001b[1;32m   1741\u001b[0m values \u001b[38;5;241m=\u001b[39m arr\u001b[38;5;241m.\u001b[39mastype(\u001b[38;5;28mobject\u001b[39m, copy\u001b[38;5;241m=\u001b[39m\u001b[38;5;28;01mFalse\u001b[39;00m)\n\u001b[1;32m   1742\u001b[0m \u001b[38;5;28;01mif\u001b[39;00m na_action \u001b[38;5;129;01mis\u001b[39;00m \u001b[38;5;28;01mNone\u001b[39;00m:\n\u001b[0;32m-> 1743\u001b[0m     \u001b[38;5;28;01mreturn\u001b[39;00m \u001b[43mlib\u001b[49m\u001b[38;5;241;43m.\u001b[39;49m\u001b[43mmap_infer\u001b[49m\u001b[43m(\u001b[49m\u001b[43mvalues\u001b[49m\u001b[43m,\u001b[49m\u001b[43m \u001b[49m\u001b[43mmapper\u001b[49m\u001b[43m,\u001b[49m\u001b[43m \u001b[49m\u001b[43mconvert\u001b[49m\u001b[38;5;241;43m=\u001b[39;49m\u001b[43mconvert\u001b[49m\u001b[43m)\u001b[49m\n\u001b[1;32m   1744\u001b[0m \u001b[38;5;28;01melse\u001b[39;00m:\n\u001b[1;32m   1745\u001b[0m     \u001b[38;5;28;01mreturn\u001b[39;00m lib\u001b[38;5;241m.\u001b[39mmap_infer_mask(\n\u001b[1;32m   1746\u001b[0m         values, mapper, mask\u001b[38;5;241m=\u001b[39misna(values)\u001b[38;5;241m.\u001b[39mview(np\u001b[38;5;241m.\u001b[39muint8), convert\u001b[38;5;241m=\u001b[39mconvert\n\u001b[1;32m   1747\u001b[0m     )\n",
      "File \u001b[0;32mlib.pyx:2972\u001b[0m, in \u001b[0;36mpandas._libs.lib.map_infer\u001b[0;34m()\u001b[0m\n",
      "Cell \u001b[0;32mIn[12], line 3\u001b[0m, in \u001b[0;36m<lambda>\u001b[0;34m(x)\u001b[0m\n\u001b[1;32m      1\u001b[0m \u001b[38;5;66;03m# Predict issues for the sampled speeches\u001b[39;00m\n\u001b[1;32m      2\u001b[0m sampled_df[\u001b[38;5;124m\"\u001b[39m\u001b[38;5;124mpredicted_issues\u001b[39m\u001b[38;5;124m\"\u001b[39m] \u001b[38;5;241m=\u001b[39m sampled_df[\u001b[38;5;124m\"\u001b[39m\u001b[38;5;124mspeech_content\u001b[39m\u001b[38;5;124m\"\u001b[39m]\u001b[38;5;241m.\u001b[39mapply(\n\u001b[0;32m----> 3\u001b[0m     \u001b[38;5;28;01mlambda\u001b[39;00m x: \u001b[43mpredict_issues\u001b[49m\u001b[43m(\u001b[49m\u001b[43mmodel\u001b[49m\u001b[43m,\u001b[49m\u001b[43m \u001b[49m\u001b[43mtokenizer\u001b[49m\u001b[43m,\u001b[49m\u001b[43m \u001b[49m\u001b[43mx\u001b[49m\u001b[43m,\u001b[49m\u001b[43m \u001b[49m\u001b[43munique_topics\u001b[49m\u001b[43m)\u001b[49m\n\u001b[1;32m      4\u001b[0m )\n",
      "Cell \u001b[0;32mIn[11], line 16\u001b[0m, in \u001b[0;36mpredict_issues\u001b[0;34m(model, tokenizer, speech, unique_topics, threshold)\u001b[0m\n\u001b[1;32m     14\u001b[0m \u001b[38;5;66;03m# Convert probabilities to binary predictions\u001b[39;00m\n\u001b[1;32m     15\u001b[0m binary_predictions \u001b[38;5;241m=\u001b[39m (probabilities \u001b[38;5;241m>\u001b[39m\u001b[38;5;241m=\u001b[39m threshold)\u001b[38;5;241m.\u001b[39mastype(\u001b[38;5;28mint\u001b[39m)\n\u001b[0;32m---> 16\u001b[0m predicted_topics \u001b[38;5;241m=\u001b[39m [\u001b[43mVALID_TOPICS\u001b[49m\u001b[43m[\u001b[49m\u001b[43mi\u001b[49m\u001b[43m]\u001b[49m \u001b[38;5;28;01mfor\u001b[39;00m i, label \u001b[38;5;129;01min\u001b[39;00m \u001b[38;5;28menumerate\u001b[39m(binary_predictions) \u001b[38;5;28;01mif\u001b[39;00m label \u001b[38;5;241m==\u001b[39m \u001b[38;5;241m1\u001b[39m]\n\u001b[1;32m     17\u001b[0m \u001b[38;5;28;01mreturn\u001b[39;00m predicted_topics\n",
      "\u001b[0;31mIndexError\u001b[0m: list index out of range"
     ]
    }
   ],
   "source": [
    "# Predict issues for the sampled speeches\n",
    "sampled_df[\"predicted_issues\"] = sampled_df[\"speech_content\"].apply(\n",
    "    lambda x: predict_issues(model, tokenizer, x, unique_topics)\n",
    ")"
   ]
  },
  {
   "cell_type": "code",
   "execution_count": 17,
   "metadata": {},
   "outputs": [
    {
     "name": "stdout",
     "output_type": "stream",
     "text": [
      "Predictions completed.\n"
     ]
    }
   ],
   "source": [
    "# Encode predicted issues as binary vectors\n",
    "sampled_df[\"predicted_issues_binary\"] = sampled_df[\"predicted_issues\"].apply(encode_topics)\n",
    "\n",
    "print(\"Predictions completed.\")"
   ]
  },
  {
   "cell_type": "code",
   "execution_count": 18,
   "metadata": {},
   "outputs": [
    {
     "name": "stdout",
     "output_type": "stream",
     "text": [
      "       speech_id                                     speech_content  \\\n",
      "640   1110033147  I would like to point out to my friend from Mi...   \n",
      "916   1110120737  What we have before us today is a bill which. ...   \n",
      "54    1110051690  Madam Speaker. I rise today to honor the servi...   \n",
      "1718  1110134150  Madam Speaker. I rise today to introduce the \"...   \n",
      "161   1110002142  Madam Speaker. I rise in opposition to H.R. 2....   \n",
      "\n",
      "                             true_issues  \\\n",
      "640   [Budget and Fiscal Responsibility]   \n",
      "916   [Budget and Fiscal Responsibility]   \n",
      "54                [Defense and Security]   \n",
      "1718          [Justice and Civil Rights]   \n",
      "161         [Health and Social Services]   \n",
      "\n",
      "                                     true_issues_binary  \\\n",
      "640   [0, 0, 0, 0, 0, 0, 0, 0, 1, 0, 0, 0, 0, 0, 0, ...   \n",
      "916   [0, 0, 0, 0, 0, 0, 0, 0, 1, 0, 0, 0, 0, 0, 0, ...   \n",
      "54    [0, 0, 0, 0, 0, 0, 0, 0, 0, 0, 0, 0, 0, 0, 0, ...   \n",
      "1718  [0, 0, 0, 0, 0, 0, 0, 0, 0, 0, 0, 0, 0, 0, 0, ...   \n",
      "161   [0, 0, 0, 0, 0, 0, 0, 0, 0, 0, 0, 0, 0, 0, 0, ...   \n",
      "\n",
      "                        predicted_issues  \\\n",
      "640   [Budget and Fiscal Responsibility]   \n",
      "916   [Budget and Fiscal Responsibility]   \n",
      "54                [Defense and Security]   \n",
      "1718          [Justice and Civil Rights]   \n",
      "161         [Health and Social Services]   \n",
      "\n",
      "                                predicted_issues_binary  \n",
      "640   [0, 0, 0, 0, 0, 0, 0, 0, 1, 0, 0, 0, 0, 0, 0, ...  \n",
      "916   [0, 0, 0, 0, 0, 0, 0, 0, 1, 0, 0, 0, 0, 0, 0, ...  \n",
      "54    [0, 0, 0, 0, 0, 0, 0, 0, 0, 0, 0, 0, 0, 0, 0, ...  \n",
      "1718  [0, 0, 0, 0, 0, 0, 0, 0, 0, 0, 0, 0, 0, 0, 0, ...  \n",
      "161   [0, 0, 0, 0, 0, 0, 0, 0, 0, 0, 0, 0, 0, 0, 0, ...  \n"
     ]
    }
   ],
   "source": [
    "print(sampled_df.head())"
   ]
  },
  {
   "cell_type": "code",
   "execution_count": 19,
   "metadata": {},
   "outputs": [
    {
     "name": "stdout",
     "output_type": "stream",
     "text": [
      "Hamming Loss: 0.0045\n",
      "Subset Accuracy: 0.7240\n",
      "Overall Accuracy (flattened): 0.9955\n",
      "\n",
      "Classification Report:\n",
      "                                      precision    recall  f1-score   support\n",
      "\n",
      "                 Agricultural Policy       0.00      0.00      0.00         0\n",
      "                         Agriculture       0.00      0.00      0.00         0\n",
      "                Agriculture and Food       0.00      0.00      0.00         0\n",
      "         Agriculture and Food Policy       0.00      0.00      0.00         0\n",
      "       Agriculture and Food Security       0.00      0.00      0.00         0\n",
      "            Agriculture and Forestry       0.00      0.00      0.00         0\n",
      "       Agriculture and Rural Affairs       0.00      0.00      0.00         0\n",
      "   Agriculture and Rural Development       0.00      0.00      0.00         0\n",
      "    Budget and Fiscal Responsibility       0.92      0.70      0.79       105\n",
      "                              Census       0.00      0.00      0.00         0\n",
      "               Community Development       0.00      0.00      0.00         0\n",
      "                Community Engagement       0.00      0.00      0.00         0\n",
      "                   Community Service       0.00      0.00      0.00         0\n",
      "      Community and Civic Engagement       0.00      0.00      0.00         1\n",
      "       Community and Social Services       0.00      0.00      0.00         0\n",
      "                    Culture and Arts       0.00      0.00      0.00         1\n",
      "               Culture and Community       0.00      0.00      0.00         1\n",
      "                Culture and Heritage       0.00      0.00      0.00         0\n",
      "                 Culture and Society       0.00      0.00      0.00         0\n",
      "                Defense and Security       0.96      0.93      0.95        92\n",
      "                     Disaster Relief       0.00      0.00      0.00         0\n",
      "                    Economy and Jobs       0.95      0.90      0.92       134\n",
      "            Education and Innovation       0.94      0.75      0.83        64\n",
      "                              Energy       0.00      0.00      0.00         0\n",
      "              Energy and Environment       0.00      0.00      0.00         0\n",
      "        Energy and Natural Resources       0.00      0.00      0.00         0\n",
      "              Environment and Energy       0.98      0.91      0.94        44\n",
      "                         Foreign Aid       0.00      0.00      0.00         0\n",
      "                      Foreign Policy       0.00      0.00      0.00         0\n",
      "                         Free Speech       0.00      0.00      0.00         0\n",
      "                         Gun Control       0.00      0.00      0.00         0\n",
      "          Health and Social Services       0.87      0.93      0.90       142\n",
      "                 History and Culture       0.00      0.00      0.00         0\n",
      "                History and Heritage       0.00      0.00      0.00         0\n",
      "                             Housing       0.00      0.00      0.00         0\n",
      "                      Housing Policy       0.00      0.00      0.00         0\n",
      "   Housing and Community Development       0.00      0.00      0.00         0\n",
      "     Housing and Home Finance Agency       0.00      0.00      0.00         0\n",
      "                Housing and Rent Act       0.00      0.00      0.00         0\n",
      "            Housing and Rent Control       0.00      0.00      0.00         0\n",
      "         Housing and Social Services       0.00      0.00      0.00         0\n",
      "           Housing and Urban Affairs       0.00      0.00      0.00         0\n",
      "       Housing and Urban Development       0.00      0.00      0.00         0\n",
      "       Immigration and Border Policy       1.00      0.83      0.91        12\n",
      "   Infrastructure and Transportation       0.76      0.81      0.79        16\n",
      "           Innovation and Technology       0.00      0.00      0.00         0\n",
      "             International Relations       0.00      0.00      0.00         0\n",
      "            Justice and Civil Rights       0.91      0.84      0.87       128\n",
      "                               Labor       0.00      0.00      0.00         0\n",
      "                     Labor Relations       0.00      0.00      0.00         0\n",
      "                Labor and Employment       0.00      0.00      0.00         0\n",
      "                      Labor and Jobs       0.00      0.00      0.00         0\n",
      "            Labor and Public Welfare       0.00      0.00      0.00         0\n",
      "                 Legislative Process       0.00      0.00      0.00         0\n",
      "            Media and Communications       0.00      0.00      0.00         0\n",
      "Population Growth and Urban Planning       0.00      0.00      0.00         0\n",
      "                       Price Control       0.00      0.00      0.00         0\n",
      "              Science and Technology       0.00      0.00      0.00         0\n",
      "                     Social Security       0.00      0.00      0.00         0\n",
      "           Technology and Innovation       0.00      0.00      0.00         0\n",
      "                             Tourism       0.00      0.00      0.00         0\n",
      "                               Trade       0.00      0.00      0.00         0\n",
      "                    Trade Agreements       0.00      0.00      0.00         0\n",
      "                        Trade Policy       0.00      0.00      0.00         0\n",
      "            Trade and Foreign Policy       0.00      0.00      0.00         0\n",
      "         Trade and Foreign Relations       0.00      0.00      0.00         0\n",
      "   Trade and International Relations       0.00      0.00      0.00         1\n",
      "                   Trade and Tariffs       0.00      0.00      0.00         0\n",
      "   Transportation and Infrastructure       0.00      0.00      0.00         0\n",
      "                        Water Issues       0.00      0.00      0.00         0\n",
      "                        Water Rights       0.00      0.00      0.00         0\n",
      "            Water and Infrastructure       0.00      0.00      0.00         0\n",
      "         Water and Natural Resources       0.00      0.00      0.00         0\n",
      "                    Youth Engagement       0.00      0.00      0.00         0\n",
      "\n",
      "                           micro avg       0.92      0.85      0.88       741\n",
      "                           macro avg       0.11      0.10      0.11       741\n",
      "                        weighted avg       0.92      0.85      0.88       741\n",
      "                         samples avg       0.90      0.87      0.87       741\n",
      "\n"
     ]
    },
    {
     "name": "stderr",
     "output_type": "stream",
     "text": [
      "/Users/rodri/Desktop/MIT Fall 2024 Classes/6.8611/Project/NLP-Frameshifting/myenv/lib/python3.12/site-packages/sklearn/metrics/_classification.py:1531: UndefinedMetricWarning: Precision is ill-defined and being set to 0.0 in labels with no predicted samples. Use `zero_division` parameter to control this behavior.\n",
      "  _warn_prf(average, modifier, f\"{metric.capitalize()} is\", len(result))\n",
      "/Users/rodri/Desktop/MIT Fall 2024 Classes/6.8611/Project/NLP-Frameshifting/myenv/lib/python3.12/site-packages/sklearn/metrics/_classification.py:1531: UndefinedMetricWarning: Recall is ill-defined and being set to 0.0 in labels with no true samples. Use `zero_division` parameter to control this behavior.\n",
      "  _warn_prf(average, modifier, f\"{metric.capitalize()} is\", len(result))\n",
      "/Users/rodri/Desktop/MIT Fall 2024 Classes/6.8611/Project/NLP-Frameshifting/myenv/lib/python3.12/site-packages/sklearn/metrics/_classification.py:1531: UndefinedMetricWarning: F-score is ill-defined and being set to 0.0 in labels with no true nor predicted samples. Use `zero_division` parameter to control this behavior.\n",
      "  _warn_prf(average, modifier, f\"{metric.capitalize()} is\", len(result))\n",
      "/Users/rodri/Desktop/MIT Fall 2024 Classes/6.8611/Project/NLP-Frameshifting/myenv/lib/python3.12/site-packages/sklearn/metrics/_classification.py:1531: UndefinedMetricWarning: Precision is ill-defined and being set to 0.0 in samples with no predicted labels. Use `zero_division` parameter to control this behavior.\n",
      "  _warn_prf(average, modifier, f\"{metric.capitalize()} is\", len(result))\n"
     ]
    }
   ],
   "source": [
    "from sklearn.metrics import hamming_loss, classification_report, accuracy_score\n",
    "\n",
    "# Ensure true and predicted binary labels exist\n",
    "true_labels = np.array(sampled_df[\"true_issues_binary\"].tolist())\n",
    "predicted_labels = np.array(sampled_df[\"predicted_issues_binary\"].tolist())\n",
    "\n",
    "# Evaluate Hamming Loss\n",
    "hamming_loss_score = hamming_loss(true_labels, predicted_labels)\n",
    "print(f\"Hamming Loss: {hamming_loss_score:.4f}\")\n",
    "\n",
    "# Calculate Subset Accuracy\n",
    "subset_accuracy = np.mean(np.all(true_labels == predicted_labels, axis=1))\n",
    "print(f\"Subset Accuracy: {subset_accuracy:.4f}\")\n",
    "\n",
    "# Calculate Overall Accuracy\n",
    "overall_accuracy = accuracy_score(true_labels.flatten(), predicted_labels.flatten())\n",
    "print(f\"Overall Accuracy (flattened): {overall_accuracy:.4f}\")\n",
    "\n",
    "# Classification Report\n",
    "print(\"\\nClassification Report:\")\n",
    "print(classification_report(true_labels, predicted_labels, target_names=unique_topics))\n"
   ]
  },
  {
   "cell_type": "code",
   "execution_count": 20,
   "metadata": {},
   "outputs": [
    {
     "data": {
      "text/plain": [
       "<Figure size 800x600 with 0 Axes>"
      ]
     },
     "metadata": {},
     "output_type": "display_data"
    },
    {
     "data": {
      "image/png": "[encoded data removed]",
      "text/plain": [
       "<Figure size 640x480 with 2 Axes>"
      ]
     },
     "metadata": {},
     "output_type": "display_data"
    },
    {
     "name": "stdout",
     "output_type": "stream",
     "text": [
      "Overall Confusion Matrix (raw values):\n",
      "[[36203    56]\n",
      " [  110   631]]\n"
     ]
    }
   ],
   "source": [
    "from sklearn.metrics import multilabel_confusion_matrix, ConfusionMatrixDisplay\n",
    "\n",
    "# Generate confusion matrices for each label\n",
    "confusion_matrices = multilabel_confusion_matrix(true_labels, predicted_labels)\n",
    "\n",
    "# Create a combined confusion matrix\n",
    "overall_confusion_matrix = np.sum(confusion_matrices, axis=0)\n",
    "\n",
    "# Plot the overall confusion matrix\n",
    "plt.figure(figsize=(8, 6))\n",
    "ConfusionMatrixDisplay(overall_confusion_matrix, display_labels=[\"No\", \"Yes\"]).plot(cmap=\"Blues\", values_format=\"d\")\n",
    "plt.title(\"Overall Confusion Matrix\")\n",
    "plt.show()\n",
    "\n",
    "# Print the confusion matrix as raw values\n",
    "print(\"Overall Confusion Matrix (raw values):\")\n",
    "print(overall_confusion_matrix)\n"
   ]
  },
  {
   "cell_type": "code",
   "execution_count": null,
   "metadata": {},
   "outputs": [],
   "source": [
    "def evaluate_issue_classifier(df, n_samples=500):\n",
    "    \"\"\"\n",
    "    Evaluate the issue classifier on sampled data\n",
    "    \n",
    "    Args:\n",
    "        df (pd.DataFrame): The dataset.\n",
    "        n_samples (int): The number of speeches to sample.\n",
    "\n",
    "    Returns:\n",
    "        Tuple[Dict[str, float], Dict[str, Dict[str, float]]]: A tuple of metrics and classification report.\n",
    "    \"\"\"\n",
    "    # Sample speeches\n",
    "    sampled_df = df.sample(n=n_samples, random_state=42)\n",
    "    \n",
    "    # Make predictions\n",
    "    sampled_df['predicted_issues'] = sampled_df['speech_content'].apply(\n",
    "        lambda x: predict_issues(model, tokenizer, x)\n",
    "    )\n",
    "    \n",
    "    # Encode predictions and true labels using only valid topics\n",
    "    sampled_df['true_issues_binary'] = sampled_df['true_issues'].apply(encode_topics)\n",
    "    sampled_df['predicted_issues_binary'] = sampled_df['predicted_issues'].apply(encode_topics)\n",
    "    \n",
    "    # Convert to numpy arrays\n",
    "    true_labels = np.array(sampled_df['true_issues_binary'].tolist())\n",
    "    predicted_labels = np.array(sampled_df['predicted_issues_binary'].tolist())\n",
    "    \n",
    "    # Calculate metrics\n",
    "    metrics = {\n",
    "        'hamming_loss': hamming_loss(true_labels, predicted_labels),\n",
    "        'subset_accuracy': np.mean(np.all(true_labels == predicted_labels, axis=1)),\n",
    "        'overall_accuracy': accuracy_score(true_labels.flatten(), predicted_labels.flatten())\n",
    "    }\n",
    "    \n",
    "    # Get classification report\n",
    "    report = classification_report(\n",
    "        true_labels, \n",
    "        predicted_labels,\n",
    "        target_names=VALID_TOPICS,\n",
    "        zero_division=0,\n",
    "        output_dict=True\n",
    "    )\n",
    "    \n",
    "    # Print results\n",
    "    print(\"\\nEvaluation Results:\")\n",
    "    print(f\"Number of speeches evaluated: {n_samples}\")\n",
    "    print(f\"\\nHamming Loss: {metrics['hamming_loss']:.4f}\")\n",
    "    print(f\"Subset Accuracy: {metrics['subset_accuracy']:.4f}\")\n",
    "    print(f\"Overall Accuracy: {metrics['overall_accuracy']:.4f}\")\n",
    "    \n",
    "    print(\"\\nPer-Topic Performance:\")\n",
    "    for topic in VALID_TOPICS:\n",
    "        topic_metrics = report[topic]\n",
    "        print(f\"\\n{topic}:\")\n",
    "        print(f\"  Precision: {topic_metrics['precision']:.2f}\")\n",
    "        print(f\"  Recall: {topic_metrics['recall']:.2f}\")\n",
    "        print(f\"  F1-score: {topic_metrics['f1-score']:.2f}\")\n",
    "        print(f\"  Support: {topic_metrics['support']}\")\n",
    "    \n",
    "    print(\"\\nAggregate Scores:\")\n",
    "    print(f\"Micro avg F1: {report['micro avg']['f1-score']:.2f}\")\n",
    "    print(f\"Macro avg F1: {report['macro avg']['f1-score']:.2f}\")\n",
    "    print(f\"Weighted avg F1: {report['weighted avg']['f1-score']:.2f}\")\n",
    "    \n",
    "    return metrics, report\n",
    "\n",
    "# evaluation\n",
    "metrics, report = evaluate_issue_classifier(df, n_samples=500)"
   ]
  },
  {
   "cell_type": "code",
   "execution_count": null,
   "metadata": {},
   "outputs": [
    {
     "name": "stdout",
     "output_type": "stream",
     "text": [
      "Model and tokenizer loaded successfully!\n",
      "Loaded unique topics: ['Agricultural Policy', 'Agriculture', 'Agriculture and Food', 'Agriculture and Food Policy', 'Agriculture and Food Security', 'Agriculture and Forestry', 'Agriculture and Rural Affairs', 'Agriculture and Rural Development', 'Budget and Fiscal Responsibility', 'Census', 'Community Development', 'Community Engagement', 'Community Service', 'Community and Civic Engagement', 'Community and Social Services', 'Culture and Arts', 'Culture and Community', 'Culture and Heritage', 'Culture and Society', 'Defense and Security', 'Disaster Relief', 'Economy and Jobs', 'Education and Innovation', 'Energy', 'Energy and Environment', 'Energy and Natural Resources', 'Environment and Energy', 'Foreign Aid', 'Foreign Policy', 'Free Speech', 'Gun Control', 'Health and Social Services', 'History and Culture', 'History and Heritage', 'Housing', 'Housing Policy', 'Housing and Community Development', 'Housing and Home Finance Agency', 'Housing and Rent Act', 'Housing and Rent Control', 'Housing and Social Services', 'Housing and Urban Affairs', 'Housing and Urban Development', 'Immigration and Border Policy', 'Infrastructure and Transportation', 'Innovation and Technology', 'International Relations', 'Justice and Civil Rights', 'Labor', 'Labor Relations', 'Labor and Employment', 'Labor and Jobs', 'Labor and Public Welfare', 'Legislative Process', 'Media and Communications', 'Population Growth and Urban Planning', 'Price Control', 'Science and Technology', 'Social Security', 'Technology and Innovation', 'Tourism', 'Trade', 'Trade Agreements', 'Trade Policy', 'Trade and Foreign Policy', 'Trade and Foreign Relations', 'Trade and International Relations', 'Trade and Tariffs', 'Transportation and Infrastructure', 'Water Issues', 'Water Rights', 'Water and Infrastructure', 'Water and Natural Resources', 'Youth Engagement']\n",
      "Dataset loaded with 1807 speeches.\n",
      "Preprocessed dataset contains 1445 speeches.\n",
      "Sampled 500 speeches.\n",
      "Predictions completed.\n",
      "Hamming Loss: 0.0347\n",
      "Subset Accuracy: 0.7440\n",
      "Overall Accuracy (flattened): 0.9653\n",
      "\n",
      "Classification Report:\n",
      "                                   precision    recall  f1-score   support\n",
      "\n",
      "       Health and Social Services       0.95      0.67      0.79       118\n",
      "Infrastructure and Transportation       0.95      0.91      0.93        99\n",
      "         Education and Innovation       0.94      0.88      0.91       129\n",
      "             Defense and Security       0.98      0.86      0.92        66\n",
      " Budget and Fiscal Responsibility       0.95      0.93      0.94        43\n",
      "           Environment and Energy       0.88      0.95      0.91       146\n",
      "         Justice and Civil Rights       1.00      0.86      0.92         7\n",
      "                 Economy and Jobs       0.86      0.67      0.75        18\n",
      "    Immigration and Border Policy       0.91      0.87      0.89       117\n",
      "\n",
      "                        micro avg       0.93      0.86      0.89       743\n",
      "                        macro avg       0.94      0.84      0.88       743\n",
      "                     weighted avg       0.93      0.86      0.89       743\n",
      "                      samples avg       0.92      0.88      0.88       743\n",
      "\n"
     ]
    },
    {
     "data": {
      "text/plain": [
       "<Figure size 800x600 with 0 Axes>"
      ]
     },
     "metadata": {},
     "output_type": "display_data"
    },
    {
     "data": {
      "image/png": "[encoded data removed]",
      "text/plain": [
       "<Figure size 640x480 with 2 Axes>"
      ]
     },
     "metadata": {},
     "output_type": "display_data"
    },
    {
     "name": "stdout",
     "output_type": "stream",
     "text": [
      "Overall Confusion Matrix (raw values):\n",
      "[[3707   50]\n",
      " [ 106  637]]\n"
     ]
    }
   ],
   "source": [
    "# Imports\n",
    "\n",
    "import json\n",
    "import pandas as pd\n",
    "import numpy as np\n",
    "from sklearn.model_selection import train_test_split\n",
    "from sklearn.metrics import accuracy_score, multilabel_confusion_matrix, classification_report, ConfusionMatrixDisplay\n",
    "from transformers import BertTokenizer, BertForSequenceClassification\n",
    "import torch\n",
    "import random\n",
    "import matplotlib.pyplot as plt\n",
    "import seaborn as sns\n",
    "\n",
    "# Set random see\n",
    "random.seed(42)\n",
    "\n",
    "# Load the saved model and tokenizer\n",
    "model_path = \"saved_issue_model\"\n",
    "tokenizer = BertTokenizer.from_pretrained(model_path)\n",
    "model = BertForSequenceClassification.from_pretrained(model_path)\n",
    "model.eval()\n",
    "print(\"Model and tokenizer loaded successfully!\")\n",
    "\n",
    "# Load the dataset\n",
    "data_path = \"speeches_111_gpt_topic_labels.json\"\n",
    "with open(data_path, \"r\") as f:\n",
    "    data = json.load(f)\n",
    "\n",
    "# Load unique topics from training (keeping original order)\n",
    "unique_topics_path = \"unique_topics.json\"\n",
    "with open(unique_topics_path, \"r\") as f:\n",
    "    unique_topics = json.load(f)\n",
    "print(\"Loaded unique topics:\", unique_topics)\n",
    "\n",
    "# Define valid topics set for filtering\n",
    "VALID_TOPICS = {\n",
    "    'Economy and Jobs',\n",
    "    'Health and Social Services',\n",
    "    'Education and Innovation',\n",
    "    'Environment and Energy',\n",
    "    'Defense and Security',\n",
    "    'Immigration and Border Policy',\n",
    "    'Justice and Civil Rights',\n",
    "    'Infrastructure and Transportation',\n",
    "    'Budget and Fiscal Responsibility'\n",
    "}\n",
    "\n",
    "records = [\n",
    "    {\"speech_id\": speech_id, \"speech_content\": details[\"speech\"], \"true_issues\": details[\"topics\"]}\n",
    "    for speech_id, details in data.items()\n",
    "]\n",
    "df = pd.DataFrame(records)\n",
    "print(f\"Dataset loaded with {len(df)} speeches.\")\n",
    "\n",
    "# Preprocessing function\n",
    "def preprocess_data(df):\n",
    "    # Remove speeches with empty content or no valid labels\n",
    "    df = df[df[\"speech_content\"].notnull()].copy()\n",
    "    df = df[df[\"speech_content\"].str.strip() != \"\"].copy()\n",
    "    \n",
    "    # Filter to only valid topics\n",
    "    df['true_issues'] = df['true_issues'].apply(\n",
    "        lambda x: [topic for topic in x if topic in VALID_TOPICS]\n",
    "    )\n",
    "    df = df[df['true_issues'].apply(len) > 0].copy()\n",
    "    \n",
    "    return df\n",
    "\n",
    "# Apply preprocessing\n",
    "df = preprocess_data(df)\n",
    "print(f\"Preprocessed dataset contains {len(df)} speeches.\")\n",
    "\n",
    "# Encode topics for evaluation (using original unique_topics order)\n",
    "def encode_topics(topics):\n",
    "    labels = [0] * len(unique_topics)\n",
    "    for topic in topics:\n",
    "        if topic in unique_topics:  # Keep original index mapping\n",
    "            labels[unique_topics.index(topic)] = 1\n",
    "    return labels\n",
    "\n",
    "df[\"true_issues_binary\"] = df[\"true_issues\"].apply(encode_topics)\n",
    "\n",
    "# Function to sample speeches\n",
    "def sample_speeches(df, n):\n",
    "    return df.sample(n=n, random_state=42)\n",
    "\n",
    "# Number of speeches to sample\n",
    "n = 500\n",
    "sampled_df = sample_speeches(df, n)\n",
    "print(f\"Sampled {n} speeches.\")\n",
    "\n",
    "# Predict issues for sampled speeches\n",
    "def predict_issues(model, tokenizer, speech, threshold=0.5):\n",
    "    encoding = tokenizer(\n",
    "        speech,\n",
    "        max_length=512,\n",
    "        padding=\"max_length\",\n",
    "        truncation=True,\n",
    "        return_tensors=\"pt\"\n",
    "    )\n",
    "    \n",
    "    with torch.no_grad():\n",
    "        outputs = model(**{k: v.to(model.device) for k, v in encoding.items()})\n",
    "        probabilities = torch.sigmoid(outputs.logits).cpu().numpy().flatten()\n",
    "        \n",
    "        # Convert probabilities to binary predictions\n",
    "        binary_predictions = (probabilities >= threshold).astype(int)\n",
    "        predicted_topics = [unique_topics[i] for i, label in enumerate(binary_predictions) if label == 1]\n",
    "        # Filter to only valid topics\n",
    "        predicted_topics = [topic for topic in predicted_topics if topic in VALID_TOPICS]\n",
    "        return predicted_topics\n",
    "\n",
    "# Predict issues for the sampled speeches\n",
    "sampled_df['predicted_issues'] = sampled_df['speech_content'].apply(\n",
    "    lambda x: predict_issues(model, tokenizer, x)\n",
    ")\n",
    "\n",
    "# Encode predicted issues as binary vectors\n",
    "sampled_df['predicted_issues_binary'] = sampled_df['predicted_issues'].apply(encode_topics)\n",
    "\n",
    "print(\"Predictions completed.\")\n",
    "\n",
    "# Calculate metrics for valid topics only\n",
    "true_labels = np.array(sampled_df['true_issues_binary'].tolist())\n",
    "predicted_labels = np.array(sampled_df['predicted_issues_binary'].tolist())\n",
    "\n",
    "# Get indices of valid topics\n",
    "valid_indices = [i for i, topic in enumerate(unique_topics) if topic in VALID_TOPICS]\n",
    "\n",
    "# Filter matrices to only include valid topics\n",
    "true_labels = true_labels[:, valid_indices]\n",
    "predicted_labels = predicted_labels[:, valid_indices]\n",
    "\n",
    "# Evaluate Hamming Loss\n",
    "hamming_loss_score = hamming_loss(true_labels, predicted_labels)\n",
    "print(f\"Hamming Loss: {hamming_loss_score:.4f}\")\n",
    "\n",
    "# Calculate Subset Accuracy\n",
    "subset_accuracy = np.mean(np.all(true_labels == predicted_labels, axis=1))\n",
    "print(f\"Subset Accuracy: {subset_accuracy:.4f}\")\n",
    "\n",
    "# Calculate Overall Accuracy\n",
    "overall_accuracy = accuracy_score(true_labels.flatten(), predicted_labels.flatten())\n",
    "print(f\"Overall Accuracy (flattened): {overall_accuracy:.4f}\")\n",
    "\n",
    "# Classification Report\n",
    "valid_topic_list = list(VALID_TOPICS)\n",
    "print(\"\\nClassification Report:\")\n",
    "print(classification_report(\n",
    "    true_labels, \n",
    "    predicted_labels,\n",
    "    target_names=valid_topic_list,\n",
    "    zero_division=0\n",
    "))\n",
    "\n",
    "# Generate confusion matrices\n",
    "confusion_matrices = multilabel_confusion_matrix(true_labels, predicted_labels)\n",
    "\n",
    "# Create a combined confusion matrix\n",
    "overall_confusion_matrix = np.sum(confusion_matrices, axis=0)\n",
    "\n",
    "# Plot the overall confusion matrix\n",
    "plt.figure(figsize=(8, 6))\n",
    "ConfusionMatrixDisplay(overall_confusion_matrix, display_labels=['No', 'Yes']).plot(cmap='Blues', values_format='d')\n",
    "plt.title('Overall Confusion Matrix')\n",
    "plt.show()\n",
    "\n",
    "# Print the confusion matrix as raw values\n",
    "print(\"Overall Confusion Matrix (raw values):\")\n",
    "print(overall_confusion_matrix)"
   ]
  },
  {
   "cell_type": "code",
   "execution_count": null,
   "metadata": {},
   "outputs": [],
   "source": []
  }
 ],
 "metadata": {
  "kernelspec": {
   "display_name": "myenv",
   "language": "python",
   "name": "python3"
  },
  "language_info": {
   "codemirror_mode": {
    "name": "ipython",
    "version": 3
   },
   "file_extension": ".py",
   "mimetype": "text/x-python",
   "name": "python",
   "nbconvert_exporter": "python",
   "pygments_lexer": "ipython3",
   "version": "3.12.7"
  }
 },
 "nbformat": 4,
 "nbformat_minor": 2
}
